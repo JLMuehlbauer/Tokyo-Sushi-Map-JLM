{
 "cells": [
  {
   "cell_type": "markdown",
   "id": "1c525259",
   "metadata": {},
   "source": [
    "# Tokyo Sushi Map\n",
    "\n",
    "## Introduction:\n",
    "My girlfriend and I will be traveling to Tokyo this summer and being the sushi lovers we are, we want convenient way to stake out the best ares of Tokyo to eat delicious lunch and dinners.\n",
    "\n",
    "This code uses Data obtained from the Yelp API to map out the locations of the best sushi shops in Tokyo. \n"
   ]
  },
  {
   "cell_type": "code",
   "execution_count": 1,
   "id": "dc3d1dd4",
   "metadata": {},
   "outputs": [],
   "source": [
    "# imports\n",
    "import json\n",
    "import pandas as pd\n",
    "from yelpapi import YelpAPI\n",
    "import os, json, math, time\n",
    "from tqdm.notebook import tqdm_notebook\n",
    "\n",
    "from dash import Dash, dcc, html, Input, Output\n",
    "import plotly.express as px\n",
    "import pandas as pd\n",
    "import numpy as np\n",
    "import matplotlib.pyplot as plt\n",
    "import seaborn as sns"
   ]
  },
  {
   "cell_type": "code",
   "execution_count": 2,
   "id": "b0dc451d",
   "metadata": {},
   "outputs": [
    {
     "data": {
      "text/plain": [
       "dict_keys(['client-id', 'api-key'])"
      ]
     },
     "execution_count": 2,
     "metadata": {},
     "output_type": "execute_result"
    }
   ],
   "source": [
    "# fetching API credentials\n",
    "with open('/Users/jacksonmuehlbauer/.secret/yelp_api.json') as f:\n",
    "    login = json.load(f)\n",
    "\n",
    "login.keys()"
   ]
  },
  {
   "cell_type": "code",
   "execution_count": 3,
   "id": "153630e1",
   "metadata": {},
   "outputs": [
    {
     "data": {
      "text/plain": [
       "<yelpapi.yelpapi.YelpAPI at 0x1057cb5e0>"
      ]
     },
     "execution_count": 3,
     "metadata": {},
     "output_type": "execute_result"
    }
   ],
   "source": [
    "# make yelp_api variable\n",
    "yelp_api = YelpAPI(login['api-key'], timeout_s=5.0)\n",
    "yelp_api"
   ]
  },
  {
   "cell_type": "code",
   "execution_count": 4,
   "id": "1aa96000",
   "metadata": {},
   "outputs": [],
   "source": [
    "# search conditions\n",
    "LOCATION = 'Tokyo, Japan'\n",
    "TERM = 'Sushi'"
   ]
  },
  {
   "cell_type": "code",
   "execution_count": 11,
   "id": "bc3fdb37",
   "metadata": {},
   "outputs": [],
   "source": [
    "# Instantiate json file name to store Yelp data\n",
    "JSON_FILE = 'Data/tokyo_sushi.json'"
   ]
  },
  {
   "cell_type": "code",
   "execution_count": 9,
   "id": "a3c26619",
   "metadata": {},
   "outputs": [],
   "source": [
    "# function to create JSON file\n",
    "def create_json_file(JSON_FILE,  delete_if_exists=False):\n",
    "    \n",
    "    ## Check if JSON_FILE exists\n",
    "    file_exists = os.path.isfile(JSON_FILE)\n",
    "    \n",
    "    ## If it DOES exist:\n",
    "    if file_exists == True:\n",
    "        \n",
    "        ## Check if user wants to delete if exists\n",
    "        if delete_if_exists==True:\n",
    "            \n",
    "            print(f\"[!] {JSON_FILE} already exists. Deleting previous file...\")\n",
    "            ## delete file and confirm it no longer exits.\n",
    "            os.remove(JSON_FILE)\n",
    "            ## Recursive call to function after old file deleted\n",
    "            create_json_file(JSON_FILE,delete_if_exists=False)\n",
    "        else:\n",
    "            print(f\"[i] {JSON_FILE} already exists.\")            \n",
    "            \n",
    "            \n",
    "    ## If it does NOT exist:\n",
    "    else:\n",
    "        \n",
    "        ## INFORM USER AND SAVE EMPTY LIST\n",
    "        print(f\"[i] {JSON_FILE} not found. Saving empty list to new file.\")\n",
    "        \n",
    "        ## CREATE ANY NEEDED FOLDERS\n",
    "        # Get the Folder Name only\n",
    "        folder = os.path.dirname(JSON_FILE)\n",
    "        \n",
    "        ## If JSON_FILE included a folder:\n",
    "        if len(folder)>0:\n",
    "            # create the folder\n",
    "            os.makedirs(folder,exist_ok=True)\n",
    "        ## Save empty list to start the json file\n",
    "        with open(JSON_FILE,'w') as f:\n",
    "            json.dump([],f)"
   ]
  },
  {
   "cell_type": "code",
   "execution_count": 13,
   "id": "ba02ec5d",
   "metadata": {},
   "outputs": [
    {
     "name": "stdout",
     "output_type": "stream",
     "text": [
      "[!] Data/tokyo_sushi.json already exists. Deleting previous file...\n",
      "[i] Data/tokyo_sushi.json not found. Saving empty list to new file.\n",
      "- 0 previous results found.\n"
     ]
    },
    {
     "data": {
      "text/plain": [
       "85"
      ]
     },
     "execution_count": 13,
     "metadata": {},
     "output_type": "execute_result"
    }
   ],
   "source": [
    "## Create a new empty json file (exist the previous if it exists)\n",
    "create_json_file(JSON_FILE, delete_if_exists = True)\n",
    "\n",
    "## Load previous results and use len of results for offset\n",
    "\n",
    "with open(JSON_FILE, 'r') as f:\n",
    "    previous_results = json.load(f)\n",
    "    \n",
    "# set offset based on previous results\n",
    "n_results = len(previous_results)\n",
    "print(f'- {n_results} previous results found.')\n",
    "\n",
    "# use out yelp_api variable's search_query method to perform our API call\n",
    "\n",
    "results = yelp_api.search_query(location = LOCATION, term = TERM, offset = n_results)\n",
    "\n",
    "## How many results total?\n",
    "total_results = results['total']\n",
    "\n",
    "## How many did we got the details for?\n",
    "results_per_page = len(results['businesses'])\n",
    "\n",
    "# Use math.ceil to round up for the total number of pages of results\n",
    "n_pages = math.ceil((results['total']-n_results)/results_per_page)\n",
    "n_pages"
   ]
  },
  {
   "cell_type": "code",
   "execution_count": 15,
   "id": "34e03935",
   "metadata": {},
   "outputs": [
    {
     "data": {
      "application/vnd.jupyter.widget-view+json": {
       "model_id": "1b45ac49a5174734b17b83b812caaaa9",
       "version_major": 2,
       "version_minor": 0
      },
      "text/plain": [
       "  0%|          | 0/85 [00:00<?, ?it/s]"
      ]
     },
     "metadata": {},
     "output_type": "display_data"
    },
    {
     "name": "stdout",
     "output_type": "stream",
     "text": [
      "Exceeded 1000 api calls. Stopping loop.\n"
     ]
    }
   ],
   "source": [
    "# Fetching data from Yelp API\n",
    "for i in tqdm_notebook( range(1,n_pages+1)):\n",
    "    \n",
    "    ## Read in results in progress file and check the length\n",
    "    with open(JSON_FILE, 'r') as f:\n",
    "        previous_results = json.load(f)\n",
    "    ## save number of results for to use as offset\n",
    "    n_results = len(previous_results)\n",
    "    \n",
    "    if (n_results + results_per_page) > 1000:\n",
    "        print('Exceeded 1000 api calls. Stopping loop.')\n",
    "        break\n",
    "    \n",
    "    ## use n_results as the OFFSET \n",
    "    results = yelp_api.search_query(location=LOCATION,\n",
    "                                    term=TERM, \n",
    "                                    offset=n_results)\n",
    "    \n",
    "    \n",
    "    \n",
    "    ## append new results and save to file\n",
    "    previous_results.extend(results['businesses'])\n",
    "    \n",
    "    # display(previous_results)\n",
    "    with open(JSON_FILE,'w') as f:\n",
    "        json.dump(previous_results,f)\n",
    "    \n",
    "    time.sleep(.2)"
   ]
  },
  {
   "cell_type": "code",
   "execution_count": 17,
   "id": "fc7bd01c",
   "metadata": {},
   "outputs": [
    {
     "data": {
      "text/html": [
       "<div>\n",
       "<style scoped>\n",
       "    .dataframe tbody tr th:only-of-type {\n",
       "        vertical-align: middle;\n",
       "    }\n",
       "\n",
       "    .dataframe tbody tr th {\n",
       "        vertical-align: top;\n",
       "    }\n",
       "\n",
       "    .dataframe thead th {\n",
       "        text-align: right;\n",
       "    }\n",
       "</style>\n",
       "<table border=\"1\" class=\"dataframe\">\n",
       "  <thead>\n",
       "    <tr style=\"text-align: right;\">\n",
       "      <th></th>\n",
       "      <th>id</th>\n",
       "      <th>alias</th>\n",
       "      <th>name</th>\n",
       "      <th>image_url</th>\n",
       "      <th>is_closed</th>\n",
       "      <th>url</th>\n",
       "      <th>review_count</th>\n",
       "      <th>categories</th>\n",
       "      <th>rating</th>\n",
       "      <th>coordinates</th>\n",
       "      <th>transactions</th>\n",
       "      <th>price</th>\n",
       "      <th>location</th>\n",
       "      <th>phone</th>\n",
       "      <th>display_phone</th>\n",
       "      <th>distance</th>\n",
       "    </tr>\n",
       "  </thead>\n",
       "  <tbody>\n",
       "    <tr>\n",
       "      <th>0</th>\n",
       "      <td>99Sj_zOKkFWglZ3w0_2VDw</td>\n",
       "      <td>すしざんまい-本店-中央区</td>\n",
       "      <td>SUSHIZANMAI Honten</td>\n",
       "      <td>https://s3-media2.fl.yelpcdn.com/bphoto/awbiuv...</td>\n",
       "      <td>False</td>\n",
       "      <td>https://www.yelp.com/biz/%E3%81%99%E3%81%97%E3...</td>\n",
       "      <td>162</td>\n",
       "      <td>[{'alias': 'sushi', 'title': 'Sushi Bars'}, {'...</td>\n",
       "      <td>4.5</td>\n",
       "      <td>{'latitude': 35.665917, 'longitude': 139.770608}</td>\n",
       "      <td>[]</td>\n",
       "      <td>￥￥</td>\n",
       "      <td>{'address1': '築地4-11-9', 'address2': '', 'addr...</td>\n",
       "      <td>+81335411117</td>\n",
       "      <td>+81 3-3541-1117</td>\n",
       "      <td>2152.458425</td>\n",
       "    </tr>\n",
       "    <tr>\n",
       "      <th>1</th>\n",
       "      <td>7r7GNKYRS3AwxzNE94CNLA</td>\n",
       "      <td>築地-斉藤水産-中央区</td>\n",
       "      <td>Tsukiji Saito's Fish Market</td>\n",
       "      <td>https://s3-media1.fl.yelpcdn.com/bphoto/tJmuZC...</td>\n",
       "      <td>False</td>\n",
       "      <td>https://www.yelp.com/biz/%E7%AF%89%E5%9C%B0-%E...</td>\n",
       "      <td>49</td>\n",
       "      <td>[{'alias': 'seafoodmarkets', 'title': 'Seafood...</td>\n",
       "      <td>5.0</td>\n",
       "      <td>{'latitude': 35.665527, 'longitude': 139.77049...</td>\n",
       "      <td>[]</td>\n",
       "      <td>￥￥</td>\n",
       "      <td>{'address1': '築地4-10-5', 'address2': None, 'ad...</td>\n",
       "      <td>+81335412314</td>\n",
       "      <td>+81 3-3541-2314</td>\n",
       "      <td>2193.611785</td>\n",
       "    </tr>\n",
       "    <tr>\n",
       "      <th>2</th>\n",
       "      <td>tVnM-RBSOaaeVeLgyt1j6w</td>\n",
       "      <td>すしざんまい-浅草雷門店-台東区</td>\n",
       "      <td>Sushizanmai Asakusakaminarimon</td>\n",
       "      <td>https://s3-media4.fl.yelpcdn.com/bphoto/co2q0n...</td>\n",
       "      <td>False</td>\n",
       "      <td>https://www.yelp.com/biz/%E3%81%99%E3%81%97%E3...</td>\n",
       "      <td>34</td>\n",
       "      <td>[{'alias': 'sushi', 'title': 'Sushi Bars'}]</td>\n",
       "      <td>4.5</td>\n",
       "      <td>{'latitude': 35.7112256125179, 'longitude': 13...</td>\n",
       "      <td>[]</td>\n",
       "      <td>￥</td>\n",
       "      <td>{'address1': '浅草1丁目3-6', 'address2': None, 'ad...</td>\n",
       "      <td>+81358261375</td>\n",
       "      <td>+81 3-5826-1375</td>\n",
       "      <td>3909.566155</td>\n",
       "    </tr>\n",
       "    <tr>\n",
       "      <th>3</th>\n",
       "      <td>jk3HWTcRje8_bqI6z86JAA</td>\n",
       "      <td>日向丸-浅草本店-台東区</td>\n",
       "      <td>Hinatomaru Asakusa</td>\n",
       "      <td>https://s3-media1.fl.yelpcdn.com/bphoto/V04Jbu...</td>\n",
       "      <td>False</td>\n",
       "      <td>https://www.yelp.com/biz/%E6%97%A5%E5%90%91%E4...</td>\n",
       "      <td>48</td>\n",
       "      <td>[{'alias': 'sushi', 'title': 'Sushi Bars'}]</td>\n",
       "      <td>4.5</td>\n",
       "      <td>{'latitude': 35.711847, 'longitude': 139.795839}</td>\n",
       "      <td>[]</td>\n",
       "      <td>￥</td>\n",
       "      <td>{'address1': '浅草1-20-10', 'address2': '', 'add...</td>\n",
       "      <td>+81358064222</td>\n",
       "      <td>+81 3-5806-4222</td>\n",
       "      <td>3978.818528</td>\n",
       "    </tr>\n",
       "    <tr>\n",
       "      <th>4</th>\n",
       "      <td>B-mK2UEmHN9TRDDtzvMKrg</td>\n",
       "      <td>魚がし日本一-新宿西口店-新宿区</td>\n",
       "      <td>Uogashi Nihon Ichi Shinjuku Nishiguchi</td>\n",
       "      <td>https://s3-media3.fl.yelpcdn.com/bphoto/IHxsk7...</td>\n",
       "      <td>False</td>\n",
       "      <td>https://www.yelp.com/biz/%E9%AD%9A%E3%81%8C%E3...</td>\n",
       "      <td>119</td>\n",
       "      <td>[{'alias': 'sushi', 'title': 'Sushi Bars'}, {'...</td>\n",
       "      <td>4.5</td>\n",
       "      <td>{'latitude': 35.6899698, 'longitude': 139.6972...</td>\n",
       "      <td>[]</td>\n",
       "      <td>￥</td>\n",
       "      <td>{'address1': '西新宿1-12', 'address2': '河西ビル1F', ...</td>\n",
       "      <td>+81333491739</td>\n",
       "      <td>+81 3-3349-1739</td>\n",
       "      <td>6292.266128</td>\n",
       "    </tr>\n",
       "  </tbody>\n",
       "</table>\n",
       "</div>"
      ],
      "text/plain": [
       "                       id             alias  \\\n",
       "0  99Sj_zOKkFWglZ3w0_2VDw     すしざんまい-本店-中央区   \n",
       "1  7r7GNKYRS3AwxzNE94CNLA       築地-斉藤水産-中央区   \n",
       "2  tVnM-RBSOaaeVeLgyt1j6w  すしざんまい-浅草雷門店-台東区   \n",
       "3  jk3HWTcRje8_bqI6z86JAA      日向丸-浅草本店-台東区   \n",
       "4  B-mK2UEmHN9TRDDtzvMKrg  魚がし日本一-新宿西口店-新宿区   \n",
       "\n",
       "                                     name  \\\n",
       "0                      SUSHIZANMAI Honten   \n",
       "1             Tsukiji Saito's Fish Market   \n",
       "2          Sushizanmai Asakusakaminarimon   \n",
       "3                      Hinatomaru Asakusa   \n",
       "4  Uogashi Nihon Ichi Shinjuku Nishiguchi   \n",
       "\n",
       "                                           image_url  is_closed  \\\n",
       "0  https://s3-media2.fl.yelpcdn.com/bphoto/awbiuv...      False   \n",
       "1  https://s3-media1.fl.yelpcdn.com/bphoto/tJmuZC...      False   \n",
       "2  https://s3-media4.fl.yelpcdn.com/bphoto/co2q0n...      False   \n",
       "3  https://s3-media1.fl.yelpcdn.com/bphoto/V04Jbu...      False   \n",
       "4  https://s3-media3.fl.yelpcdn.com/bphoto/IHxsk7...      False   \n",
       "\n",
       "                                                 url  review_count  \\\n",
       "0  https://www.yelp.com/biz/%E3%81%99%E3%81%97%E3...           162   \n",
       "1  https://www.yelp.com/biz/%E7%AF%89%E5%9C%B0-%E...            49   \n",
       "2  https://www.yelp.com/biz/%E3%81%99%E3%81%97%E3...            34   \n",
       "3  https://www.yelp.com/biz/%E6%97%A5%E5%90%91%E4...            48   \n",
       "4  https://www.yelp.com/biz/%E9%AD%9A%E3%81%8C%E3...           119   \n",
       "\n",
       "                                          categories  rating  \\\n",
       "0  [{'alias': 'sushi', 'title': 'Sushi Bars'}, {'...     4.5   \n",
       "1  [{'alias': 'seafoodmarkets', 'title': 'Seafood...     5.0   \n",
       "2        [{'alias': 'sushi', 'title': 'Sushi Bars'}]     4.5   \n",
       "3        [{'alias': 'sushi', 'title': 'Sushi Bars'}]     4.5   \n",
       "4  [{'alias': 'sushi', 'title': 'Sushi Bars'}, {'...     4.5   \n",
       "\n",
       "                                         coordinates transactions price  \\\n",
       "0   {'latitude': 35.665917, 'longitude': 139.770608}           []    ￥￥   \n",
       "1  {'latitude': 35.665527, 'longitude': 139.77049...           []    ￥￥   \n",
       "2  {'latitude': 35.7112256125179, 'longitude': 13...           []     ￥   \n",
       "3   {'latitude': 35.711847, 'longitude': 139.795839}           []     ￥   \n",
       "4  {'latitude': 35.6899698, 'longitude': 139.6972...           []     ￥   \n",
       "\n",
       "                                            location         phone  \\\n",
       "0  {'address1': '築地4-11-9', 'address2': '', 'addr...  +81335411117   \n",
       "1  {'address1': '築地4-10-5', 'address2': None, 'ad...  +81335412314   \n",
       "2  {'address1': '浅草1丁目3-6', 'address2': None, 'ad...  +81358261375   \n",
       "3  {'address1': '浅草1-20-10', 'address2': '', 'add...  +81358064222   \n",
       "4  {'address1': '西新宿1-12', 'address2': '河西ビル1F', ...  +81333491739   \n",
       "\n",
       "     display_phone     distance  \n",
       "0  +81 3-3541-1117  2152.458425  \n",
       "1  +81 3-3541-2314  2193.611785  \n",
       "2  +81 3-5826-1375  3909.566155  \n",
       "3  +81 3-5806-4222  3978.818528  \n",
       "4  +81 3-3349-1739  6292.266128  "
      ]
     },
     "execution_count": 17,
     "metadata": {},
     "output_type": "execute_result"
    }
   ],
   "source": [
    "# load json file\n",
    "df = pd.read_json(JSON_FILE)\n",
    "df.head()"
   ]
  },
  {
   "cell_type": "code",
   "execution_count": 18,
   "id": "59c1ed96",
   "metadata": {},
   "outputs": [
    {
     "name": "stdout",
     "output_type": "stream",
     "text": [
      "<class 'pandas.core.frame.DataFrame'>\n",
      "RangeIndex: 1000 entries, 0 to 999\n",
      "Data columns (total 16 columns):\n",
      " #   Column         Non-Null Count  Dtype  \n",
      "---  ------         --------------  -----  \n",
      " 0   id             1000 non-null   object \n",
      " 1   alias          1000 non-null   object \n",
      " 2   name           1000 non-null   object \n",
      " 3   image_url      1000 non-null   object \n",
      " 4   is_closed      1000 non-null   bool   \n",
      " 5   url            1000 non-null   object \n",
      " 6   review_count   1000 non-null   int64  \n",
      " 7   categories     1000 non-null   object \n",
      " 8   rating         1000 non-null   float64\n",
      " 9   coordinates    1000 non-null   object \n",
      " 10  transactions   1000 non-null   object \n",
      " 11  price          474 non-null    object \n",
      " 12  location       1000 non-null   object \n",
      " 13  phone          1000 non-null   object \n",
      " 14  display_phone  1000 non-null   object \n",
      " 15  distance       1000 non-null   float64\n",
      "dtypes: bool(1), float64(2), int64(1), object(12)\n",
      "memory usage: 118.3+ KB\n"
     ]
    }
   ],
   "source": [
    "# Exploring data\n",
    "df.info()"
   ]
  },
  {
   "cell_type": "code",
   "execution_count": 27,
   "id": "775ad5ed",
   "metadata": {},
   "outputs": [
    {
     "data": {
      "text/html": [
       "<div>\n",
       "<style scoped>\n",
       "    .dataframe tbody tr th:only-of-type {\n",
       "        vertical-align: middle;\n",
       "    }\n",
       "\n",
       "    .dataframe tbody tr th {\n",
       "        vertical-align: top;\n",
       "    }\n",
       "\n",
       "    .dataframe thead th {\n",
       "        text-align: right;\n",
       "    }\n",
       "</style>\n",
       "<table border=\"1\" class=\"dataframe\">\n",
       "  <thead>\n",
       "    <tr style=\"text-align: right;\">\n",
       "      <th></th>\n",
       "      <th>id</th>\n",
       "      <th>alias</th>\n",
       "      <th>name</th>\n",
       "      <th>image_url</th>\n",
       "      <th>is_closed</th>\n",
       "      <th>url</th>\n",
       "      <th>review_count</th>\n",
       "      <th>categories</th>\n",
       "      <th>rating</th>\n",
       "      <th>coordinates</th>\n",
       "      <th>transactions</th>\n",
       "      <th>price</th>\n",
       "      <th>location</th>\n",
       "      <th>phone</th>\n",
       "      <th>display_phone</th>\n",
       "      <th>distance</th>\n",
       "      <th>latitude</th>\n",
       "      <th>longitude</th>\n",
       "    </tr>\n",
       "  </thead>\n",
       "  <tbody>\n",
       "    <tr>\n",
       "      <th>0</th>\n",
       "      <td>99Sj_zOKkFWglZ3w0_2VDw</td>\n",
       "      <td>すしざんまい-本店-中央区</td>\n",
       "      <td>SUSHIZANMAI Honten</td>\n",
       "      <td>https://s3-media2.fl.yelpcdn.com/bphoto/awbiuv...</td>\n",
       "      <td>False</td>\n",
       "      <td>https://www.yelp.com/biz/%E3%81%99%E3%81%97%E3...</td>\n",
       "      <td>162</td>\n",
       "      <td>[{'alias': 'sushi', 'title': 'Sushi Bars'}, {'...</td>\n",
       "      <td>4.5</td>\n",
       "      <td>{'latitude': 35.665917, 'longitude': 139.770608}</td>\n",
       "      <td>[]</td>\n",
       "      <td>￥￥</td>\n",
       "      <td>{'address1': '築地4-11-9', 'address2': '', 'addr...</td>\n",
       "      <td>+81335411117</td>\n",
       "      <td>+81 3-3541-1117</td>\n",
       "      <td>2152.458425</td>\n",
       "      <td>35.665917</td>\n",
       "      <td>139.770608</td>\n",
       "    </tr>\n",
       "    <tr>\n",
       "      <th>1</th>\n",
       "      <td>7r7GNKYRS3AwxzNE94CNLA</td>\n",
       "      <td>築地-斉藤水産-中央区</td>\n",
       "      <td>Tsukiji Saito's Fish Market</td>\n",
       "      <td>https://s3-media1.fl.yelpcdn.com/bphoto/tJmuZC...</td>\n",
       "      <td>False</td>\n",
       "      <td>https://www.yelp.com/biz/%E7%AF%89%E5%9C%B0-%E...</td>\n",
       "      <td>49</td>\n",
       "      <td>[{'alias': 'seafoodmarkets', 'title': 'Seafood...</td>\n",
       "      <td>5.0</td>\n",
       "      <td>{'latitude': 35.665527, 'longitude': 139.77049...</td>\n",
       "      <td>[]</td>\n",
       "      <td>￥￥</td>\n",
       "      <td>{'address1': '築地4-10-5', 'address2': None, 'ad...</td>\n",
       "      <td>+81335412314</td>\n",
       "      <td>+81 3-3541-2314</td>\n",
       "      <td>2193.611785</td>\n",
       "      <td>35.665527</td>\n",
       "      <td>139.770494</td>\n",
       "    </tr>\n",
       "    <tr>\n",
       "      <th>2</th>\n",
       "      <td>tVnM-RBSOaaeVeLgyt1j6w</td>\n",
       "      <td>すしざんまい-浅草雷門店-台東区</td>\n",
       "      <td>Sushizanmai Asakusakaminarimon</td>\n",
       "      <td>https://s3-media4.fl.yelpcdn.com/bphoto/co2q0n...</td>\n",
       "      <td>False</td>\n",
       "      <td>https://www.yelp.com/biz/%E3%81%99%E3%81%97%E3...</td>\n",
       "      <td>34</td>\n",
       "      <td>[{'alias': 'sushi', 'title': 'Sushi Bars'}]</td>\n",
       "      <td>4.5</td>\n",
       "      <td>{'latitude': 35.7112256125179, 'longitude': 13...</td>\n",
       "      <td>[]</td>\n",
       "      <td>￥</td>\n",
       "      <td>{'address1': '浅草1丁目3-6', 'address2': None, 'ad...</td>\n",
       "      <td>+81358261375</td>\n",
       "      <td>+81 3-5826-1375</td>\n",
       "      <td>3909.566155</td>\n",
       "      <td>35.711226</td>\n",
       "      <td>139.795546</td>\n",
       "    </tr>\n",
       "    <tr>\n",
       "      <th>3</th>\n",
       "      <td>jk3HWTcRje8_bqI6z86JAA</td>\n",
       "      <td>日向丸-浅草本店-台東区</td>\n",
       "      <td>Hinatomaru Asakusa</td>\n",
       "      <td>https://s3-media1.fl.yelpcdn.com/bphoto/V04Jbu...</td>\n",
       "      <td>False</td>\n",
       "      <td>https://www.yelp.com/biz/%E6%97%A5%E5%90%91%E4...</td>\n",
       "      <td>48</td>\n",
       "      <td>[{'alias': 'sushi', 'title': 'Sushi Bars'}]</td>\n",
       "      <td>4.5</td>\n",
       "      <td>{'latitude': 35.711847, 'longitude': 139.795839}</td>\n",
       "      <td>[]</td>\n",
       "      <td>￥</td>\n",
       "      <td>{'address1': '浅草1-20-10', 'address2': '', 'add...</td>\n",
       "      <td>+81358064222</td>\n",
       "      <td>+81 3-5806-4222</td>\n",
       "      <td>3978.818528</td>\n",
       "      <td>35.711847</td>\n",
       "      <td>139.795839</td>\n",
       "    </tr>\n",
       "    <tr>\n",
       "      <th>4</th>\n",
       "      <td>B-mK2UEmHN9TRDDtzvMKrg</td>\n",
       "      <td>魚がし日本一-新宿西口店-新宿区</td>\n",
       "      <td>Uogashi Nihon Ichi Shinjuku Nishiguchi</td>\n",
       "      <td>https://s3-media3.fl.yelpcdn.com/bphoto/IHxsk7...</td>\n",
       "      <td>False</td>\n",
       "      <td>https://www.yelp.com/biz/%E9%AD%9A%E3%81%8C%E3...</td>\n",
       "      <td>119</td>\n",
       "      <td>[{'alias': 'sushi', 'title': 'Sushi Bars'}, {'...</td>\n",
       "      <td>4.5</td>\n",
       "      <td>{'latitude': 35.6899698, 'longitude': 139.6972...</td>\n",
       "      <td>[]</td>\n",
       "      <td>￥</td>\n",
       "      <td>{'address1': '西新宿1-12', 'address2': '河西ビル1F', ...</td>\n",
       "      <td>+81333491739</td>\n",
       "      <td>+81 3-3349-1739</td>\n",
       "      <td>6292.266128</td>\n",
       "      <td>35.689970</td>\n",
       "      <td>139.697290</td>\n",
       "    </tr>\n",
       "  </tbody>\n",
       "</table>\n",
       "</div>"
      ],
      "text/plain": [
       "                       id             alias  \\\n",
       "0  99Sj_zOKkFWglZ3w0_2VDw     すしざんまい-本店-中央区   \n",
       "1  7r7GNKYRS3AwxzNE94CNLA       築地-斉藤水産-中央区   \n",
       "2  tVnM-RBSOaaeVeLgyt1j6w  すしざんまい-浅草雷門店-台東区   \n",
       "3  jk3HWTcRje8_bqI6z86JAA      日向丸-浅草本店-台東区   \n",
       "4  B-mK2UEmHN9TRDDtzvMKrg  魚がし日本一-新宿西口店-新宿区   \n",
       "\n",
       "                                     name  \\\n",
       "0                      SUSHIZANMAI Honten   \n",
       "1             Tsukiji Saito's Fish Market   \n",
       "2          Sushizanmai Asakusakaminarimon   \n",
       "3                      Hinatomaru Asakusa   \n",
       "4  Uogashi Nihon Ichi Shinjuku Nishiguchi   \n",
       "\n",
       "                                           image_url  is_closed  \\\n",
       "0  https://s3-media2.fl.yelpcdn.com/bphoto/awbiuv...      False   \n",
       "1  https://s3-media1.fl.yelpcdn.com/bphoto/tJmuZC...      False   \n",
       "2  https://s3-media4.fl.yelpcdn.com/bphoto/co2q0n...      False   \n",
       "3  https://s3-media1.fl.yelpcdn.com/bphoto/V04Jbu...      False   \n",
       "4  https://s3-media3.fl.yelpcdn.com/bphoto/IHxsk7...      False   \n",
       "\n",
       "                                                 url  review_count  \\\n",
       "0  https://www.yelp.com/biz/%E3%81%99%E3%81%97%E3...           162   \n",
       "1  https://www.yelp.com/biz/%E7%AF%89%E5%9C%B0-%E...            49   \n",
       "2  https://www.yelp.com/biz/%E3%81%99%E3%81%97%E3...            34   \n",
       "3  https://www.yelp.com/biz/%E6%97%A5%E5%90%91%E4...            48   \n",
       "4  https://www.yelp.com/biz/%E9%AD%9A%E3%81%8C%E3...           119   \n",
       "\n",
       "                                          categories  rating  \\\n",
       "0  [{'alias': 'sushi', 'title': 'Sushi Bars'}, {'...     4.5   \n",
       "1  [{'alias': 'seafoodmarkets', 'title': 'Seafood...     5.0   \n",
       "2        [{'alias': 'sushi', 'title': 'Sushi Bars'}]     4.5   \n",
       "3        [{'alias': 'sushi', 'title': 'Sushi Bars'}]     4.5   \n",
       "4  [{'alias': 'sushi', 'title': 'Sushi Bars'}, {'...     4.5   \n",
       "\n",
       "                                         coordinates transactions price  \\\n",
       "0   {'latitude': 35.665917, 'longitude': 139.770608}           []    ￥￥   \n",
       "1  {'latitude': 35.665527, 'longitude': 139.77049...           []    ￥￥   \n",
       "2  {'latitude': 35.7112256125179, 'longitude': 13...           []     ￥   \n",
       "3   {'latitude': 35.711847, 'longitude': 139.795839}           []     ￥   \n",
       "4  {'latitude': 35.6899698, 'longitude': 139.6972...           []     ￥   \n",
       "\n",
       "                                            location         phone  \\\n",
       "0  {'address1': '築地4-11-9', 'address2': '', 'addr...  +81335411117   \n",
       "1  {'address1': '築地4-10-5', 'address2': None, 'ad...  +81335412314   \n",
       "2  {'address1': '浅草1丁目3-6', 'address2': None, 'ad...  +81358261375   \n",
       "3  {'address1': '浅草1-20-10', 'address2': '', 'add...  +81358064222   \n",
       "4  {'address1': '西新宿1-12', 'address2': '河西ビル1F', ...  +81333491739   \n",
       "\n",
       "     display_phone     distance   latitude   longitude  \n",
       "0  +81 3-3541-1117  2152.458425  35.665917  139.770608  \n",
       "1  +81 3-3541-2314  2193.611785  35.665527  139.770494  \n",
       "2  +81 3-5826-1375  3909.566155  35.711226  139.795546  \n",
       "3  +81 3-5806-4222  3978.818528  35.711847  139.795839  \n",
       "4  +81 3-3349-1739  6292.266128  35.689970  139.697290  "
      ]
     },
     "execution_count": 27,
     "metadata": {},
     "output_type": "execute_result"
    }
   ],
   "source": [
    "# Converting coordinates to usable features\n",
    "df['latitude'] = [x['latitude'] for x in df['coordinates']]\n",
    "df['longitude'] = [x['longitude'] for x in df['coordinates']]\n",
    "df.head()"
   ]
  },
  {
   "cell_type": "code",
   "execution_count": 40,
   "id": "fbcf89fc",
   "metadata": {},
   "outputs": [
    {
     "data": {
      "application/vnd.plotly.v1+json": {
       "config": {
        "plotlyServerURL": "https://plot.ly"
       },
       "data": [
        {
         "customdata": [
          [
           "SUSHIZANMAI Honten",
           162,
           4.5
          ],
          [
           "Tsukiji Saito's Fish Market",
           49,
           5
          ],
          [
           "Sushizanmai Asakusakaminarimon",
           34,
           4.5
          ],
          [
           "Hinatomaru Asakusa",
           48,
           4.5
          ],
          [
           "Uogashi Nihon Ichi Shinjuku Nishiguchi",
           119,
           4.5
          ],
          [
           "Sushizanmai Tsukiji Ekimae",
           31,
           5
          ],
          [
           "Ginza Sushi Dokoro Marui Sō Honten",
           11,
           4.5
          ],
          [
           "Manten Sushi",
           60,
           4.5
          ],
          [
           "Nemuro hanamaru",
           84,
           4.5
          ],
          [
           "Magurobito Yodobashi Akiba",
           9,
           4
          ],
          [
           "Moriichi Jinboucyou",
           2,
           4.5
          ],
          [
           "Ryouhei Zushi",
           6,
           5
          ],
          [
           "Kaisen Misakikou",
           4,
           4.5
          ],
          [
           "Jirōmaru Akihabara",
           49,
           4.5
          ],
          [
           "Kyubey Ginza",
           131,
           4.5
          ],
          [
           "Umegaoka Sushi No Midori Sohonten Ginza",
           88,
           4.5
          ],
          [
           "Kintarozushi asakusabashi",
           6,
           5
          ],
          [
           "Yugyoan Tankuma Kitamise",
           2,
           4
          ],
          [
           "Kanda Edokko-zushi Nishiguchi",
           2,
           5
          ],
          [
           "Ginza Sushiko Marunouchi Building",
           11,
           5
          ],
          [
           "Sapporo Taruzen Marunouchi",
           2,
           5
          ],
          [
           "SUSHI TOKYO TEN, Shinjuku Newman",
           66,
           4.5
          ],
          [
           "isomarusuisan",
           12,
           4
          ],
          [
           "Kaisen Misaki Port Tokyo Dome City",
           9,
           4.5
          ],
          [
           "Sushizanmai Yurakucho",
           38,
           4.5
          ],
          [
           "Sushiya Ginzō Akihabara Honkan",
           9,
           4.5
          ],
          [
           "Isomarusuisan Akihabara",
           7,
           4.5
          ],
          [
           "Yanonesushi Nihonbashi Honten",
           2,
           4.5
          ],
          [
           "Manten Sushi",
           14,
           4
          ],
          [
           "Uogashi Nihonichi Atre Akihabara ",
           3,
           4.5
          ],
          [
           "Sushikatsu Ichibancho",
           4,
           5
          ],
          [
           "Kaitenzushi Edokko Ueno ekimae",
           5,
           4
          ],
          [
           "GENKI SUSHI Shibuya",
           326,
           4
          ],
          [
           " Kaisen Dokoro Sushitsune Atore Ueno",
           2,
           4.5
          ],
          [
           "Moriichi Kinshichō terumina",
           5,
           5
          ],
          [
           "Katori Sushi",
           1,
           5
          ],
          [
           "Namaiki",
           18,
           5
          ],
          [
           "Ota Sushi",
           19,
           4.5
          ],
          [
           "Numazu Uogashi Zushi Tōkyō Eki Yaesuguchi",
           10,
           4.5
          ],
          [
           "板前寿司 赤坂店",
           31,
           4.5
          ],
          [
           "Katsu Ooedo Ueno 2 Gō",
           5,
           4
          ],
          [
           "Sushi Kanesaka Palace Hotel ",
           10,
           5
          ],
          [
           "Tsukiji Sushikō Tsukijijōgaishijō",
           13,
           4.5
          ],
          [
           "板前寿司 愛宕店",
           12,
           4
          ],
          [
           "Tsukiji Aozora Sandaime Ginza Mitsukoshi",
           5,
           4.5
          ],
          [
           " Tsukiji sushi kō jin",
           6,
           4
          ],
          [
           "Tsukiji Sushisei Honten",
           34,
           4.5
          ],
          [
           "Jirōmaru Shinjuku Honten",
           223,
           4.5
          ],
          [
           "Sushi Taichi",
           5,
           5
          ],
          [
           "Iwasa Sushi",
           34,
           4.5
          ],
          [
           "hidezushi",
           7,
           4.5
          ],
          [
           "Uogashi Nihonichi Akihabara",
           10,
           4
          ],
          [
           "Ganso Zushi Akihabara Manseibashi",
           26,
           3.5
          ],
          [
           "Mai",
           4,
           5
          ],
          [
           "Sushi Seizan",
           6,
           4
          ],
          [
           "寿司芳水天宮",
           2,
           5
          ],
          [
           "Unatoto Ueno",
           16,
           4.5
          ],
          [
           "Sushi Nihonbashi Shimon",
           2,
           4.5
          ],
          [
           "Tsujihan",
           41,
           4.5
          ],
          [
           "Tenkazushi Ikebukuro Store",
           12,
           4.5
          ],
          [
           "Sushizanmai Ueno",
           7,
           4
          ],
          [
           "Tsukijitamazushi",
           6,
           4.5
          ],
          [
           "ひげ勘",
           1,
           5
          ],
          [
           "Ningyōchō Nikuzushi",
           1,
           5
          ],
          [
           "Tsukiji Sushisei Gransta dining",
           6,
           4
          ],
          [
           "Sushi Kakizaki",
           3,
           5
          ],
          [
           "Hanasanshou",
           1,
           5
          ],
          [
           "Tsukiji Sushi Nagomi GRANSTA Marunouchi",
           7,
           4
          ],
          [
           "Umegaoka Sushinomidori Sōhonten Shibuya",
           138,
           4.5
          ],
          [
           "Kioichō Mitani",
           4,
           5
          ],
          [
           "Mawashi Zushi KATSUMIDORI  SEIBU Shibuya",
           128,
           4.5
          ],
          [
           "Utamizushi",
           3,
           4
          ],
          [
           "Seamon Nihonbashi",
           2,
           5
          ],
          [
           "Sushisei Tōkyō Eki Grand roof",
           5,
           4.5
          ],
          [
           "Tokyo Shiba Tofuya Ukai",
           41,
           5
          ],
          [
           "Magurobito Okachimachi",
           3,
           4.5
          ],
          [
           "築地すし源本店",
           1,
           4
          ],
          [
           "Muten KURA Zushi Shinagawa Ekimae",
           49,
           4.5
          ],
          [
           "Toriton Tokyo Solamachi",
           27,
           4.5
          ],
          [
           "itoukenotsubo",
           2,
           4.5
          ],
          [
           "Tsukiji Itadori Bekkan",
           27,
           4.5
          ],
          [
           "Sushi Dai",
           46,
           5
          ],
          [
           "Rokurinsha",
           273,
           4.5
          ],
          [
           "Sushitomi",
           6,
           4.5
          ],
          [
           "TSUKIJI SUSHIDAI Honkan",
           14,
           4.5
          ],
          [
           "一番回転寿司本店",
           9,
           4
          ],
          [
           "Sukiyabashi Jiro",
           84,
           4
          ],
          [
           "Waentei Kikkō",
           18,
           5
          ],
          [
           "Zigi",
           2,
           4.5
          ],
          [
           "Kyōsushi",
           1,
           5
          ],
          [
           " Sushi to Kaisen Ryōri Kigokoro",
           1,
           5
          ],
          [
           "Sushiro Minamiikebukuro",
           3,
           4.5
          ],
          [
           "Nadeshiko Sushi",
           18,
           4
          ],
          [
           "板前寿司 銀座コリドー店",
           17,
           4
          ],
          [
           "Kaitensushi Nemuro Hanamaru Ginza",
           31,
           4
          ],
          [
           "Ichiran Shibuya",
           627,
           4.5
          ],
          [
           "Tsukijitamazushi GINZA CORE",
           6,
           4.5
          ],
          [
           "Kaitenzushi Yoshimarusuisan Aqua City Odaiba",
           15,
           3.5
          ],
          [
           "Sushisada",
           2,
           4.5
          ],
          [
           "Kiyozushi",
           4,
           4.5
          ],
          [
           "Sushi Chōshimaru Tateishi",
           1,
           5
          ],
          [
           "Kaitensushi Sakaba Ginza Numazukō",
           15,
           4
          ],
          [
           "Sushizanmai Kinshichou",
           9,
           4.5
          ],
          [
           "Sushiya Ginzō Shinbashi",
           1,
           5
          ],
          [
           "Sushiryori Inose",
           19,
           5
          ],
          [
           "Sushi Dokoro YAMAZAKI",
           3,
           5
          ],
          [
           "Umai Sushi Kan Akasaka",
           35,
           4.5
          ],
          [
           "Ginza Sushi-Ko Honten",
           29,
           5
          ],
          [
           "Tsukijitamazushi",
           10,
           4
          ],
          [
           "Masuzushi Minami",
           2,
           4.5
          ],
          [
           "Tachigui Midori Echika Ikebukuro",
           13,
           5
          ],
          [
           "鮨處八千代神田駅前店",
           1,
           5
          ],
          [
           "Sushisho Masa",
           53,
           5
          ],
          [
           "Shibadaimon Sushi Matori",
           4,
           4.5
          ],
          [
           "魚がし日本一浅草橋店",
           1,
           4
          ],
          [
           "NOBU TOKYO",
           21,
           4.5
          ],
          [
           "miuramisakikou",
           8,
           3.5
          ],
          [
           "Shinjuku Kappō Nakajima",
           74,
           4.5
          ],
          [
           "Sukiyabashi Jiro - Nihombashi shop",
           1,
           5
          ],
          [
           "Yoshitsune",
           1,
           5
          ],
          [
           "Sushi Arai",
           5,
           5
          ],
          [
           "sushi　aki　takase",
           4,
           5
          ],
          [
           "Tsukiji Sushi Say Ginza Hakuhinkan",
           3,
           5
          ],
          [
           "Uminosachi",
           2,
           4.5
          ],
          [
           "Roppongi Niku Sushi",
           1,
           5
          ],
          [
           "Ekibenya Matsuri",
           16,
           4.5
          ],
          [
           "Yoshinosushi Honten",
           7,
           4.5
          ],
          [
           "Sushizanmai Shinjuku higashiguchi",
           17,
           4.5
          ],
          [
           "Kani Doraku ",
           8,
           4.5
          ],
          [
           "Sushisho Mera",
           1,
           5
          ],
          [
           "Sushi Izakaya Susumu",
           1,
           4
          ],
          [
           "Sushizanmai Shinbashi",
           12,
           4
          ],
          [
           "Umezushi",
           1,
           5
          ],
          [
           "Sushishin",
           5,
           5
          ],
          [
           "Sukiyabashi Jiro Roppongi Hills",
           93,
           4.5
          ],
          [
           "Sushi Yoshitake",
           31,
           4.5
          ],
          [
           "Tsukiji Dontaku",
           14,
           4
          ],
          [
           "Maishi",
           1,
           5
          ],
          [
           "Sushi Tempura Aki",
           2,
           4.5
          ],
          [
           "Uokin honten",
           17,
           4.5
          ],
          [
           "Sushi Ginza Onodera",
           20,
           5
          ],
          [
           "Sushi Ken",
           2,
           5
          ],
          [
           "Nihonkai Kototoi",
           1,
           5
          ],
          [
           "Matsue",
           10,
           4.5
          ],
          [
           "Uogashi Zushi Tamachi Honten",
           3,
           4.5
          ],
          [
           "Kazane Ginza",
           2,
           4.5
          ],
          [
           "しまだ鮨",
           1,
           5
          ],
          [
           "Kizuna Sushi Akihabara",
           2,
           4
          ],
          [
           "Ginza Seamon",
           12,
           5
          ],
          [
           "板前寿司 新橋店",
           4,
           4.5
          ],
          [
           "Kaiten Sushiya Hi Ba Ri Shinjuku",
           3,
           5
          ],
          [
           "Isozushi",
           3,
           5
          ],
          [
           "Sora",
           4,
           5
          ],
          [
           "翁寿司",
           1,
           5
          ],
          [
           "Shutoku 2nd",
           6,
           5
          ],
          [
           "Sushizanmai Bekkan",
           26,
           4.5
          ],
          [
           "Sushisachi",
           2,
           4
          ],
          [
           "sushiya ginzou",
           1,
           4
          ],
          [
           "Misuji",
           4,
           4.5
          ],
          [
           "Mawaru Ganso Zushi shimokitazawa",
           3,
           4.5
          ],
          [
           "Sushi No Midori",
           32,
           4
          ],
          [
           "ミヤバ",
           5,
           5
          ],
          [
           "Gansozushi Asakusa Honten",
           10,
           4
          ],
          [
           "Ichiran Shinjuku Chuo Higashiguchi",
           484,
           4.5
          ],
          [
           "Tsukiji Tamazushi Maihama IKSPIARI",
           3,
           3.5
          ],
          [
           "Uokyū Honten",
           11,
           4.5
          ],
          [
           "Sushi Imamura",
           5,
           5
          ],
          [
           "Kōrakuzushi",
           2,
           4.5
          ],
          [
           "Kanazawa Sushi Amore Ginza",
           2,
           4.5
          ],
          [
           "Sushi Hashimoto",
           1,
           5
          ],
          [
           "Maguro Ichi-dai Hamamatsuchō ",
           3,
           4.5
          ],
          [
           "Sushibun ",
           8,
           4.5
          ],
          [
           "Mawashizushi Katsu Meguro",
           31,
           4.5
          ],
          [
           "sushitsune",
           3,
           5
          ],
          [
           "Sushinoya Ichigaya Honten",
           1,
           4
          ],
          [
           "Isomaru Suisan Yoyogi",
           7,
           4.5
          ],
          [
           "Teru Sushi",
           1,
           5
          ],
          [
           "The Sushi",
           1,
           4
          ],
          [
           "Sushi Yoshi",
           1,
           5
          ],
          [
           "Numazuko Shinjuku Honten",
           88,
           4
          ],
          [
           "Kanda Shinodazushi",
           2,
           4.5
          ],
          [
           "Masa Sushi Ginza",
           2,
           5
          ],
          [
           "Sushi Wasabi",
           9,
           5
          ],
          [
           "Mawashi Sushi Katsu Midori Seibu Ikebukuro",
           16,
           4.5
          ],
          [
           "Sushi-Zanmai Higashi Shinjuku",
           63,
           4
          ],
          [
           "Sukiyabashi Jiro Toyosu",
           2,
           4
          ],
          [
           "Uoshin Ebisu",
           6,
           4.5
          ],
          [
           "Sushi Kajiwara",
           1,
           5
          ],
          [
           "Sushi Tokami",
           13,
           4
          ],
          [
           "Sushizanmai Sugamo",
           5,
           4
          ],
          [
           "Andy's Shin Hinomoto",
           44,
           4.5
          ],
          [
           "Abe Roppongi",
           8,
           4
          ],
          [
           "鮨・和美",
           3,
           4.5
          ],
          [
           "GINZA RIN Nishimura",
           1,
           5
          ],
          [
           "Sushi Takahashi",
           7,
           5
          ],
          [
           "Nihonbashi sushitetsu",
           1,
           4
          ],
          [
           "Sushi-dokoro OKAME / Standing up",
           8,
           4.5
          ],
          [
           "Sushi Katsura",
           5,
           4.5
          ],
          [
           "Sushi Ichi",
           5,
           5
          ],
          [
           "Sakari sushi",
           1,
           4
          ],
          [
           "Karashibi Miso Rāmen KIKANBO Kanda Honten",
           20,
           4.5
          ],
          [
           "Nihonbashi Kakigarachō Sugita",
           1,
           4
          ],
          [
           "Sushi DAIDOKOYA Sangenjaya",
           5,
           4.5
          ],
          [
           "Uobei Shibuya Dogenzaka",
           160,
           4
          ],
          [
           "Uogashinihon'ichi Ecute Shinagawa South",
           7,
           4.5
          ],
          [
           "Uogashi Zushi",
           6,
           5
          ],
          [
           "元祖寿司秋葉原中央通り店",
           1,
           5
          ],
          [
           "Sushizanmai Yushima",
           3,
           3.5
          ],
          [
           "Tsukiji Aozora Sandaime",
           6,
           4.5
          ],
          [
           "Sushi Yoshikawa",
           4,
           4
          ],
          [
           "Sushiyoshi",
           2,
           4
          ],
          [
           "Sushi Miyabi",
           2,
           4
          ],
          [
           "Uogashinihon'ichi Hama site ",
           2,
           4.5
          ],
          [
           "Hama Sushi Komagomehakusan",
           1,
           3
          ],
          [
           "Tsubomi",
           3,
           4.5
          ],
          [
           "Sushi Mizukami",
           1,
           5
          ],
          [
           "Sushi Kitano",
           2,
           5
          ],
          [
           "Umegaoka Sushi no Midori Souhonten atre Kichijoji",
           11,
           4.5
          ],
          [
           "千寿司新浦安店",
           1,
           5
          ],
          [
           "Sushi Saito",
           5,
           5
          ],
          [
           "Sushi Tamakagari Tempura Tamagoromo ",
           2,
           4.5
          ],
          [
           "Tsukiji Sushikō Akarenga-dōri",
           2,
           4.5
          ],
          [
           "Mawaru SUSHIZANMAI Tsukiji",
           25,
           4.5
          ],
          [
           "Sushizanmai Koenji",
           2,
           4.5
          ],
          [
           "Sushi Masa Bekkan",
           1,
           5
          ],
          [
           "Sushi Shou",
           11,
           5
          ],
          [
           "鮨いち",
           2,
           5
          ],
          [
           "Mikaku",
           3,
           4.5
          ],
          [
           "Tsukiji Sushi Ichiban Nishi Asakusa",
           2,
           4
          ],
          [
           "Ginza Kyubey New Otani Tower",
           8,
           4.5
          ],
          [
           "ginzasushimasa",
           2,
           5
          ],
          [
           "Bentomi",
           7,
           4.5
          ],
          [
           "Uogashi Nihon Ichi Nakano Sanmōru",
           2,
           4.5
          ],
          [
           "Mawashi Zushi Katsu Midori Granduo Kamata",
           11,
           4.5
          ],
          [
           "Sushi Bar Yasuda",
           93,
           4.5
          ],
          [
           "Aoyagi",
           4,
           4
          ],
          [
           "Tonkatsu Maisen Aoyama Honten",
           178,
           4.5
          ],
          [
           "Sapporo DOMINICA Ginza",
           70,
           5
          ],
          [
           "すし処宴",
           1,
           5
          ],
          [
           "Umimeshi Atre Vie Otsuka",
           2,
           4
          ],
          [
           "Zauo Meguro",
           15,
           4.5
          ],
          [
           "Uogashi Nihonichi Shinbashi ekimae",
           3,
           4.5
          ],
          [
           "Shari The Tokyo Sushi Bar",
           13,
           3.5
          ],
          [
           "Miyuki",
           2,
           5
          ],
          [
           "Iwasa Sushi",
           3,
           4.5
          ],
          [
           "Kappo Yoshiba",
           7,
           4.5
          ],
          [
           "UMI",
           12,
           4.5
          ],
          [
           "Motodane",
           1,
           5
          ],
          [
           "Sanaka Aoyama",
           17,
           4.5
          ],
          [
           "さかなや",
           1,
           5
          ],
          [
           "mawashizushiwakataka",
           2,
           4.5
          ],
          [
           "玉寿司本社",
           1,
           5
          ],
          [
           "Uoshin",
           4,
           4
          ],
          [
           "板前寿司 赤坂みすじ通り店",
           6,
           4.5
          ],
          [
           "Matsuba Zushi",
           2,
           4
          ],
          [
           "Tsunaki Ebisu",
           3,
           4.5
          ],
          [
           "Matakoiya ",
           4,
           4
          ],
          [
           "Tsukiji Itadori Uogashi Senryo",
           22,
           4
          ],
          [
           "Sushizanmai Ikebukurohigashi",
           3,
           4
          ],
          [
           "Gonpachi NORI-TEMAKI Harajuku",
           12,
           4
          ],
          [
           "Sushi Nakamura",
           8,
           5
          ],
          [
           "Kaisen Misakiko Kichijoji Daiyagai",
           1,
           4
          ],
          [
           "Sushi Tokinari",
           1,
           5
          ],
          [
           "Tachizushi AOI / Standing-sushi",
           1,
           5
          ],
          [
           "Sushi Taichi",
           2,
           4.5
          ],
          [
           "Mori Ichitabata Ekimae",
           2,
           4
          ],
          [
           "Sushi Kyotatsu",
           2,
           4.5
          ],
          [
           "志乃だ寿司",
           1,
           5
          ],
          [
           "SUSHIZANMAI Shibuya Higashiguchi",
           12,
           4.5
          ],
          [
           "Tsukiji Sushidai Bekkan",
           3,
           5
          ],
          [
           "鮨処みやこ新橋店",
           1,
           5
          ],
          [
           "Kaisen Misakiko Kitasenju",
           2,
           4
          ],
          [
           "Sen'yuu",
           1,
           4
          ],
          [
           "Daiwa Sushi",
           27,
           4.5
          ],
          [
           "Sushi Riku",
           2,
           5
          ],
          [
           "Akebinomi",
           4,
           4
          ],
          [
           "寿司処なかね",
           1,
           4
          ],
          [
           "Miyako",
           2,
           4
          ],
          [
           "後楽寿司本店",
           1,
           5
          ],
          [
           "Uogashi Nihon-ichi Kasumigaseki Iino Bldg.",
           6,
           4
          ],
          [
           "Mawashi Sushi Katsu Midori Yokohama Sky Building",
           33,
           4.5
          ],
          [
           "Sushizanmai Takumi Ginza 6-Chome",
           4,
           4.5
          ],
          [
           "Hiroichi",
           2,
           5
          ],
          [
           "Sushi Tatsumi",
           1,
           5
          ],
          [
           "Yakko",
           1,
           5
          ],
          [
           "魚がし日本一",
           8,
           4
          ],
          [
           "Sakura Sakakatō",
           1,
           5
          ],
          [
           "Ningyōchō Shinodazushi Sōhonten",
           2,
           4.5
          ],
          [
           "すし三崎丸広尾店",
           4,
           4.5
          ],
          [
           "Isomaru Suisan Asakusa Kan'nondōri",
           8,
           4
          ],
          [
           "Sushitake",
           1,
           5
          ],
          [
           "Sushi Tsukiuda",
           2,
           5
          ],
          [
           " Sushi-ya Ginzō Hamamatsuchō ",
           3,
           3.5
          ],
          [
           "Gyūkatsu Motomura Shinjuku Minamiguchi",
           101,
           4.5
          ],
          [
           "Uogashi Nihon'ichi Tōkyō Eki ichibangai",
           2,
           4.5
          ],
          [
           "Numazu Uogashizushi Haneda Airport",
           3,
           4.5
          ],
          [
           "sabar Tokyo Gems Daimon",
           4,
           5
          ],
          [
           "Midori Sushi",
           7,
           4.5
          ],
          [
           "Sushizanmai Roppongi Haiyuzamae",
           21,
           4
          ],
          [
           "Bentenyama Miyako Sushi",
           3,
           4.5
          ],
          [
           "Shinjuku Makoto",
           16,
           4.5
          ],
          [
           "Sushitsunetakumi rarapōtotoyosu",
           1,
           4
          ],
          [
           "Sushi Zammai Shinbashi SL Hiroba mae",
           3,
           4
          ],
          [
           "Ginza Sushi-Ichi",
           3,
           4.5
          ],
          [
           "SUSHIRO Gotanda ",
           2,
           4.5
          ],
          [
           "Kaitenzushi Edokko Kanda",
           2,
           3.5
          ],
          [
           "Hatsune Sushi",
           4,
           4.5
          ],
          [
           "Harutaka",
           5,
           5
          ],
          [
           "Sushimamire",
           4,
           4
          ],
          [
           "Kurosaki",
           6,
           4.5
          ],
          [
           "すし処佐藤",
           1,
           5
          ],
          [
           "すし亭郡司",
           2,
           5
          ],
          [
           "Majestic Shiodome",
           4,
           4.5
          ],
          [
           "Kantaro Tokyo",
           3,
           4.5
          ],
          [
           "Sushi misakimaru",
           3,
           3.5
          ],
          [
           "Sushiro Minamisuna",
           3,
           3.5
          ],
          [
           "Masuzushihonten",
           1,
           3
          ],
          [
           "Tsukiji Sushi Sen Sou honten",
           8,
           4
          ],
          [
           "Niku Sushi",
           1,
           4
          ],
          [
           "Ginza Koso",
           3,
           4
          ],
          [
           "玄海寿司",
           1,
           5
          ],
          [
           "Sushi Namba",
           2,
           4
          ],
          [
           "Harajuku Gyōzarou",
           313,
           4
          ],
          [
           "Kanazawa Maimonzushi Ueno",
           1,
           4
          ],
          [
           "Uogashi Nihonichi Tachigui Sushi SHIBUYA CENTER GAI",
           55,
           4.5
          ],
          [
           "金太楼鮨錦糸町店",
           1,
           5
          ],
          [
           "Isomaru Suisan Shibuya Udagawachō",
           6,
           4.5
          ],
          [
           "Tsukiji Sushikou Akasaka",
           3,
           4
          ],
          [
           "Sushi Dokoro Abe Hiroo Bekkan",
           9,
           4.5
          ],
          [
           "Sumida",
           1,
           4
          ],
          [
           "sushiya",
           14,
           5
          ],
          [
           "Isomaru Sushi",
           5,
           4
          ],
          [
           "Asakusa Sushi Waka Tōyōchō ",
           1,
           4
          ],
          [
           "Kaitensushi Uzushio Akihabara",
           3,
           3.5
          ],
          [
           "Sushi Bun",
           8,
           5
          ],
          [
           "鮨処榎本",
           1,
           5
          ],
          [
           "Sushi Shinsuke",
           1,
           5
          ],
          [
           "GENKI SUSHI Uobei Omori Station Sanno Kitaguchi ",
           3,
           4.5
          ],
          [
           "Sasa Shigure Omotesandō Hiruzu",
           6,
           4
          ],
          [
           "山水",
           1,
           5
          ],
          [
           "Tsukiji Sushisō Honten",
           1,
           4
          ],
          [
           "Sushi Takada",
           1,
           5
          ],
          [
           "Tenkazushi Otsuka ",
           1,
           5
          ],
          [
           "Yakiniku USHIGORO Nishiazabu Honten",
           17,
           5
          ],
          [
           "TANUKISUSHI",
           1,
           4
          ],
          [
           "SHINJUKU KAKEKOMI GYOZA",
           31,
           4
          ],
          [
           "SUSHI Gonpachi Shibuya",
           22,
           4
          ],
          [
           "Katsuragawa Sushi Azabu",
           1,
           5
          ],
          [
           "Uogashi Nihon Ichi Shibuya Dogenzaka",
           14,
           4.5
          ],
          [
           "Shou ",
           1,
           5
          ],
          [
           "Aoyama Serizawa",
           2,
           5
          ],
          [
           "Tsukijitama Sushi YOKOHAMA BAY",
           2,
           4.5
          ],
          [
           "Kouzushi",
           3,
           4.5
          ],
          [
           "Azabu Uojizushi",
           1,
           5
          ],
          [
           "enju",
           1,
           5
          ],
          [
           "Shutoku Honten",
           10,
           4.5
          ],
          [
           "Sushi Ishiyama",
           2,
           5
          ],
          [
           "Maguro Bito Kaminarimon",
           2,
           4.5
          ],
          [
           "新宿栄寿司本店",
           11,
           4.5
          ],
          [
           "Tsunao",
           2,
           5
          ],
          [
           "Uogasizushi",
           1,
           4
          ],
          [
           "Tsukiji Kagura Sushi Shinkan",
           5,
           4.5
          ],
          [
           "Sushiidzu",
           1,
           4
          ],
          [
           "Sushi Mamire Ikebukuro ",
           7,
           4
          ],
          [
           "Sushi Mimoto",
           5,
           5
          ],
          [
           "Nigiri No Ippo",
           1,
           5
          ],
          [
           "Sushitsu",
           8,
           5
          ],
          [
           "Sushizanmai Shibuya Tokyu-Honten Mae",
           31,
           4
          ],
          [
           "Asagaya Jyuzou ",
           2,
           4.5
          ],
          [
           "Nakaya",
           16,
           4
          ],
          [
           "Muten Kurazushi Higashimukōjima",
           1,
           4
          ],
          [
           "kazahana",
           4,
           4.5
          ],
          [
           "SushiTen",
           5,
           5
          ],
          [
           "なかや鮨",
           1,
           5
          ],
          [
           "Fukuzushi",
           15,
           4.5
          ],
          [
           "ugetsu",
           3,
           4.5
          ],
          [
           "Takaraya ",
           1,
           4
          ],
          [
           "Aburiyaki & Sushi An ",
           1,
           5
          ],
          [
           "Tsukiji Aozora Sandaime Marunouchi",
           1,
           5
          ],
          [
           "梅寿司",
           1,
           4
          ],
          [
           "Nikuzushi Oimachi ",
           1,
           5
          ],
          [
           "Macchan",
           6,
           3.5
          ],
          [
           "Akasaka Zanmai",
           2,
           5
          ],
          [
           "Sushi Zanmai Roppongi RoI Building Mae ",
           16,
           4
          ],
          [
           "Edomae Sushi Hyakumangoku Shinkoiwa",
           2,
           4.5
          ],
          [
           "日本海・海の華",
           1,
           5
          ],
          [
           "Nigirite",
           3,
           5
          ],
          [
           "Uokomeya",
           3,
           2.5
          ],
          [
           "Gorin Zushi Gotanda Nishiguchi",
           1,
           4
          ],
          [
           "Sushizanmai Nakano",
           1,
           4
          ],
          [
           "Sushiichiban Tsukijijōgaishiba Chūō",
           4,
           4.5
          ],
          [
           "Judaime Yazaemon Atore Akihabara 2",
           1,
           5
          ],
          [
           "Takumi Tatsuhiro",
           3,
           4.5
          ],
          [
           "玉寿司",
           1,
           5
          ],
          [
           "Kizunasushi Nishi-Shinjuku",
           14,
           3
          ],
          [
           "魚がし日本一赤坂店",
           2,
           4.5
          ],
          [
           "元気寿司大山店",
           1,
           4
          ],
          [
           "Sakae Sushi",
           4,
           5
          ],
          [
           "Sushimaru ",
           1,
           4
          ],
          [
           "Eat Azabujuban",
           3,
           4.5
          ],
          [
           "Tsurutontan Shinjuku",
           55,
           4
          ],
          [
           "Tsukiji Tamasushi Ikebukuro Sunshine",
           6,
           5
          ],
          [
           "市喜",
           2,
           4.5
          ],
          [
           "Sushi Matsumoto ",
           1,
           5
          ],
          [
           "Inase Atre Vie Otsuka",
           1,
           5
          ],
          [
           "海鮮三崎港",
           2,
           4.5
          ],
          [
           "Isamizushi",
           1,
           4
          ],
          [
           "Himawari Sushi Shintoshin",
           39,
           4
          ],
          [
           "Sakaesushi",
           3,
           4.5
          ],
          [
           "Sushishō Saitō",
           6,
           4.5
          ],
          [
           "Higashiazabu Amamoto",
           1,
           5
          ],
          [
           "吟遊",
           2,
           4
          ],
          [
           "sushitsune",
           3,
           4.5
          ],
          [
           "matsurizushioomoriten",
           2,
           4.5
          ],
          [
           "Ginza Iwa",
           11,
           4.5
          ],
          [
           "Mitani",
           6,
           5
          ],
          [
           "Ranman",
           1,
           5
          ],
          [
           "Sushi Nakanoya",
           1,
           5
          ],
          [
           "Mimasu",
           2,
           4
          ],
          [
           "御旦狐寿司",
           1,
           5
          ],
          [
           "Sushi Kanesaka Honten",
           32,
           4
          ],
          [
           "Hachizaemon",
           2,
           5
          ],
          [
           "Kaisenmisakikō Harajuku Takeshita Dōri",
           1,
           4
          ],
          [
           "suzu",
           3,
           4
          ],
          [
           "Hajime",
           2,
           5
          ],
          [
           "Sushi Chikuzan Marunouchi",
           3,
           4.5
          ],
          [
           "Maguro Donya Megumi Suisan",
           2,
           4.5
          ],
          [
           " Ma kuro dake bōno shirakawa",
           1,
           5
          ],
          [
           "Matakoiya Kachidoki ",
           1,
           5
          ],
          [
           "Yanone Sushi Kanda Nishikichō",
           1,
           4
          ],
          [
           "Standing Sushi Bar Nemuro Hanamaru ",
           12,
           5
          ],
          [
           "Sushi Chohshimaru Kyodo",
           2,
           5
          ],
          [
           "Ginza Masaki",
           1,
           5
          ],
          [
           "UOSHIN Shibuya",
           9,
           4
          ],
          [
           "Hinokizaka",
           7,
           5
          ],
          [
           "江戸半",
           1,
           5
          ],
          [
           "Sushi Akizuki",
           4,
           5
          ],
          [
           "Gifts from Mother Nature, Ueno",
           2,
           4.5
          ],
          [
           "Hamashiba",
           3,
           4.5
          ],
          [
           "Megumi matakoiya",
           2,
           4.5
          ],
          [
           "Sushi Cyou",
           2,
           5
          ],
          [
           "Sushi Tajima ",
           1,
           5
          ],
          [
           "Nihonbashi Funazushi",
           1,
           4
          ],
          [
           "Ariso Sushi",
           22,
           3.5
          ],
          [
           "Nihonkai",
           2,
           3.5
          ],
          [
           "Asahi Zushi Sohonten",
           1,
           4
          ],
          [
           "Sushi Tatsunari",
           3,
           5
          ],
          [
           "Gattenzushi Ayase",
           1,
           5
          ],
          [
           "Kinoshita",
           1,
           5
          ],
          [
           "橘寿司",
           1,
           4
          ],
          [
           "Tenkazushi Shin Okubo ",
           5,
           4
          ],
          [
           "Seiyōryōri Shima",
           24,
           4.5
          ],
          [
           "Nari Sushi",
           1,
           5
          ],
          [
           "Tsukiji Aozora Sandaime",
           3,
           4.5
          ],
          [
           "Yakinikubar Han'nodaidokoro Kadochika",
           27,
           5
          ],
          [
           "京樽根津店",
           1,
           4
          ],
          [
           "Sushi Tatsu",
           1,
           5
          ],
          [
           "Kaisendon Marukita 2 gō",
           6,
           4
          ],
          [
           "Tachizushi Yokochō Shinjuku Nishiguchi",
           1,
           4
          ],
          [
           "Mikore Sushi",
           17,
           4
          ],
          [
           "Hitsumabushi Nagoya Bincho",
           27,
           4.5
          ],
          [
           "Miyakozushi Honten",
           1,
           4
          ],
          [
           "Tsubaki",
           4,
           5
          ],
          [
           "NINJA AKASAKA",
           100,
           4
          ],
          [
           "Sushiyū",
           4,
           5
          ],
          [
           "魚がし日本一麹町店",
           1,
           5
          ],
          [
           "Sushi ISHIJIMA Shintomi",
           2,
           3
          ],
          [
           "Kaikaya",
           76,
           4.5
          ],
          [
           "KINKA sushi bar izakaya Shibuya",
           12,
           4.5
          ],
          [
           "Sushi no Shimonya Seizan",
           3,
           4.5
          ],
          [
           "Cha Kaiseki Sushi",
           1,
           5
          ],
          [
           "Sushidyayamomotaro Shinzuku",
           4,
           4.5
          ],
          [
           "鯉寿司",
           1,
           5
          ],
          [
           "Sushizanmai Toyocho",
           2,
           2.5
          ],
          [
           "Sendagi Sushiryū",
           1,
           4
          ],
          [
           " Nigiriyashio",
           1,
           4
          ],
          [
           "Sushi Fukumoto",
           4,
           5
          ],
          [
           "Yazawa Shimokitazawa",
           5,
           5
          ],
          [
           "Nihombashi Sato",
           1,
           5
          ],
          [
           "Sushi Rizaki",
           2,
           4.5
          ],
          [
           "Tsukiji Sushicho",
           1,
           4
          ],
          [
           "Gansozushi Haneda Airport Second Terminal",
           4,
           4.5
          ],
          [
           "Ajikin",
           1,
           4
          ],
          [
           "TsuruTonTan Roppongi",
           67,
           4
          ],
          [
           "Sushi Ochiai",
           2,
           5
          ],
          [
           "Sushi Ichikawa",
           3,
           5
          ],
          [
           "Sushi Sumeshiya",
           1,
           5
          ],
          [
           "Sushi Daizen",
           3,
           4.5
          ],
          [
           "Sushizanmai Kameido",
           1,
           4
          ],
          [
           "Sushi Kou",
           1,
           4
          ],
          [
           "sushigin",
           1,
           5
          ],
          [
           "Shun Shinjuku Park Tower",
           3,
           4
          ],
          [
           "Sushi Fujinaga",
           1,
           5
          ],
          [
           "Sushizanmai Shinkan",
           2,
           5
          ],
          [
           "YAJIMA",
           12,
           4.5
          ],
          [
           "Chiyodazushi Sasazuka",
           1,
           3
          ],
          [
           "よし寿司",
           1,
           5
          ],
          [
           "Sushi Tatsu",
           1,
           4
          ],
          [
           "Edotoukyousushitsune",
           2,
           4
          ],
          [
           "Sushi Ishikawa",
           2,
           5
          ],
          [
           "Kenzan Akasaka Intercontinental Hotel",
           2,
           3.5
          ],
          [
           "笹乃屋",
           1,
           5
          ],
          [
           "Sushi Misakimaru",
           4,
           3
          ],
          [
           "Mawari sushi shibuya sushi tsune shibuyaparuko",
           2,
           4
          ],
          [
           "Sushizanmai Jiyugaoka",
           4,
           5
          ],
          [
           "Tokori Asakusa",
           2,
           4.5
          ],
          [
           "Sushi Izakaya Nihonkai Asakusa",
           2,
           4
          ],
          [
           "Sushiyano Sukeroku",
           1,
           4
          ],
          [
           "魚国鮨",
           1,
           5
          ],
          [
           "Jyanoichi honten",
           3,
           3.5
          ],
          [
           "Sushi Yamato Kaihin Makuhari",
           2,
           4
          ],
          [
           "Mori Mori Sushi",
           3,
           5
          ],
          [
           "Tsukiji Itadori Ura",
           6,
           4.5
          ],
          [
           "Kinsushi",
           2,
           5
          ],
          [
           "Sushiyaginzou Awajichō wa terasu",
           1,
           5
          ],
          [
           "Niku Kappo KINTAN Coredo Muromachi",
           1,
           4
          ],
          [
           "Chiyoda sichi",
           2,
           5
          ],
          [
           "Donmaru Morishita",
           1,
           4
          ],
          [
           "Udon Shin",
           225,
           4.5
          ],
          [
           "もり一王子店",
           1,
           4
          ],
          [
           "KURA Zushi Ikeburo Higashiguchi",
           14,
           3.5
          ],
          [
           "hinazushi",
           1,
           4
          ],
          [
           "Sushishunsaitakanoha Uenonigouten",
           1,
           5
          ],
          [
           "Pintokona Roppongi Hills",
           20,
           3.5
          ],
          [
           "福寿司",
           1,
           5
          ],
          [
           "yanagizushi",
           1,
           5
          ],
          [
           "Sushiya Ichiyanagi",
           7,
           4.5
          ],
          [
           "Hashiguchi",
           5,
           5
          ],
          [
           "Roku Roku",
           4,
           4.5
          ],
          [
           "Magurobito Shin Nakamise",
           6,
           3.5
          ],
          [
           "Hashiri Sushi",
           1,
           5
          ],
          [
           "Tsukiji itadori Minami",
           2,
           4.5
          ],
          [
           "Sanpukuzushi",
           2,
           4
          ],
          [
           "Sushidokoro Totoya",
           2,
           4
          ],
          [
           "Sushi Ichiba Honten",
           4,
           4
          ],
          [
           "Hakkoku",
           3,
           4.5
          ],
          [
           "初寿し",
           1,
           5
          ],
          [
           "Yakiniku Jambo Hanare",
           5,
           4.5
          ],
          [
           "Ryotei Manpuku Roppongi Hills",
           4,
           5
          ],
          [
           "Ajikaido gojusantsugi",
           8,
           4
          ],
          [
           "Sushi Aoi",
           2,
           4
          ],
          [
           "市勘",
           1,
           5
          ],
          [
           "鮨彦",
           1,
           4
          ],
          [
           "雛鮨新宿アイランド店",
           1,
           4
          ],
          [
           "天狗",
           5,
           4
          ],
          [
           "Sushi En",
           2,
           5
          ],
          [
           "Kaitenzushi Toriton Ikebukuro Tobu",
           1,
           4
          ],
          [
           "Sushi Bar Junta",
           4,
           4
          ],
          [
           "Kidoguchi",
           10,
           4.5
          ],
          [
           "Kinoshige Syutoku",
           1,
           5
          ],
          [
           "Sushiyuu",
           4,
           5
          ],
          [
           "Tsukiji Sushisei Isetan Kaikan",
           4,
           4.5
          ],
          [
           "喜楽鮨",
           1,
           5
          ],
          [
           "寿司茶屋桃太郎大塚店",
           1,
           4
          ],
          [
           "Kaisen Misaki-ko Meguro ten",
           4,
           3.5
          ],
          [
           "Sakaezushi Nishiguchi",
           8,
           4.5
          ],
          [
           "Sushikuon",
           3,
           4.5
          ],
          [
           "Shunkashūtō",
           6,
           4.5
          ],
          [
           "uogashizushi",
           1,
           4
          ],
          [
           "Wanoshou Washikita",
           1,
           4
          ],
          [
           "uogin",
           1,
           5
          ],
          [
           "鮨三原橋銀九郎",
           1,
           5
          ],
          [
           "Uobei Shinjuku",
           6,
           4.5
          ],
          [
           "Uogashi Nihonichi Gotanda",
           1,
           4
          ],
          [
           "KITSUNE",
           5,
           4
          ],
          [
           "Edōfuji",
           1,
           3
          ],
          [
           "Grand platinum Kazu",
           1,
           5
          ],
          [
           "Namida",
           2,
           5
          ],
          [
           "Kaisen Misakiko",
           1,
           5
          ],
          [
           "Tenobe Udon SUIZAN",
           4,
           5
          ],
          [
           "Tonki Meguro",
           86,
           4.5
          ],
          [
           "Kasumimachi Yanagizushi",
           3,
           4.5
          ],
          [
           "miyako zushi",
           3,
           3.5
          ],
          [
           "Sushitsune Lazona Kawasaki Plaza",
           4,
           4.5
          ],
          [
           "Sushi Rinda",
           7,
           5
          ],
          [
           "Tsukiji Sushi Sen Roku Chome Jougaishijou",
           14,
           4
          ],
          [
           "Tsukiji Sushidai Ginza",
           1,
           4
          ],
          [
           "OUGISUSHI Honten",
           10,
           4.5
          ],
          [
           "Sushi Kanpachi Honten",
           1,
           4
          ],
          [
           "Tsukiji Itadori Bekkan",
           2,
           5
          ],
          [
           "Sushi Hayakawa ",
           2,
           4.5
          ],
          [
           "Maguro Donya Miuramisakikō Megumi Shibuya Hikarie",
           5,
           4.5
          ],
          [
           "Yoshiba",
           1,
           5
          ],
          [
           "Kaiten Sushi Midori Takaido",
           2,
           4
          ],
          [
           "nishiazabu taku",
           12,
           5
          ],
          [
           "Sushiro Minami Gyotoku",
           1,
           5
          ],
          [
           "Fukushimaya Roppongi",
           8,
           4.5
          ],
          [
           "Sushi Suzuki",
           2,
           4
          ],
          [
           "Hachibee Aoyama",
           6,
           3.5
          ],
          [
           "すし三崎丸市ヶ谷店",
           1,
           4
          ],
          [
           "Tsukijitamazushi Daiba",
           6,
           3
          ],
          [
           "Sakuranabe Nakae",
           3,
           5
          ],
          [
           "Yonezawagyū Ōki Tōkyō",
           2,
           4.5
          ],
          [
           "Gansozushi Shibuya Center-gai",
           10,
           4
          ],
          [
           "Sushi Dokoro Sei",
           1,
           4
          ],
          [
           "いけ勘",
           1,
           4
          ],
          [
           "Sushi　Ishii",
           2,
           4.5
          ],
          [
           "TSUKIJIRO",
           7,
           5
          ],
          [
           "Sushi Aoki",
           11,
           4.5
          ],
          [
           "uogashizushi",
           3,
           4
          ],
          [
           "英鮨千住店",
           1,
           5
          ],
          [
           "Sushi Misakimaru Togoshi Ginza",
           1,
           5
          ],
          [
           "ヨンパチギョジョウ シナガワテン",
           7,
           5
          ],
          [
           "魚がし日本一新橋駅ビル店",
           2,
           4
          ],
          [
           "Kaiō",
           5,
           3
          ],
          [
           "Hina Sushi Nishi Ginza",
           6,
           3
          ],
          [
           "Ganko Ginza 4 Chōme",
           1,
           5
          ],
          [
           "Miyakozushi",
           3,
           5
          ],
          [
           "Umegaoka Sushi no Midori Souhonten Umegaoka Honkan",
           10,
           5
          ],
          [
           "新八",
           1,
           4
          ],
          [
           "Sushi Noike",
           2,
           4
          ],
          [
           "Uoriki Shibuya Hikarie ShinQs",
           7,
           4.5
          ],
          [
           "Ogawamachi Kinzushi",
           1,
           4
          ],
          [
           "Grow Ueno",
           2,
           5
          ],
          [
           "Edomaesushi Hanabusa",
           2,
           5
          ],
          [
           "Hamazushi Denenchofu",
           3,
           4.5
          ],
          [
           "Sushi Nobu",
           1,
           4
          ],
          [
           "Toyosu Market",
           16,
           3
          ],
          [
           "Sushi Hamanaka",
           1,
           5
          ],
          [
           "Sushi Karaku",
           5,
           4.5
          ],
          [
           "Osamu",
           1,
           4
          ],
          [
           "Asakusa Sushiwaka Kaminarimon",
           3,
           4
          ],
          [
           "金太楼鮨松戸東口店",
           1,
           5
          ],
          [
           "Ōuchi ",
           1,
           4
          ],
          [
           "Sushiro Shinyokohama",
           7,
           4.5
          ],
          [
           "Maguro Tonya Miura Misaki Yokohama World Porters",
           4,
           4.5
          ],
          [
           "Tsukijiginikkan",
           1,
           3
          ],
          [
           "すし三崎丸箱崎ターミナル店",
           1,
           3
          ],
          [
           "Sushiro Sagamino",
           2,
           4.5
          ],
          [
           "Sushino Taikan",
           2,
           4
          ],
          [
           "TsuruTonTan Udon Noodle Brasserie Ginza",
           24,
           4.5
          ],
          [
           "Matsuno Zushi Honten",
           1,
           5
          ],
          [
           "築地すし好下北沢店",
           1,
           4
          ],
          [
           "Ransen hanare",
           1,
           5
          ],
          [
           "Sushishin",
           11,
           3.5
          ],
          [
           "すし輝",
           1,
           5
          ],
          [
           "Sushiro Minamikasai",
           1,
           4
          ],
          [
           "Senzushi Oshima",
           1,
           5
          ],
          [
           "Kanazawa Maimon Sushi Aeon Mall Makuhari Shintoshin ",
           2,
           4.5
          ],
          [
           "Kagurazaka Sushi Academy",
           3,
           3.5
          ],
          [
           "Sushiyano Hanare Newoman Shinjuku",
           2,
           4.5
          ],
          [
           "TOKYU Food Show",
           61,
           4.5
          ],
          [
           "Sushi Ginza Tenkawa",
           1,
           5
          ],
          [
           "Sushi Tsubomi",
           1,
           5
          ],
          [
           "Tsukiji Sushikō Shinjuku",
           4,
           4
          ],
          [
           "鮨勘助",
           1,
           4
          ],
          [
           "Sushi Hirose",
           2,
           4.5
          ],
          [
           "Shoeisushi Nakano",
           1,
           4
          ],
          [
           "Uogashi Nihon-Ichi - Kyobashi EdoGrand",
           1,
           3
          ],
          [
           "Harenohi Shokudō",
           5,
           4
          ],
          [
           "Sushi Izakaya Agemaki",
           2,
           4.5
          ],
          [
           "UOSHIN Nogizaka",
           14,
           4
          ],
          [
           "Ozaki Yukitaka",
           2,
           4.5
          ],
          [
           "独楽寿司大和本店",
           2,
           5
          ],
          [
           "Edomae Gattenzushi Ginza",
           1,
           5
          ],
          [
           "Motodane",
           12,
           4.5
          ],
          [
           "写楽赤坂店",
           1,
           5
          ],
          [
           "Kintarō",
           1,
           5
          ],
          [
           "関所",
           1,
           4
          ],
          [
           "tachiguizushiuogashinihon'ichi",
           1,
           5
          ],
          [
           "Maguro Ichiba Shinbashi Station Ginza",
           2,
           4
          ],
          [
           "Kappazushi Sushinoba Shibuya Bunkamura Dōri",
           1,
           5
          ],
          [
           "Makoto",
           1,
           4
          ],
          [
           "たつみ鮨",
           1,
           4
          ],
          [
           "Sushikuwano",
           2,
           5
          ],
          [
           "Takumi Shingo",
           4,
           5
          ],
          [
           "Sushi Suzuki",
           1,
           4
          ],
          [
           "Ooedo Ikebukuro Seibumae",
           1,
           4
          ],
          [
           "スシロー柏店",
           2,
           5
          ],
          [
           "Sakura Shushi",
           1,
           5
          ],
          [
           "Irohazushi Nakameguro Megurogawazoi",
           3,
           3
          ],
          [
           "築地寿司清築地本店",
           4,
           3.5
          ],
          [
           "Fuunji",
           249,
           4.5
          ],
          [
           "Kinoshige Tsukiji Honten",
           3,
           5
          ],
          [
           "Nikuzushi Ebisu Yokochō",
           1,
           4
          ],
          [
           "Touemon",
           1,
           3
          ],
          [
           "Sakanaya Gohei",
           4,
           4
          ],
          [
           "Ichibancho TERUYA",
           3,
           3.5
          ],
          [
           "常寿司",
           1,
           5
          ],
          [
           "Sushi Murase",
           3,
           4.5
          ],
          [
           "Ginza Maguroya Tsukiji",
           5,
           4
          ],
          [
           "Sushidokoro Nakamura",
           1,
           5
          ],
          [
           "Chiyoda Sushi Narihira",
           1,
           5
          ],
          [
           "Gattenzushi Toshimaen",
           3,
           4
          ],
          [
           "Ooedo Shinjuku Nishiguchi",
           21,
           4
          ],
          [
           "Sushi kuri ya kawa",
           1,
           5
          ],
          [
           "Standing Bar Nagi",
           4,
           4
          ],
          [
           "Sushi Isshin",
           3,
           4.5
          ],
          [
           "Kaisen Misakikō Shibuya Higashi Guchi",
           1,
           4
          ],
          [
           "NADA MAN Shangri-La Hotel Tokyo",
           4,
           4
          ],
          [
           "KINKA sushi bar izakaya ROPPONGI",
           3,
           4
          ],
          [
           "Tsukiji Sushisen Asakusa Kaminarimon",
           2,
           4
          ],
          [
           "Sushi Kurusu",
           1,
           5
          ],
          [
           "Sushisei Tsukiji Shinkan",
           3,
           4.5
          ],
          [
           "Kagurazaka Sushi Rin",
           1,
           4
          ],
          [
           "Sushiono",
           1,
           5
          ],
          [
           "Daikokusan",
           2,
           4.5
          ],
          [
           "Tsukiji SushiDai Shinkan",
           1,
           5
          ],
          [
           "Sushigen IMPERIAL HOTEL",
           1,
           5
          ],
          [
           "Tsukijisushikou",
           2,
           3.5
          ],
          [
           "Takeko",
           3,
           3.5
          ],
          [
           "板前寿司 新宿東宝ビル店",
           25,
           3.5
          ],
          [
           "Sushi Maru",
           1,
           3
          ],
          [
           "すし処匠",
           1,
           4
          ],
          [
           "Takezushi",
           5,
           5
          ],
          [
           "Takewaka Hiroo",
           2,
           4
          ],
          [
           "Gyoshin Hiyoshi",
           4,
           5
          ],
          [
           "Uoriki",
           3,
           4.5
          ],
          [
           "鮨処いとう",
           1,
           5
          ],
          [
           "Tsukijitamazushi Tsukijihonten",
           2,
           4
          ],
          [
           "Sushi Zo Tokyo",
           4,
           5
          ],
          [
           "Ichirikisushi",
           1,
           4
          ],
          [
           "Bikkuri Sushi",
           8,
           3.5
          ],
          [
           "無添くら寿司 セブンタウン小豆沢店",
           1,
           4
          ],
          [
           "Kaisendonburi Ōedo Tsukijiichibanai",
           9,
           4
          ],
          [
           "sushiteru",
           1,
           5
          ],
          [
           "Sushi Inomata",
           1,
           5
          ],
          [
           "Uoshin",
           3,
           4.5
          ],
          [
           "Sushi Keita",
           1,
           4
          ],
          [
           "Kaitenzushi Asuka ",
           1,
           3
          ],
          [
           "R/Q",
           1,
           5
          ],
          [
           "Hanainari",
           2,
           4.5
          ],
          [
           "Sushi Dedesuke",
           1,
           4
          ],
          [
           "Ryū Zushi",
           8,
           4
          ],
          [
           "Hachiku Yotsuya",
           2,
           4
          ],
          [
           "Ginza Kurosu",
           1,
           5
          ],
          [
           "Sushi Iwase",
           2,
           4.5
          ],
          [
           "Mawashizushiwakataka",
           3,
           4
          ],
          [
           "Daisan Harumi Sushi",
           4,
           4.5
          ],
          [
           "Daidaiya Shinjuku",
           3,
           4
          ],
          [
           "Hokake",
           1,
           4
          ],
          [
           "Aoyama Sushi Fukue",
           2,
           5
          ],
          [
           "はま寿司ウィラ大井店",
           1,
           4
          ],
          [
           "ちよだ鮨",
           1,
           3
          ],
          [
           "nanba",
           2,
           5
          ],
          [
           "すし重",
           1,
           4
          ],
          [
           "Abe Toranomon Hiruzu",
           5,
           3.5
          ],
          [
           "Jukusei Zushi Senmonten Wagokoro",
           1,
           5
          ],
          [
           "和田上",
           1,
           5
          ],
          [
           "Tokyo Sky Kitchen",
           8,
           4
          ],
          [
           "英多郎寿司",
           1,
           4
          ],
          [
           "Muten Kura Sushi Asakusa ROX",
           1,
           5
          ],
          [
           "Sushidokoro Kazuki ",
           1,
           4
          ],
          [
           "勢家",
           1,
           4
          ],
          [
           "Hamazushi",
           8,
           3
          ],
          [
           "Katsu Midori Grand Tree Musashikosugi",
           5,
           4.5
          ],
          [
           "すし築地日本海豊洲シエルタワー店",
           1,
           3
          ],
          [
           "Gatten Zushi Ochiai-Minaminagasaki",
           3,
           4
          ],
          [
           "Sushi Gintomi",
           1,
           5
          ],
          [
           " Sumibiyaki Kōbe Gyū Ikuta",
           21,
           5
          ],
          [
           "Yakitori Ogawa",
           11,
           4
          ],
          [
           "Sakana no Meshi Shinbashi",
           1,
           5
          ],
          [
           "Maguro Donya Miura Misakikō Shinyokohama",
           4,
           4.5
          ],
          [
           "Isomatsu",
           3,
           3.5
          ],
          [
           "Ginza SHINTOMIZUSHI / SHINTOMI-SUSHI",
           1,
           4
          ],
          [
           "Sushi Takada Kinpei",
           1,
           4
          ],
          [
           "すし三崎丸田園調布店",
           2,
           4.5
          ],
          [
           "Sushi-No-Kiichi",
           1,
           4
          ],
          [
           "Jirochōsushi",
           1,
           4
          ],
          [
           "Sushi Ga-ryu",
           1,
           5
          ],
          [
           "Kitsuneya",
           23,
           4.5
          ],
          [
           "Kyubey At Keio Plaza Hotel",
           17,
           4
          ],
          [
           "Tamasushi Yokohama Lumine",
           9,
           4
          ],
          [
           "Numazu Uogashi Sushi Shinyokohama",
           2,
           5
          ],
          [
           "Tsurutontan Haneda Kūkō",
           16,
           4
          ],
          [
           "Sushidokoro Hiro",
           1,
           5
          ],
          [
           "Ginza Gyuan",
           52,
           4.5
          ],
          [
           "銀座壮石",
           1,
           5
          ],
          [
           "日本海大森店",
           1,
           4
          ],
          [
           "Japanese Cuisine JUNISOH \tHILTON TOKYO",
           9,
           4
          ],
          [
           "MUSASHI by AMAN",
           1,
           5
          ],
          [
           "新橋しのだ寿司蒲田店",
           1,
           4
          ],
          [
           "Sushi Matsugen",
           1,
           5
          ],
          [
           "SHUSHI DAIDOKOYA Shibuya honten",
           9,
           3.5
          ],
          [
           "Kaiten sushi CHOJIRO Futakotamagawa",
           5,
           3.5
          ],
          [
           " Tsukiji Sushi Hou",
           1,
           5
          ],
          [
           "Sushi Takase",
           2,
           4
          ],
          [
           "Numadzuuogashisushi Marubiru",
           1,
           3
          ],
          [
           "Sushiya Ginzo Shinjuku NS Building",
           1,
           4
          ],
          [
           "Sushi Take",
           2,
           4.5
          ],
          [
           "すし堺",
           2,
           5
          ],
          [
           "Muten KURA Zushi Ichikawa Inter",
           2,
           4
          ],
          [
           "築地すし鮮浅草雷門店",
           1,
           4
          ],
          [
           " Kitazawa kurabu Nishi sandō",
           1,
           5
          ],
          [
           "edohachi",
           1,
           5
          ],
          [
           "KARUME",
           1,
           5
          ],
          [
           "Sushi Kimura",
           6,
           5
          ],
          [
           "Yutaka Sushi",
           1,
           5
          ],
          [
           "Mamazushi",
           1,
           5
          ],
          [
           "Nishiki Gaku-shi kaikan",
           1,
           3
          ],
          [
           "Smart Sushi",
           3,
           3.5
          ],
          [
           "Sushi Katsu",
           3,
           5
          ],
          [
           "Tapas Molecular Bar",
           42,
           4.5
          ],
          [
           "Edoyasu",
           1,
           4
          ],
          [
           "Sushi Rosan Shinjuku",
           3,
           3.5
          ],
          [
           "Yakiuo Ishikawa",
           2,
           4.5
          ],
          [
           "511",
           96,
           4.5
          ],
          [
           "Sushidokoro Kai",
           1,
           4
          ],
          [
           "Sushi Takewaka Bekkan",
           1,
           4
          ],
          [
           "Kai",
           1,
           5
          ],
          [
           "くら寿司町田店",
           2,
           4.5
          ],
          [
           "Sushiya Ginzo Kitte Granche",
           5,
           3
          ],
          [
           "Sushi Kibun",
           1,
           4
          ],
          [
           "Hachibee Roppongi",
           6,
           3.5
          ],
          [
           "CHOUSHIMARU",
           6,
           4
          ],
          [
           "よし寿司西川口東口駅前店",
           2,
           4.5
          ],
          [
           "丸八鮨",
           1,
           4
          ],
          [
           "Sushiro Chofu",
           3,
           4.5
          ],
          [
           "Luxe Dinning Hapuna",
           11,
           4
          ],
          [
           "Gyoshin",
           1,
           4
          ],
          [
           "寿し処原だ",
           1,
           5
          ],
          [
           "鮨文",
           1,
           5
          ],
          [
           "Bobei Oyama",
           1,
           4
          ],
          [
           "Isomarusuisan",
           18,
           4
          ],
          [
           "Gonpachi Nishi-Azabu",
           48,
           4
          ],
          [
           "Hisagozushi",
           1,
           4
          ],
          [
           "Kaisenmisakikō Kinshichō ",
           2,
           2.5
          ],
          [
           "鮨御苑",
           1,
           5
          ],
          [
           "Kizushi",
           3,
           4
          ],
          [
           "Tsukiji Suzutomi",
           1,
           4
          ],
          [
           "Marutomisuisan　",
           2,
           4
          ],
          [
           "桃太郎すし本店",
           2,
           3.5
          ],
          [
           "Heiroku Sushi Omotesandō-",
           27,
           2
          ],
          [
           "Kyubey Hotel Okura branch",
           3,
           4.5
          ],
          [
           "Zoroku Yuzan",
           3,
           5
          ],
          [
           "板前寿司 江戸",
           12,
           4
          ],
          [
           "ageha",
           1,
           4
          ],
          [
           "元祖寿司池袋東口店",
           2,
           4
          ],
          [
           " Kaiten Sushi Fukuchō",
           1,
           4
          ],
          [
           "Sushi Shokunin Hatano Yoshiki",
           1,
           4
          ],
          [
           "Tofuro Nishi Shinjuku 1 Chōme ",
           8,
           4.5
          ],
          [
           "Sushi-Kappo Kaga",
           1,
           4
          ],
          [
           "Katsu Gotanda",
           1,
           4
          ],
          [
           "海旬福よし",
           1,
           5
          ],
          [
           "Fish on Dish Rolly",
           3,
           4.5
          ],
          [
           "板前寿司 銀座ウォータータワー店",
           3,
           4.5
          ],
          [
           "Higashi Ginza Edogin",
           1,
           5
          ],
          [
           "otonawashokutoukyou",
           1,
           4
          ],
          [
           "Miyazono",
           1,
           5
          ],
          [
           "Kaikou",
           2,
           4
          ],
          [
           "Kikkou Funabashi Kitaguchi",
           2,
           4.5
          ],
          [
           "Kappa Sushi Kashiwa",
           1,
           4
          ],
          [
           "Masagozushi",
           1,
           2
          ],
          [
           "totoyamichi",
           1,
           5
          ],
          [
           "SUSHI51",
           4,
           5
          ],
          [
           "LINCOS Roppongi Hills",
           8,
           4.5
          ],
          [
           "Midori Sushi",
           5,
           4.5
          ],
          [
           "HAMAZUSHI Super VIVA Home Toyosu",
           1,
           3
          ],
          [
           "Shichirin Hamayaki to Sushi Banyayoichi Ueno",
           1,
           4
          ],
          [
           "Isozushi",
           2,
           4
          ],
          [
           "Sushi Dari Han",
           1,
           5
          ],
          [
           "Taishou ",
           1,
           5
          ],
          [
           "Kaisen Kofukuzushi",
           1,
           3
          ],
          [
           "Kaisenmisakikō Shimokitazawa",
           1,
           4
          ],
          [
           "元祖寿司",
           2,
           3
          ],
          [
           "Daiwa Zushi",
           2,
           3.5
          ],
          [
           "Kaisen Misakiko Koshigaya  Laketown",
           1,
           5
          ],
          [
           "Sushi Hide",
           3,
           4.5
          ],
          [
           "誠鮨",
           1,
           4
          ],
          [
           "Sushimaru",
           2,
           1.5
          ],
          [
           "Fudōmae Sushi Iwasawa",
           2,
           4.5
          ],
          [
           "鮨兆",
           3,
           4.5
          ],
          [
           "Hamazushi Ayase Ōgami",
           10,
           3.5
          ],
          [
           "はま寿司蒲田駅南店",
           1,
           5
          ],
          [
           "八千代寿司",
           1,
           5
          ],
          [
           "matsubazushi",
           1,
           5
          ],
          [
           "Sushi Ichijō",
           1,
           5
          ],
          [
           "Zauo Shinjuku",
           52,
           3.5
          ],
          [
           "Nadaman Shangri-La Hotel Tokyo",
           1,
           4
          ],
          [
           "Sushi Ikki Tōkyō Marunouchi",
           1,
           3
          ],
          [
           "鮨処一休",
           1,
           4
          ],
          [
           "はま寿司ライフガーデン新浦安店",
           1,
           2
          ],
          [
           "Sushiro Karasuyama",
           3,
           4.5
          ],
          [
           "Kandaya Sushi",
           1,
           4
          ],
          [
           "Tempura Shinjuku Tsunahachi Ginza",
           12,
           4.5
          ],
          [
           "jun",
           1,
           4
          ],
          [
           "Tsukiji Sushisei Hibiya Chanter",
           3,
           3.5
          ],
          [
           "Sushi Gin Azabu",
           3,
           3.5
          ],
          [
           "Maishin",
           5,
           4
          ],
          [
           "Tuskiji Suzutomi Sushitomi Futakotamagawa",
           1,
           4
          ],
          [
           "Ichifukusushi",
           1,
           5
          ],
          [
           "Xex Atago Green Hills Aburiyaki & Sushi An",
           5,
           3.5
          ],
          [
           "元祖寿司錦糸町駅前店",
           1,
           2
          ],
          [
           "Oshokujidokoro Tane ichi",
           3,
           4.5
          ],
          [
           "Afuri Ebisu",
           143,
           4.5
          ],
          [
           "Akasaka Sushi Aoi",
           1,
           5
          ],
          [
           "Matsuribina Yodobashi Yokohama",
           1,
           5
          ],
          [
           "Irohazushi Nakameguro Honten ",
           1,
           4
          ],
          [
           "Sushiden Kenzan",
           3,
           3.5
          ],
          [
           "oogisasamakisushihonpo　ougi",
           1,
           5
          ],
          [
           "Rakushun Dining Zaian Ikebukuro Higashiguchi Honten",
           2,
           4.5
          ],
          [
           "Toshiya",
           3,
           4.5
          ],
          [
           "LIFE Central Square Oshiage Ekimae",
           8,
           4.5
          ],
          [
           "YOSHIMURA　",
           3,
           5
          ],
          [
           "Teppanyaki grow Roppongi ",
           7,
           5
          ],
          [
           "Ichirin ",
           1,
           4
          ],
          [
           "廻る元祖寿司浅草駅前店",
           2,
           4.5
          ],
          [
           "時代寿司",
           1,
           3
          ],
          [
           "Tsukiji Unagi Shokudou",
           5,
           4.5
          ],
          [
           "福助大崎店",
           1,
           4
          ],
          [
           "Taira Roppongi",
           2,
           4
          ],
          [
           "浜田山旭鮨",
           1,
           4
          ],
          [
           "Uohide×SPICE TRUNK",
           1,
           5
          ],
          [
           "花見鮨",
           1,
           5
          ],
          [
           "Hibiki Futei Akasaka",
           2,
           3.5
          ],
          [
           "江戸翔",
           1,
           5
          ],
          [
           "Uogashi nihon'ichi Citta Kawasaki",
           1,
           4
          ],
          [
           "Sushiya JInka",
           1,
           5
          ],
          [
           "sushichoushimaruayaseten",
           1,
           3
          ],
          [
           "nihonbashiniginigiichi",
           1,
           1
          ],
          [
           "Sushiro Muza Kawasaki",
           3,
           3.5
          ],
          [
           "Daikan'yama Sushi Takeuchi",
           1,
           4
          ],
          [
           "Kioicho RANSEN",
           1,
           4
          ],
          [
           "Ueno Yoseya",
           1,
           3
          ],
          [
           "六本木寿司屋のいけ勘",
           1,
           5
          ],
          [
           "Sushi Hanajin",
           1,
           3
          ],
          [
           "Erouma Yasai & Nikubar Kan Beef Shinjuku",
           1,
           5
          ],
          [
           "Taira Shirokane",
           2,
           4
          ],
          [
           "築地日本海・信濃町店",
           1,
           4
          ],
          [
           "Edomae Hattori",
           4,
           4.5
          ],
          [
           "Isomaru Suisan Ōfuna Kasamaguchi",
           2,
           4.5
          ],
          [
           "Okeisushi Nihonbashi Takashimaya ",
           1,
           3
          ],
          [
           "Sushikuni",
           9,
           4
          ],
          [
           "Maguro Donburi Segawa",
           1,
           5
          ],
          [
           "梅家",
           3,
           4
          ],
          [
           "八兵衛",
           2,
           4
          ],
          [
           "Hannodaidokoro",
           17,
           4.5
          ],
          [
           "京樽市ケ谷店",
           1,
           3
          ],
          [
           "Butasute",
           3,
           4
          ],
          [
           "築地寿司清銀座四丁目店",
           2,
           4
          ],
          [
           "やまあい",
           1,
           5
          ],
          [
           "Gansozushi Iidabashi",
           2,
           2
          ],
          [
           "Sushirōasakadai",
           3,
           4.5
          ],
          [
           "asao",
           1,
           5
          ],
          [
           "Tsukijitamazushi　Tsukijikitarou",
           2,
           3.5
          ],
          [
           "いさ美",
           2,
           4.5
          ],
          [
           "Sushiden Haneda Air Port",
           5,
           3.5
          ],
          [
           "Oshima Yokohama Minatomirai",
           1,
           5
          ],
          [
           "沖寿司",
           1,
           5
          ],
          [
           "Hokkaido Shibuya Ekimae ",
           5,
           4
          ],
          [
           "Tsukiji Sushikō Ginza Roku Chōme",
           1,
           1
          ],
          [
           "よし寿司蕨店",
           2,
           4.5
          ],
          [
           "KANAZAWA MAI-MON Sushi Tamahime Tamagawa Takashimaya SC",
           1,
           4
          ],
          [
           "Muten kurazushi Yokohama Seya",
           2,
           4.5
          ],
          [
           "Sushi Isshin",
           8,
           3.5
          ],
          [
           "Sushizanmai Yokohamachūkagai Higashimon",
           2,
           4
          ],
          [
           "Kanzan Ningyocho",
           1,
           4
          ],
          [
           "鮨長",
           1,
           3
          ],
          [
           "Sushi Masa",
           1,
           4
          ],
          [
           "Wasabi",
           1,
           4
          ],
          [
           "Fuji Sushi",
           1,
           3
          ],
          [
           "ICHIBA SUSHI",
           2,
           3
          ],
          [
           "Sushi Sugaya",
           1,
           4
          ],
          [
           "Tsukijisushikō Kanda",
           1,
           3
          ],
          [
           "Gyoshin Jiyūgaoka",
           1,
           4
          ],
          [
           "Asahizushi Sōhonten Shinjuku Sumitomo Biru",
           1,
           4
          ],
          [
           "Yūki",
           2,
           4
          ],
          [
           "Zan",
           2,
           4.5
          ],
          [
           "Premium Kaio diversity Tokyo Plaza",
           5,
           2.5
          ],
          [
           "Uogashizushi ",
           2,
           4
          ],
          [
           "Basara",
           2,
           3.5
          ],
          [
           "Sushisei",
           1,
           5
          ],
          [
           "梅丘寿司の美登利総本店",
           2,
           3
          ],
          [
           "秀鮨",
           1,
           5
          ],
          [
           "Atemaki Kijūrō",
           1,
           5
          ],
          [
           "Shionzushi",
           5,
           3.5
          ],
          [
           "Toshiya Verde",
           1,
           5
          ],
          [
           "TOBIKIN Takamoto Kamiyacho",
           2,
           3.5
          ],
          [
           "Hamashigezushi",
           1,
           5
          ],
          [
           "Food Way Shinyokohama Prince Pepe",
           1,
           5
          ],
          [
           "tempura tsunahachi Shinjuku So Honten",
           113,
           4
          ],
          [
           "Darumazushi",
           1,
           3
          ],
          [
           "築地寿司清渋谷店",
           1,
           5
          ],
          [
           "Sushi Kanroku Shinjuku",
           1,
           4
          ],
          [
           "sushitsunesai",
           2,
           3.5
          ],
          [
           "鮨神田",
           1,
           5
          ],
          [
           "Otanko saitamashintoshin",
           2,
           5
          ],
          [
           "Sushi Shinagawa Aoi ",
           1,
           4
          ],
          [
           "SUSHIZANMAI Honjin",
           1,
           4
          ],
          [
           "Uogushizen",
           1,
           4
          ],
          [
           "鮨ふるかわ",
           1,
           4
          ],
          [
           "Sushimaru",
           4,
           3.5
          ],
          [
           "Sushi Fujita",
           2,
           4
          ],
          [
           "SUSHIDOKORO YACHIYO Shinanomachi Rengakan",
           1,
           4
          ],
          [
           "Onigiriya Marutoyo",
           6,
           4
          ],
          [
           "はま寿司鹿浜店",
           1,
           3
          ],
          [
           "KOJIRO",
           3,
           5
          ],
          [
           "Fifty-One",
           2,
           5
          ],
          [
           "らんまん鮨",
           1,
           5
          ],
          [
           "Uogashi Nihon Ichi Tokyo Sta. Ichibangai",
           1,
           4
          ],
          [
           "Kaitensushi Taisei Tachikawa Kitaguchi",
           2,
           4
          ],
          [
           "Sushibenkei Umi Ginza",
           1,
           5
          ],
          [
           "SUSHI IZAKAYA GAKU HAWAII",
           5,
           5
          ],
          [
           "Kurose Sengyo",
           2,
           4
          ],
          [
           "don'nodonmaruikebukurokanamechouten",
           3,
           3
          ],
          [
           "ちよだ鮨立会川店",
           1,
           4
          ],
          [
           "kaisendokoro kanemithu",
           1,
           4
          ],
          [
           "Genpinfugu Shinjuku 3chōme no seki",
           5,
           4
          ],
          [
           "Sushidokoroshintanaka",
           2,
           4.5
          ],
          [
           "Sushiyū",
           1,
           5
          ]
         ],
         "hovertemplate": "review_count=%{customdata[1]}<br>latitude=%{lat}<br>longitude=%{lon}<br>name=%{customdata[0]}<br>rating=%{marker.color}<extra></extra>",
         "lat": [
          35.665917,
          35.665527,
          35.7112256125179,
          35.711847,
          35.6899698,
          35.6675715648913,
          35.671918,
          35.67899891782,
          35.6798409,
          35.699236,
          35.6974755686167,
          35.6999571843221,
          35.6848602068163,
          35.698418,
          35.6685097691225,
          35.6703869811431,
          35.697771018722904,
          35.7046625,
          35.6914852834496,
          35.681097585635,
          35.6816773,
          35.688329,
          35.7101335336858,
          35.706362,
          35.672322199999996,
          35.697334,
          35.6972660761918,
          35.687867,
          35.6870105462973,
          35.698429,
          35.687178,
          35.711168,
          35.660405,
          35.7122370940807,
          35.697116945647,
          35.6821714540769,
          35.703545,
          35.6850650447919,
          35.6830897119822,
          35.6764368,
          35.710905,
          35.684564,
          35.665059,
          35.662052,
          35.6713709693876,
          35.674919128418,
          35.664783,
          35.69493,
          35.671234,
          35.663786,
          35.7081712125691,
          35.6977691167624,
          35.697692025824,
          35.6415162,
          35.6603956553606,
          35.6828860866449,
          35.711152,
          35.686700017553,
          35.6807496410944,
          35.7329289278529,
          35.7091955106045,
          35.6859815056488,
          35.6947983694627,
          35.686408996582,
          35.6813426754301,
          35.6859647928884,
          35.6588787121888,
          35.682709,
          35.658344,
          35.679053323832,
          35.660236,
          35.6554741,
          35.687209,
          35.6809054352424,
          35.6575980632418,
          35.7085823088895,
          35.7003928801471,
          35.624837,
          35.7099150583321,
          35.673267,
          35.6654586791992,
          35.6551513671875,
          35.680068,
          35.6920906704911,
          35.664584,
          35.665784413121,
          35.672616,
          35.7133185,
          35.6291280885396,
          35.677720065331,
          35.728491,
          35.7266647,
          35.6998942,
          35.6695803,
          35.671832,
          35.661131,
          35.670583,
          35.627082,
          35.6905367,
          35.6503880722514,
          35.74363,
          35.674268,
          35.6948732473436,
          35.664998,
          35.62487,
          35.64399,
          35.6730061215117,
          35.671341,
          35.6288336761815,
          35.680779,
          35.73171,
          35.6923379289823,
          35.6594639291003,
          35.65713,
          35.696791151715,
          35.666287,
          35.7111709,
          35.690197,
          35.6804104,
          35.6460729317,
          35.668075,
          35.7243149,
          35.6678787229819,
          35.6703358914626,
          35.6647567749023,
          35.681744,
          35.6798885451835,
          35.6923522949219,
          35.6901230593421,
          35.6762415,
          35.6928503150147,
          35.6677906179847,
          35.6963310241699,
          35.6476329296971,
          35.6587827822096,
          35.6685368794993,
          35.6637348595193,
          35.6822557878498,
          35.684198082715,
          35.6651230997705,
          35.668668,
          35.6623504,
          35.718863999999996,
          35.6461030843482,
          35.647915,
          35.6728713156965,
          35.66825681316,
          35.697765,
          35.6712096805213,
          35.6654451601,
          35.6965828698925,
          35.644241,
          35.686818,
          35.6619386523601,
          35.664606,
          35.6654311950778,
          35.7081767,
          35.7056050689453,
          35.6648483276367,
          35.6611464162526,
          35.6732091297343,
          35.6536993,
          35.711715,
          35.69053,
          35.634692,
          35.684476,
          35.6462263,
          35.641598771146,
          35.669256,
          35.6721496582031,
          35.6550860500605,
          35.6634351165356,
          35.63292,
          35.7508325176266,
          35.6896662869505,
          35.682399,
          35.6749341315559,
          35.6666410950741,
          35.7020843457519,
          35.6903806018388,
          35.696156,
          35.6743123513491,
          35.688256,
          35.7293804,
          35.698391,
          35.6538823432583,
          35.6460682,
          35.7200695964139,
          35.669821999999996,
          35.7342673,
          35.674181,
          35.6618709648377,
          35.6613485040952,
          35.670673,
          35.673239,
          35.6811598646102,
          35.6661482,
          35.6674048656649,
          35.672664642334,
          35.695121,
          35.693846664578,
          35.681933,
          35.644268388249,
          35.6594621430771,
          35.628108,
          35.780156,
          35.7009999929019,
          35.7083783106328,
          35.6652240085428,
          35.6468391418457,
          35.6836472707232,
          35.6764729,
          35.6568736660157,
          35.7239530107986,
          35.7193323696912,
          35.687831,
          35.6975477204209,
          35.703026,
          35.6411575838,
          35.6659649532061,
          35.624739,
          35.6677566851484,
          35.665759,
          35.7047204773022,
          35.6996154785156,
          35.68558,
          35.7078465592592,
          35.6695852492215,
          35.7125738603074,
          35.6810509,
          35.6687537889281,
          35.663403621435,
          35.706845799999996,
          35.56269,
          35.665926999999996,
          35.6810171699671,
          35.667988,
          35.675498,
          35.694937952397,
          35.7314251704695,
          35.6342515429227,
          35.6654152200357,
          35.6742527,
          35.711526,
          35.644505,
          35.7017766775973,
          35.6676194,
          35.7477111816406,
          35.6664357367021,
          35.7545698076244,
          35.729511127775,
          35.6681881079708,
          35.6590793,
          35.6723709106445,
          35.6645985137395,
          35.6457185301501,
          35.6662109007585,
          35.6654375423276,
          35.7294352324029,
          35.669107,
          35.6641222,
          35.7035168,
          35.702428,
          35.67608706478,
          35.7074804255563,
          35.7378674991604,
          35.6475499010387,
          35.6867404349575,
          35.658464,
          35.6647679,
          35.6662723750315,
          35.7491373,
          35.6217847399449,
          35.64479,
          35.667385,
          35.6984725357229,
          35.6575675408477,
          35.6908535,
          35.6855598517505,
          35.6714370850865,
          35.464602,
          35.671335,
          35.6460224316431,
          35.6686486057099,
          35.7033462524414,
          35.547201,
          35.666764,
          35.685694,
          35.6514484233775,
          35.711477,
          35.670869,
          35.6443099975586,
          35.6556914177454,
          35.69322,
          35.681141,
          35.5510377427147,
          35.6575126647949,
          35.6492275920339,
          35.6633998707343,
          35.713020324707,
          35.693598,
          35.6551854971948,
          35.6670560806683,
          35.673226,
          35.6254990172705,
          35.692468,
          35.565512178665,
          35.671989440918,
          35.6941757202148,
          35.661077,
          35.6303823917878,
          35.6901509566864,
          35.6654008,
          35.681373,
          35.7125024746864,
          35.6765587337027,
          35.6815785434855,
          35.6691094184257,
          35.6612356,
          35.6681237034905,
          35.732999359021,
          35.673897,
          35.6692886352539,
          35.7067464877614,
          35.660459,
          35.702142337683,
          35.6609134,
          35.6740315617983,
          35.6475752797436,
          35.6821617274044,
          35.6716669,
          35.6619992,
          35.671401,
          35.6987483142484,
          35.663534,
          35.6480309482791,
          35.6547214282063,
          35.589953,
          35.66734,
          35.7073591708488,
          35.670547,
          35.648241,
          35.732616,
          35.660116,
          35.654196999999996,
          35.694793,
          35.6575411837377,
          35.6545561780128,
          35.6589379,
          35.6434,
          35.667138,
          35.454606,
          35.7137009470544,
          35.65635,
          35.6384658813477,
          35.6649192369554,
          35.673119,
          35.7106604,
          35.6910254669284,
          35.664966583252,
          35.6617572,
          35.6651606620979,
          35.704453455146,
          35.729219,
          35.6638106,
          35.7521051863882,
          35.6601143,
          35.6610201218074,
          35.705018,
          35.663441,
          35.723584,
          35.6630028663065,
          35.6574783325195,
          35.7628054220517,
          35.6612851275059,
          35.7217270247391,
          35.727878,
          35.6500625610352,
          35.677335,
          35.6518603802075,
          35.6074626,
          35.6638319631856,
          35.676478,
          35.6624747303835,
          35.712822,
          35.6202450997263,
          35.6981089521927,
          35.6250424222209,
          35.626363,
          35.7078235,
          35.6661777720275,
          35.698332,
          35.6886272,
          35.603762930761,
          35.689914,
          35.677076469501,
          35.748473,
          35.738155,
          35.6426887512207,
          35.6566017889232,
          35.69539,
          35.729116,
          35.6296753637362,
          35.673989,
          35.7316131591797,
          35.7083985492949,
          35.597756,
          35.6889449411171,
          35.631941,
          35.6723709106445,
          35.6564102172852,
          35.7041249920653,
          35.7772759147313,
          35.5878990667361,
          35.6693253,
          35.687561099999996,
          35.6075897216797,
          35.62037,
          35.6878866288081,
          35.6695278460424,
          35.6679898656931,
          35.6693534585865,
          35.67032,
          35.6711361595636,
          35.7643814086914,
          35.6835115580065,
          35.7007179260254,
          35.6669175473256,
          35.6582107543945,
          35.691893,
          35.671842,
          35.652105824529,
          35.670177,
          35.6601986901014,
          35.6662026,
          35.6649342246104,
          35.656667361042,
          35.7075962,
          35.6555715513426,
          35.6645889282227,
          35.6702350529897,
          35.6710929870605,
          35.6869612128766,
          35.544609,
          35.6489448547363,
          35.6427116394043,
          35.6690600560029,
          35.7646107,
          35.707836151123,
          35.6692244166054,
          35.701563,
          35.679078,
          35.655763,
          35.665012,
          35.658874,
          35.7178404313055,
          35.660561,
          35.6654816,
          35.688814,
          35.6868465324256,
          35.674371,
          35.6964181797963,
          35.6694065705234,
          35.677974,
          35.6617728602672,
          35.6831622309604,
          35.672668241765,
          35.656747,
          35.662478,
          35.67145,
          35.6423968,
          35.6961445501649,
          35.6298398042976,
          35.674539,
          35.7264483036838,
          35.6947021484375,
          35.657088,
          35.6618985,
          35.6918296813965,
          35.664157,
          35.6677932739258,
          35.550235,
          35.7088102261618,
          35.662509,
          35.668266,
          35.6185559,
          35.709483,
          35.6731060504533,
          35.6970689611896,
          35.6468471,
          35.6658662786788,
          35.68564,
          35.6550152,
          35.6661646867831,
          35.655583,
          35.673259,
          35.8591496268,
          35.6335983276367,
          35.7099150583321,
          35.692139,
          35.668189541374,
          35.6688188715574,
          35.6849854687236,
          35.661912,
          35.6080492001847,
          35.712304318801,
          35.7106285095215,
          35.695743560791,
          35.6497546517041,
          35.6855540545097,
          35.649292,
          35.7450370788574,
          35.6657310636093,
          35.7149778807954,
          35.6974998728913,
          35.686493,
          35.5856978190829,
          35.6883694130721,
          35.686488,
          35.7545247228991,
          35.727612,
          35.6623385483501,
          35.709042,
          35.6615010939597,
          35.6691375838354,
          35.7312596513606,
          35.6748819,
          35.677545204019,
          35.6593117,
          35.711934,
          35.6462264,
          35.6643556475884,
          35.6448581945884,
          35.7477332229531,
          35.6905466906162,
          35.670462,
          35.6986600632213,
          35.7066333337776,
          35.660665,
          35.6279624268165,
          35.659362,
          35.6515632088213,
          35.7437213392794,
          35.6926965956829,
          35.6287845599596,
          35.6701316833496,
          35.7303428649902,
          35.6885223388672,
          35.6637968,
          35.6653344,
          35.664711,
          35.6924930417731,
          35.650447642793,
          35.7338659388493,
          35.6345537695449,
          35.688950230841,
          35.670543,
          35.658986,
          35.7030941585841,
          35.6573569273744,
          35.7210026136521,
          35.6687518431058,
          35.6901411826911,
          35.6251579,
          35.653373,
          35.704012,
          35.667537689209,
          35.6633415222168,
          35.6829566955566,
          35.627997,
          35.63363,
          35.6610154526699,
          35.682556,
          35.5330332339,
          35.6296768188477,
          35.6655451868861,
          35.6688116,
          35.693086,
          35.706999,
          35.665628,
          35.6458246767618,
          35.659208,
          35.679747,
          35.684746,
          35.6612867581886,
          35.67285,
          35.665937,
          35.6710815429688,
          35.6597785949707,
          35.6924869341649,
          35.629226,
          35.7251324225142,
          35.682297,
          35.660617,
          35.663415,
          35.7230703588299,
          35.6737134,
          35.66541,
          35.6707229009754,
          35.7368555559544,
          35.7492143327254,
          35.615629,
          35.6301551034577,
          35.6662527538352,
          35.6250396335325,
          35.6730554361584,
          35.672265,
          35.7555618286133,
          35.655605,
          35.6779262153905,
          35.7247246,
          35.6590232849121,
          35.696677,
          35.7080192565918,
          35.6723709106445,
          35.5861547922025,
          35.6564598083496,
          35.6550494590697,
          35.7193972978164,
          35.6713070275538,
          35.643851,
          35.711496,
          35.7858340586,
          35.6604831190096,
          35.5019946304422,
          35.4538381815927,
          35.6193771362305,
          35.682031456164,
          35.47003,
          35.51177,
          35.6724806,
          35.5878600661351,
          35.659964634931,
          35.6814497732861,
          35.6583699766804,
          35.7306668860606,
          35.652231,
          35.6901083433052,
          35.6525015480072,
          35.7012474539862,
          35.6883438669375,
          35.658416,
          35.668741,
          35.646698,
          35.692723,
          35.7171970635156,
          35.6565134287694,
          35.7088507116163,
          35.677304,
          35.6654650939878,
          35.649019,
          35.6668571217305,
          35.6537158341326,
          35.4705275165,
          35.672741,
          35.664722,
          35.6760565973187,
          35.6523418369997,
          35.7222655679942,
          35.7322043,
          35.6677369995761,
          35.660213,
          35.6698570251465,
          35.6693833218689,
          35.6684614409375,
          35.671545,
          35.6749378484747,
          35.7293096915012,
          35.8557669351,
          35.730937,
          35.6448132981074,
          35.6648523711991,
          35.6868279,
          35.664902,
          35.648286,
          35.6792579,
          35.6286914,
          35.6861297009099,
          35.7119416044739,
          35.661605,
          35.6649468848837,
          35.6222429040837,
          35.7107215,
          35.7430651428298,
          35.6933694670044,
          35.64469,
          35.6594857,
          35.7182709,
          35.656589,
          35.682277,
          35.6646944,
          35.710835,
          35.6433633,
          35.6652240085428,
          35.7009369449451,
          35.6483070839975,
          35.5435698933282,
          35.6653262,
          35.672133,
          35.6272349217297,
          35.700711,
          35.6954128753584,
          35.663531,
          35.6705641175622,
          35.5115033857,
          35.6510827,
          35.554049,
          35.7379621704773,
          35.6706147253793,
          35.6692796840822,
          35.664426,
          35.5620803833008,
          35.6468211605857,
          35.780501,
          35.6626569,
          35.6890024,
          35.8069686889648,
          35.7051042976749,
          35.6654511,
          35.754688,
          35.704452,
          35.701307,
          35.6684779872561,
          35.663857,
          35.68810115825,
          35.670492922535,
          35.688918,
          35.7315497454012,
          35.668433,
          35.690377,
          35.670297,
          35.660781,
          35.5970634597536,
          35.7032410398455,
          35.7040402,
          35.7325211132214,
          35.666601,
          35.654504,
          35.703693455158,
          35.54698909538,
          35.712978,
          35.712911,
          35.7352792526062,
          35.6150926746146,
          35.712316,
          35.5736453682092,
          35.6536807081172,
          35.7236794060799,
          35.668383,
          35.6817144809568,
          35.689631,
          35.6675804014868,
          35.508625,
          35.6291694641113,
          35.6702174578926,
          35.6611061096191,
          35.5971025425962,
          35.645564,
          35.690564,
          35.6887633,
          35.6657066,
          35.6900893,
          35.4653124926,
          35.5076668,
          35.545448,
          35.6741757200618,
          35.6689450990182,
          35.6685724143047,
          35.5707563566406,
          35.692532,
          35.685422,
          35.5625679207772,
          35.6455268859863,
          35.658014,
          35.612729,
          35.6645660400391,
          35.6815905481417,
          35.6811829,
          35.6882,
          35.670652,
          35.9038731606375,
          35.711959,
          35.7107931455344,
          35.6828878384536,
          35.780797824344,
          35.648799,
          35.616066000000004,
          35.5802383422852,
          35.7295607897784,
          35.693149130164,
          35.6965194078171,
          35.5086945284,
          35.6870716988793,
          35.739003,
          35.691478,
          35.6654586791992,
          35.674704,
          35.6068993,
          35.667193,
          35.6692583709516,
          35.5421548082104,
          35.6798409,
          35.6682644771008,
          35.662921,
          35.7535182724101,
          35.8160133643,
          35.7327764138655,
          35.6812019566175,
          35.6280212,
          35.6070578,
          35.6697282873396,
          35.661971461356,
          35.7486839294434,
          35.6944897026996,
          35.6602253,
          35.6453264196921,
          35.697813,
          35.6908922905065,
          35.6865025146608,
          35.6699532,
          35.66556,
          35.7053279588775,
          35.6668940855485,
          35.6668687139854,
          35.6624068,
          35.677325,
          35.6499938964844,
          35.7303018283709,
          35.8621,
          35.657321,
          35.6903352852036,
          35.693591,
          35.6199688,
          35.714618940178,
          35.7445716344112,
          35.668715,
          35.6702255,
          35.6794328278912,
          35.6608734130859,
          35.6789126044983,
          35.7041007406626,
          35.8806960760799,
          35.696149,
          35.6248868887032,
          35.512249,
          35.65843,
          35.6519030150617,
          35.65692,
          35.7103253048516,
          35.6630218230599,
          35.6832899519711,
          35.68027,
          35.5846598719634,
          35.660129,
          35.6977606454997,
          35.666874282749,
          35.8778528974477,
          35.603579,
          35.6990200497578,
          35.70558,
          35.624223,
          35.6733436144903,
          35.4631163188551,
          35.5601682577654,
          35.6026899568684,
          35.5868394,
          35.690342,
          35.6869150403735,
          35.6822736126709,
          35.6792239034458,
          35.6651127572392,
          35.6430216253,
          35.673434,
          35.6311378479004,
          35.671936,
          35.6667051269608,
          35.6730792214007,
          35.6554427358198,
          35.658691,
          35.612117,
          35.8147690723,
          35.6622018518183,
          35.6960080695954,
          35.6657409667969,
          35.648317,
          35.671297,
          35.467564,
          35.6462873299895,
          35.6722913,
          35.715604,
          35.733554,
          35.6520421863038,
          35.710279,
          35.782899,
          35.663171,
          35.6935615539551,
          35.7109565463135,
          35.6992070861947,
          35.665489,
          35.6202201650278,
          35.662265,
          35.681624,
          35.65517044,
          35.6348462252507,
          35.6689567162406,
          35.7350173678462,
          35.528948,
          35.6692654860924,
          35.770966485638,
          35.6828893503356,
          35.531318,
          35.652437,
          35.681585,
          35.7134749487661,
          35.6586341468086,
          35.728792,
          35.689891,
          35.664119720459,
          35.6807433898975,
          35.6641222,
          35.3540725708008,
          35.6807659435929,
          35.664842,
          35.6654594,
          35.7079647145719,
          35.6478354597369,
          35.65966796875,
          35.6918168355958,
          35.679723363453,
          35.6717181457719,
          35.7016046460928,
          35.701303,
          35.813793182373,
          35.6653701571846,
          35.6683019574443,
          35.60756314615,
          35.5488435409576,
          35.4568877153293,
          35.8243553137,
          35.6602761291401,
          35.6706170431201,
          35.826892228,
          35.613282,
          35.460858,
          35.6726476,
          35.4436730311411,
          35.686201,
          35.606854474282,
          35.6875398760092,
          35.708736,
          35.6427184981237,
          35.644537,
          35.65529,
          35.692054,
          35.6070556640625,
          35.6914215087891,
          35.646543,
          35.665565,
          35.6249633143393,
          35.6158807851243,
          35.6761,
          35.7595139543565,
          35.6146680623873,
          35.7060152901993,
          35.6998411365787,
          35.6926854604863,
          35.6538127261256,
          35.663402,
          35.665672,
          35.5095167,
          35.690824,
          35.6299731651441,
          35.6590441618686,
          35.692641,
          35.6117481402589,
          35.7272807234,
          35.893362061,
          35.610149,
          35.666727,
          35.6640038290036,
          35.6616536335289,
          35.690686,
          35.6720886230469,
          35.681312,
          35.6653803504686,
          35.7788834457709,
          35.670993,
          35.6604314357737,
          35.6686133561927,
          35.6816773,
          35.6992910391794,
          35.670146,
          35.6064446479115,
          35.664913,
          35.7337326,
          35.5979751451447,
          35.5865097045898,
          35.6906744,
          35.6129390587929,
          35.661758
         ],
         "legendgroup": "",
         "lon": [
          139.770608,
          139.770494008705,
          139.795545595344,
          139.795839,
          139.6972898,
          139.772446538519,
          139.767574,
          139.76307909322,
          139.7650921,
          139.772991,
          139.757081910758,
          139.755228912626,
          139.783878205367,
          139.770602,
          139.761222451596,
          139.759601,
          139.785395333331,
          139.753342,
          139.770373531559,
          139.763630072857,
          139.7639301,
          139.700503,
          139.775658158904,
          139.753272,
          139.7601871,
          139.773242,
          139.772716766677,
          139.773878,
          139.774491531768,
          139.772199,
          139.742251,
          139.775057,
          139.699389,
          139.775979354199,
          139.813278312421,
          139.79836625362,
          139.771514,
          139.781714932379,
          139.768393199857,
          139.7366656,
          139.774987,
          139.761059,
          139.770652,
          139.747915,
          139.765831441,
          139.736801147461,
          139.770437,
          139.700426,
          139.761311,
          139.770641,
          139.774105591805,
          139.775247344232,
          139.771444976874,
          139.7153641,
          139.729217156638,
          139.784095957875,
          139.774886,
          139.774193951606,
          139.771593985923,
          139.710011137711,
          139.772941482075,
          139.702457283564,
          139.757076742281,
          139.78076171875,
          139.768651999398,
          139.783428753843,
          139.752309373706,
          139.766616,
          139.698986,
          139.737710913186,
          139.700514,
          139.7549518,
          139.774178,
          139.768551097467,
          139.745124255345,
          139.775274920083,
          139.772606033187,
          139.739497,
          139.810766581685,
          139.7765305,
          139.770797729492,
          139.798004150391,
          139.76781,
          139.779691601097,
          139.772296671952,
          139.75724928611,
          139.764021,
          139.7970776,
          139.786611257266,
          139.769421662398,
          139.776926,
          139.7113721,
          139.7704495,
          139.759328,
          139.76225,
          139.700987,
          139.764893,
          139.772574,
          139.7692314,
          139.746324999003,
          139.84548,
          139.768652,
          139.814833233541,
          139.7584735,
          139.730383,
          139.784466,
          139.737298463671,
          139.761141,
          139.737211830844,
          139.770645,
          139.708148,
          139.771740320883,
          139.72309243524,
          139.754119,
          139.786245022926,
          139.744055,
          139.7749182,
          139.703937,
          139.7716528,
          139.888368,
          139.76271,
          139.7834904,
          139.761000550842,
          139.800298233877,
          139.731674194336,
          139.766811,
          139.773607887205,
          139.702392578125,
          139.684537247575,
          139.7706974,
          139.772226512432,
          139.758792130507,
          139.787002563477,
          139.724584386037,
          139.729261106864,
          139.760988442548,
          139.769549332559,
          139.773799365884,
          139.784759268458,
          139.757295142883,
          139.766929,
          139.7332646,
          139.786645,
          139.70809979961,
          139.745319,
          139.766346104443,
          139.753528113739,
          139.771597,
          139.763113774853,
          139.756228,
          139.702697619796,
          139.782568,
          139.7724942,
          139.743850299425,
          139.771138,
          139.770408741468,
          139.7740934,
          139.75182563905,
          139.762496948242,
          139.667481527397,
          139.736387143728,
          139.7558434,
          139.796746,
          139.7027647,
          139.885165,
          139.781945,
          139.7260261,
          139.697104289686,
          139.767085,
          139.774505615234,
          139.75711451064,
          139.769539765424,
          139.715974,
          139.804748767738,
          139.73574411124,
          139.702367,
          139.7643666481,
          139.749512441386,
          139.772202943016,
          139.703156885914,
          139.767636,
          139.767881653362,
          139.720555,
          139.7110627,
          139.705207,
          139.801308967078,
          139.7077646,
          139.763756821099,
          139.75916,
          139.7380587,
          139.761879,
          139.736578418374,
          139.756555635679,
          139.760364,
          139.7695892,
          139.766000424489,
          139.7704811,
          139.770538094917,
          139.76545715332,
          139.759544,
          139.77234659758,
          139.784919,
          139.67031,
          139.697798,
          139.738845,
          139.791508,
          139.771073638533,
          139.770354512369,
          139.770869821763,
          139.718597412109,
          139.78324886266,
          139.6769106,
          139.759302971378,
          139.752018770341,
          139.763973565607,
          139.743342,
          139.734078302925,
          139.5782,
          139.927197565,
          139.739444367272,
          139.771666,
          139.756540954113,
          139.770626766678,
          139.64946741327,
          139.784088134766,
          139.728292,
          139.68221811906,
          139.762644408517,
          139.791975,
          139.7351855,
          139.767420882974,
          139.769406146168,
          139.6656409,
          139.716533,
          139.720409,
          139.766726761813,
          139.711531,
          139.767906,
          139.793815567376,
          139.728510506316,
          139.714905532438,
          139.757884263407,
          139.7665644,
          139.725327,
          139.782054,
          139.79584,
          139.7179155,
          139.857223510742,
          139.705776678348,
          139.802245217484,
          139.715547473068,
          139.77042723972,
          139.6681234,
          139.73649597168,
          139.739472229257,
          139.708881419627,
          139.770515933633,
          139.769986162955,
          139.712918532167,
          139.703438,
          139.729426,
          139.5795373,
          139.650292,
          139.764638522556,
          139.772298467494,
          139.760205013452,
          139.709401575082,
          139.727846767175,
          139.703219,
          139.7746364,
          139.755802167051,
          139.8052694,
          139.740475812439,
          139.786035,
          139.7179945,
          139.76784305273,
          139.756584673587,
          139.6912172,
          139.732222832796,
          139.752795457749,
          139.624816,
          139.761655,
          139.714499538463,
          139.75985533883,
          139.743408203125,
          139.768309,
          139.741913,
          139.78415842524,
          139.722433647737,
          139.79715,
          139.797477,
          139.699203491211,
          139.756849743426,
          139.701468,
          139.76793,
          139.788681091866,
          139.754180908203,
          139.702832620382,
          139.73326613749,
          139.797698974609,
          139.69416,
          139.793240531289,
          139.756672110591,
          139.766093,
          139.722397439182,
          139.770797,
          139.714573865783,
          139.764007568359,
          139.701873779297,
          139.705779,
          139.709625580375,
          139.709822323958,
          139.7610622,
          139.7678,
          139.704797960657,
          139.828692245162,
          139.770274768413,
          139.771361290431,
          139.6985372,
          139.761299960596,
          139.767685132133,
          139.759173,
          139.707107543945,
          139.772913465047,
          139.698813,
          139.811389343327,
          139.6979734,
          139.737300367178,
          139.723634812815,
          139.786355032727,
          139.7611948,
          139.734048,
          139.817213,
          139.77277636528,
          139.76931,
          139.67792922369,
          139.736129743581,
          139.727885,
          139.708932,
          139.725734447475,
          139.765618,
          139.710443,
          139.729009,
          139.722472,
          139.752757,
          139.702408,
          139.69551707311,
          139.734592214283,
          139.698202,
          139.780865,
          139.713656,
          139.642069,
          139.704651812695,
          139.7429,
          139.728637695312,
          139.770839160984,
          139.765622,
          139.7968805,
          139.705587370843,
          139.770980834961,
          139.8558465,
          139.770119054918,
          139.769645287072,
          139.7051782,
          139.7097111,
          139.802551435621,
          139.7266125,
          139.696551704084,
          139.633581,
          139.76942,
          139.817598,
          139.761271827363,
          139.723541259766,
          139.849095356412,
          139.733977828358,
          139.705994430858,
          139.764628,
          139.701766967773,
          139.761408,
          139.745333356728,
          139.7362414,
          139.730283,
          139.73696,
          139.734509958345,
          139.863429,
          139.726717039749,
          139.696505822574,
          139.780781453693,
          139.722472,
          139.6659269,
          139.770260737596,
          139.774815,
          139.7131902,
          139.732183627922,
          139.69686,
          139.736263665307,
          139.703089,
          139.84871,
          139.748992919922,
          139.734359969173,
          139.703166,
          139.719458,
          139.682793993758,
          139.737557,
          139.728454589844,
          139.665517013975,
          139.737992,
          139.697511233389,
          140.078818,
          139.73649597168,
          139.742599487305,
          139.732426510541,
          139.721580029258,
          139.728825104174,
          139.7602649,
          139.7278695,
          139.735458374023,
          139.715982,
          139.715033085381,
          139.745587346392,
          139.762642907211,
          139.760178302655,
          139.706367,
          139.741235427375,
          139.689697265625,
          139.76649639956,
          139.815811157227,
          139.738471887755,
          139.777206420898,
          139.763474,
          139.762253,
          139.638533513067,
          139.767916,
          139.696535490847,
          139.7312591,
          139.736315817223,
          139.694322209564,
          139.7726102,
          139.746978543699,
          139.739501953125,
          139.768671750886,
          139.761138916016,
          139.778420249961,
          139.769444,
          139.745208740234,
          139.714096069336,
          139.761738547175,
          139.8357821,
          139.769149780273,
          139.688953270532,
          139.698101,
          139.772876,
          139.682778,
          139.770557,
          139.697244,
          139.764820987998,
          139.7026067,
          139.7708116,
          139.698043,
          139.696724679871,
          139.765366,
          139.787797961414,
          139.761895794378,
          139.737277,
          139.725223294938,
          139.73837546293,
          139.771610831047,
          139.694173,
          139.698741,
          139.724831,
          139.7205247,
          139.7032234,
          139.662582644529,
          139.815872,
          139.763017736848,
          139.812515258789,
          139.666675,
          139.6683205,
          139.781127929688,
          139.693984,
          139.772521972656,
          139.788893,
          139.812387877026,
          139.734297,
          139.764516,
          139.6425192,
          139.736029,
          139.760936730606,
          139.829885481888,
          139.746575,
          139.857982697891,
          139.69095,
          139.7347203,
          139.769032161507,
          139.706928,
          139.668565,
          139.655136521,
          139.719619750977,
          139.810766581685,
          139.697262,
          139.74105361754,
          139.749779519723,
          139.783810706027,
          139.698578,
          139.669923419846,
          139.793265467935,
          139.792892456055,
          139.827392578125,
          139.709343714295,
          139.774910326169,
          140.042478,
          139.527359008789,
          139.770394866889,
          139.748456,
          139.767920833043,
          139.774123,
          139.683346266264,
          139.798326492378,
          139.697002,
          139.736986031908,
          139.712306,
          139.731295513249,
          139.77231,
          139.729487089242,
          139.682388552726,
          139.709270157008,
          139.7671348,
          139.732474800565,
          139.7290984,
          139.79515,
          139.7038372,
          139.770880043506,
          139.74843087626,
          139.719583801925,
          139.6663407192,
          139.76271,
          139.67076168333,
          139.76242285136,
          139.730052,
          139.735812280583,
          139.7224712,
          139.704548769964,
          139.720892278344,
          139.692538687184,
          139.742367314732,
          139.760162353516,
          139.710556030273,
          139.681701660156,
          139.7121304,
          139.771398,
          139.732407,
          139.704173820565,
          139.637233689919,
          139.726751346652,
          139.716334010243,
          139.698442782394,
          139.681258,
          139.698487,
          139.665985243981,
          139.735665628017,
          139.652433172467,
          139.767060835184,
          139.702268645195,
          139.7238112,
          139.708979,
          139.765279,
          139.754974365234,
          139.665771484375,
          139.825668334961,
          139.738931,
          139.714239,
          139.722048364868,
          139.782399,
          139.695901756,
          139.710876464844,
          139.769957818453,
          139.7609851,
          139.702208,
          139.779118,
          139.770369,
          139.707534650938,
          139.703875,
          139.773531,
          139.615375,
          139.722285764214,
          139.895205,
          139.739446,
          139.762100219727,
          139.701797485352,
          139.735330344961,
          139.775764,
          139.797042128879,
          139.76814,
          139.698611,
          139.7694091,
          139.690955930586,
          139.7373209,
          139.771147,
          139.762982768206,
          139.673296594948,
          139.803501161083,
          139.71531,
          139.737774798877,
          139.759485744741,
          139.775269699464,
          139.76370983453,
          139.765164,
          139.710494995117,
          139.6541,
          139.782073082223,
          139.7646822,
          139.703475952148,
          139.761195,
          139.7705078125,
          139.73649597168,
          139.671613499522,
          139.700942993164,
          139.797590838623,
          139.727093568178,
          139.76393322012,
          139.731796,
          139.795659,
          139.904802756,
          139.707510104014,
          139.607630150694,
          139.638618719225,
          139.704483032227,
          139.787525232614,
          139.43116,
          139.6185338,
          139.7629119,
          139.73486403942,
          139.668609534247,
          139.734939540922,
          139.718809413295,
          139.707252296156,
          139.870101,
          139.83978659101,
          140.031637363136,
          139.739647959398,
          139.701108964279,
          139.701239,
          139.759853,
          139.692946,
          139.705453,
          139.812475308247,
          139.723143105734,
          139.665714563229,
          139.769691,
          139.770559751054,
          139.706736,
          139.728114211864,
          139.735268642264,
          139.436534556,
          139.76581,
          139.771922,
          139.736754497817,
          139.67734687778199,
          139.778077185323,
          139.7100653,
          139.758295507747,
          139.698217,
          139.759689331055,
          139.773048636437,
          139.761214398227,
          139.723894,
          139.737287275756,
          139.712939924423,
          139.963046912,
          139.709804,
          139.700300790511,
          139.770407931878,
          139.6966516,
          139.770794,
          139.710711,
          139.7825317,
          139.7439172,
          139.73933470694,
          139.794109022121,
          139.727666,
          139.773379342351,
          139.72298275206,
          139.8014968,
          139.647992253991,
          139.69885034773,
          139.715513,
          139.696318,
          139.7965107,
          139.704512,
          139.769232,
          139.728083,
          139.79498,
          139.7187054,
          139.770869821763,
          139.740080335926,
          139.711108622942,
          139.44710920454,
          139.7746281,
          139.758911,
          139.742160026665,
          139.74113,
          139.701775615185,
          139.768985,
          139.797260426941,
          139.4124322,
          139.7227537,
          139.646089,
          139.655288635075,
          139.737364388464,
          139.771621539516,
          139.728595,
          139.7109375,
          139.711884449963,
          139.695187,
          139.7692035,
          139.7221754,
          139.71809387207,
          139.575887534586,
          139.773612,
          139.737929,
          139.7711049,
          139.820488,
          139.756800327559,
          139.770549,
          139.719097454112,
          139.763026384886,
          139.702532,
          139.71398668913,
          139.756853,
          139.701316,
          139.767225,
          139.705639,
          139.744581458173,
          139.736711460899,
          139.6350573,
          139.768938378222,
          139.749608,
          139.707089,
          139.621509827884,
          139.767843828974,
          139.768184,
          139.792962,
          139.711261769649,
          139.718278239632,
          139.7075758,
          139.660140111155,
          139.796200363899,
          139.678709445246,
          139.761179,
          139.702289969671,
          139.72216,
          139.760195353091,
          139.618333,
          139.743209838867,
          139.76505733482,
          139.724838256836,
          139.668973415974,
          139.707732908468,
          139.77042,
          139.7206787,
          139.7698783,
          139.6944878,
          139.622767036,
          139.6173986,
          139.769199,
          139.737589780838,
          139.76498794801,
          139.766890856821,
          139.732092737156,
          139.691088,
          139.765271,
          139.714672318096,
          139.707290649414,
          139.696408,
          139.627265,
          139.771484375,
          139.703579773424,
          139.7637704,
          139.693762,
          139.683442,
          139.6227193455,
          139.92659,
          139.794965661976,
          139.692060412818,
          139.724698232936,
          139.706872,
          139.624355,
          139.762741088867,
          139.908712729812,
          139.759072962336,
          139.708185092335,
          139.5899492,
          139.77308716625,
          139.849812,
          139.704653,
          139.770797729492,
          139.735364,
          139.6472076,
          139.771057,
          139.682467971995,
          139.45977196391,
          139.7650921,
          139.759666204343,
          139.732669,
          139.627025129733,
          139.706308922,
          139.739865833286,
          139.553940358892,
          139.735285,
          139.6672056,
          139.762863096455,
          139.765847323382,
          139.703018188477,
          139.701976981395,
          139.7235128,
          139.756712655854,
          139.812135,
          139.71087637169,
          139.783596495918,
          139.764398,
          139.75776,
          139.651330286692,
          139.708278114828,
          139.744125008583,
          139.7281811,
          139.736298,
          139.733123779297,
          139.71391869031,
          139.971138,
          139.733641,
          139.695919329601,
          139.70830898079,
          139.7160674,
          139.86107768492,
          139.723638858916,
          139.760748,
          139.7696338,
          139.768911706836,
          139.722534179688,
          139.827523637987,
          139.986588743516,
          139.9665021867,
          139.792579,
          139.688530643839,
          139.418386,
          139.732142,
          139.636497581921,
          139.798252,
          139.774162449651,
          139.769959296622,
          139.703124091029,
          139.835211,
          139.740404545061,
          139.667431,
          139.771469013875,
          139.756955379076,
          139.824827983975,
          139.7046662,
          139.764907296124,
          139.618016,
          139.717021,
          139.738450297445,
          139.430905710224,
          139.717199978242,
          139.720360227357,
          139.7061617,
          139.782722,
          139.693165533967,
          139.769233837724,
          139.765239222351,
          139.692705895803,
          139.899385952,
          139.605844,
          139.642822265625,
          139.766265,
          139.756653744452,
          139.759949597179,
          139.734246929844,
          139.69766,
          139.627748,
          139.582691424,
          139.748900540475,
          139.812967234715,
          139.770141601562,
          139.710867,
          139.735092,
          139.620592,
          139.696643455617,
          139.7666456,
          139.766472324074,
          139.716883,
          139.637252235314,
          139.813921,
          139.677901,
          139.734567,
          139.707870483398,
          139.798156495987,
          139.748437296627,
          139.770817,
          139.729049343185,
          139.730619,
          139.627872953921,
          139.70162964,
          139.715907368636,
          139.74249902013,
          139.784707218314,
          139.698532,
          139.760053075203,
          139.82987165434,
          139.77477350033,
          139.694785,
          139.703891,
          139.733531,
          139.780271798791,
          139.727732353409,
          139.77199,
          139.70199,
          139.729400634766,
          139.719674923737,
          139.729426,
          139.532577514648,
          139.773497028188,
          139.770728,
          139.7707838,
          139.665717292462,
          139.710714508317,
          139.697875976562,
          139.739199488987,
          139.764664557439,
          139.765918590326,
          139.740022913191,
          139.740257,
          139.581634521484,
          139.783220714653,
          139.769435652134,
          139.735415145607,
          139.784067830027,
          139.635726297874,
          139.895746121,
          139.702066584973,
          139.761669,
          139.688978564,
          139.626239,
          139.479978,
          139.7395362,
          139.646972731371,
          139.784516,
          139.73017645074,
          139.895311517779,
          139.771027,
          139.74855960266,
          139.784616,
          139.742502,
          139.770544,
          139.667205810547,
          139.692596435547,
          139.733433,
          139.771223,
          139.77564182265,
          139.713262243907,
          139.768706,
          139.636195497749,
          139.627166534031,
          139.782441361479,
          139.411599722963,
          139.701950389377,
          139.63372385254,
          139.745822,
          139.770023,
          139.6188705,
          139.703373,
          139.684925745106,
          139.698930334267,
          139.698722,
          139.628196008735,
          139.928428692,
          139.63089025,
          139.743384,
          139.769541,
          139.749624411212,
          139.721248337372,
          139.703442,
          139.770599365234,
          139.719116,
          139.769774908213,
          139.750105043277,
          139.760284,
          139.729261620198,
          139.760761097509,
          139.7639301,
          139.413484338069,
          139.767921,
          139.653912,
          139.770268,
          139.6969287,
          139.738735249564,
          139.727005004883,
          139.7065146,
          139.677940076995,
          139.725214
         ],
         "marker": {
          "color": [
           4.5,
           5,
           4.5,
           4.5,
           4.5,
           5,
           4.5,
           4.5,
           4.5,
           4,
           4.5,
           5,
           4.5,
           4.5,
           4.5,
           4.5,
           5,
           4,
           5,
           5,
           5,
           4.5,
           4,
           4.5,
           4.5,
           4.5,
           4.5,
           4.5,
           4,
           4.5,
           5,
           4,
           4,
           4.5,
           5,
           5,
           5,
           4.5,
           4.5,
           4.5,
           4,
           5,
           4.5,
           4,
           4.5,
           4,
           4.5,
           4.5,
           5,
           4.5,
           4.5,
           4,
           3.5,
           5,
           4,
           5,
           4.5,
           4.5,
           4.5,
           4.5,
           4,
           4.5,
           5,
           5,
           4,
           5,
           5,
           4,
           4.5,
           5,
           4.5,
           4,
           5,
           4.5,
           5,
           4.5,
           4,
           4.5,
           4.5,
           4.5,
           4.5,
           5,
           4.5,
           4.5,
           4.5,
           4,
           4,
           5,
           4.5,
           5,
           5,
           4.5,
           4,
           4,
           4,
           4.5,
           4.5,
           3.5,
           4.5,
           4.5,
           5,
           4,
           4.5,
           5,
           5,
           5,
           4.5,
           5,
           4,
           4.5,
           5,
           5,
           5,
           4.5,
           4,
           4.5,
           3.5,
           4.5,
           5,
           5,
           5,
           5,
           5,
           4.5,
           5,
           4.5,
           4.5,
           4.5,
           4.5,
           5,
           4,
           4,
           5,
           5,
           4.5,
           4.5,
           4,
           5,
           4.5,
           4.5,
           5,
           5,
           5,
           4.5,
           4.5,
           4.5,
           5,
           4,
           5,
           4.5,
           5,
           5,
           5,
           5,
           5,
           4.5,
           4,
           4,
           4.5,
           4.5,
           4,
           5,
           4,
           4.5,
           3.5,
           4.5,
           5,
           4.5,
           4.5,
           5,
           4.5,
           4.5,
           4.5,
           5,
           4,
           4.5,
           5,
           4,
           5,
           4,
           4.5,
           5,
           5,
           4.5,
           4,
           4,
           4.5,
           5,
           4,
           4,
           4.5,
           4,
           4.5,
           5,
           5,
           4,
           4.5,
           4.5,
           5,
           4,
           4.5,
           4,
           4.5,
           4,
           4.5,
           5,
           5,
           3.5,
           4.5,
           4,
           4,
           4,
           4.5,
           3,
           4.5,
           5,
           5,
           4.5,
           5,
           5,
           4.5,
           4.5,
           4.5,
           4.5,
           5,
           5,
           5,
           4.5,
           4,
           4.5,
           5,
           4.5,
           4.5,
           4.5,
           4.5,
           4,
           4.5,
           5,
           5,
           4,
           4.5,
           4.5,
           3.5,
           5,
           4.5,
           4.5,
           4.5,
           5,
           4.5,
           5,
           4.5,
           5,
           4,
           4.5,
           4,
           4.5,
           4,
           4,
           4,
           4,
           5,
           4,
           5,
           5,
           4.5,
           4,
           4.5,
           5,
           4.5,
           5,
           5,
           4,
           4,
           4.5,
           5,
           4,
           4,
           4,
           5,
           4,
           4.5,
           4.5,
           5,
           5,
           5,
           4,
           5,
           4.5,
           4.5,
           4,
           5,
           5,
           3.5,
           4.5,
           4.5,
           4.5,
           5,
           4.5,
           4,
           4.5,
           4.5,
           4,
           4,
           4.5,
           4.5,
           3.5,
           4.5,
           5,
           4,
           4.5,
           5,
           5,
           4.5,
           4.5,
           3.5,
           3.5,
           3,
           4,
           4,
           4,
           5,
           4,
           4,
           4,
           4.5,
           5,
           4.5,
           4,
           4.5,
           4,
           5,
           4,
           4,
           3.5,
           5,
           5,
           5,
           4.5,
           4,
           5,
           4,
           5,
           5,
           5,
           4,
           4,
           4,
           5,
           4.5,
           5,
           5,
           4.5,
           4.5,
           5,
           5,
           4.5,
           5,
           4.5,
           4.5,
           5,
           4,
           4.5,
           4,
           4,
           5,
           5,
           5,
           4,
           4.5,
           4,
           4,
           4.5,
           5,
           5,
           4.5,
           4.5,
           4,
           5,
           5,
           4,
           5,
           3.5,
           5,
           4,
           4.5,
           5,
           5,
           2.5,
           4,
           4,
           4.5,
           5,
           4.5,
           5,
           3,
           4.5,
           4,
           5,
           4,
           4.5,
           4,
           5,
           4.5,
           5,
           5,
           4.5,
           4,
           4,
           4.5,
           4.5,
           5,
           4,
           4.5,
           4.5,
           4.5,
           5,
           5,
           5,
           4,
           5,
           4,
           5,
           4,
           4,
           5,
           4.5,
           4.5,
           5,
           5,
           4,
           5,
           5,
           5,
           4,
           5,
           5,
           5,
           4.5,
           4.5,
           4.5,
           5,
           5,
           4,
           3.5,
           3.5,
           4,
           5,
           5,
           5,
           4,
           4,
           4.5,
           5,
           4.5,
           5,
           4,
           5,
           4,
           4,
           4,
           4.5,
           4,
           5,
           4,
           5,
           5,
           3,
           4.5,
           4.5,
           4.5,
           5,
           4.5,
           5,
           2.5,
           4,
           4,
           5,
           5,
           5,
           4.5,
           4,
           4.5,
           4,
           4,
           5,
           5,
           5,
           4.5,
           4,
           4,
           5,
           4,
           5,
           5,
           4.5,
           3,
           5,
           4,
           4,
           5,
           3.5,
           5,
           3,
           4,
           5,
           4.5,
           4,
           4,
           5,
           3.5,
           4,
           5,
           4.5,
           5,
           5,
           4,
           5,
           4,
           4.5,
           4,
           3.5,
           4,
           5,
           3.5,
           5,
           5,
           4.5,
           5,
           4.5,
           3.5,
           5,
           4.5,
           4,
           4,
           4,
           4.5,
           5,
           4.5,
           5,
           4,
           4,
           5,
           4,
           4,
           4,
           5,
           4,
           4,
           4.5,
           5,
           5,
           4.5,
           5,
           4,
           3.5,
           4.5,
           4.5,
           4.5,
           4,
           4,
           5,
           5,
           4.5,
           4,
           4,
           3,
           5,
           5,
           5,
           5,
           4.5,
           4.5,
           3.5,
           4.5,
           5,
           4,
           4,
           4.5,
           4,
           5,
           4.5,
           4.5,
           5,
           4,
           5,
           5,
           4.5,
           4,
           3.5,
           4,
           3,
           5,
           4.5,
           4,
           4,
           4,
           4.5,
           5,
           4.5,
           4,
           5,
           5,
           5,
           4,
           3,
           3,
           5,
           5,
           5,
           4,
           4,
           4.5,
           4,
           5,
           5,
           4.5,
           4,
           3,
           5,
           4.5,
           4,
           4,
           5,
           4,
           4.5,
           4.5,
           3,
           3,
           4.5,
           4,
           4.5,
           5,
           4,
           5,
           3.5,
           5,
           4,
           5,
           4.5,
           3.5,
           4.5,
           4.5,
           5,
           5,
           4,
           4,
           4.5,
           4,
           3,
           4,
           4.5,
           4,
           4.5,
           5,
           5,
           4.5,
           5,
           5,
           4,
           5,
           4,
           5,
           4,
           4,
           5,
           5,
           4,
           4,
           5,
           5,
           3,
           3.5,
           4.5,
           5,
           4,
           3,
           4,
           3.5,
           5,
           4.5,
           4,
           5,
           5,
           4,
           4,
           5,
           4,
           4.5,
           4,
           4,
           4,
           4,
           5,
           4.5,
           4,
           5,
           4.5,
           5,
           5,
           3.5,
           3.5,
           3.5,
           3,
           4,
           5,
           4,
           5,
           4.5,
           5,
           4,
           5,
           4,
           3.5,
           4,
           4,
           5,
           5,
           4.5,
           4,
           3,
           5,
           4.5,
           4,
           4,
           4,
           5,
           4.5,
           4,
           4.5,
           4,
           4,
           5,
           4,
           3,
           5,
           4,
           3.5,
           5,
           5,
           4,
           4,
           5,
           4,
           4,
           3,
           4.5,
           3,
           4,
           5,
           5,
           4,
           5,
           4.5,
           3.5,
           4,
           4,
           4.5,
           4,
           4,
           5,
           4.5,
           4,
           4,
           5,
           4,
           5,
           4.5,
           5,
           4,
           4,
           5,
           4,
           5,
           3.5,
           3.5,
           5,
           4,
           3,
           4,
           4.5,
           5,
           4,
           4,
           5,
           5,
           5,
           5,
           5,
           5,
           3,
           3.5,
           5,
           4.5,
           4,
           3.5,
           4.5,
           4.5,
           4,
           4,
           5,
           4.5,
           3,
           4,
           3.5,
           4,
           4.5,
           4,
           4.5,
           4,
           4,
           5,
           5,
           4,
           4,
           4,
           4,
           2.5,
           5,
           4,
           4,
           4,
           3.5,
           2,
           4.5,
           5,
           4,
           4,
           4,
           4,
           4,
           4.5,
           4,
           4,
           5,
           4.5,
           4.5,
           5,
           4,
           5,
           4,
           4.5,
           4,
           2,
           5,
           5,
           4.5,
           4.5,
           3,
           4,
           4,
           5,
           5,
           3,
           4,
           3,
           3.5,
           5,
           4.5,
           4,
           1.5,
           4.5,
           4.5,
           3.5,
           5,
           5,
           5,
           5,
           3.5,
           4,
           3,
           4,
           2,
           4.5,
           4,
           4.5,
           4,
           3.5,
           3.5,
           4,
           4,
           5,
           3.5,
           2,
           4.5,
           4.5,
           5,
           5,
           4,
           3.5,
           5,
           4.5,
           4.5,
           4.5,
           5,
           5,
           4,
           4.5,
           3,
           4.5,
           4,
           4,
           4,
           5,
           5,
           3.5,
           5,
           4,
           5,
           3,
           1,
           3.5,
           4,
           4,
           3,
           5,
           3,
           5,
           4,
           4,
           4.5,
           4.5,
           3,
           4,
           5,
           4,
           4,
           4.5,
           3,
           4,
           4,
           5,
           2,
           4.5,
           5,
           3.5,
           4.5,
           3.5,
           5,
           5,
           4,
           1,
           4.5,
           4,
           4.5,
           3.5,
           4,
           4,
           3,
           4,
           4,
           3,
           3,
           4,
           3,
           4,
           4,
           4,
           4.5,
           2.5,
           4,
           3.5,
           5,
           3,
           5,
           5,
           3.5,
           5,
           3.5,
           5,
           5,
           4,
           3,
           5,
           4,
           3.5,
           5,
           5,
           4,
           4,
           4,
           4,
           3.5,
           4,
           4,
           4,
           3,
           5,
           5,
           5,
           4,
           4,
           5,
           5,
           4,
           3,
           4,
           4,
           4,
           4.5,
           5
          ],
          "coloraxis": "coloraxis",
          "size": [
           162,
           49,
           34,
           48,
           119,
           31,
           11,
           60,
           84,
           9,
           2,
           6,
           4,
           49,
           131,
           88,
           6,
           2,
           2,
           11,
           2,
           66,
           12,
           9,
           38,
           9,
           7,
           2,
           14,
           3,
           4,
           5,
           326,
           2,
           5,
           1,
           18,
           19,
           10,
           31,
           5,
           10,
           13,
           12,
           5,
           6,
           34,
           223,
           5,
           34,
           7,
           10,
           26,
           4,
           6,
           2,
           16,
           2,
           41,
           12,
           7,
           6,
           1,
           1,
           6,
           3,
           1,
           7,
           138,
           4,
           128,
           3,
           2,
           5,
           41,
           3,
           1,
           49,
           27,
           2,
           27,
           46,
           273,
           6,
           14,
           9,
           84,
           18,
           2,
           1,
           1,
           3,
           18,
           17,
           31,
           627,
           6,
           15,
           2,
           4,
           1,
           15,
           9,
           1,
           19,
           3,
           35,
           29,
           10,
           2,
           13,
           1,
           53,
           4,
           1,
           21,
           8,
           74,
           1,
           1,
           5,
           4,
           3,
           2,
           1,
           16,
           7,
           17,
           8,
           1,
           1,
           12,
           1,
           5,
           93,
           31,
           14,
           1,
           2,
           17,
           20,
           2,
           1,
           10,
           3,
           2,
           1,
           2,
           12,
           4,
           3,
           3,
           4,
           1,
           6,
           26,
           2,
           1,
           4,
           3,
           32,
           5,
           10,
           484,
           3,
           11,
           5,
           2,
           2,
           1,
           3,
           8,
           31,
           3,
           1,
           7,
           1,
           1,
           1,
           88,
           2,
           2,
           9,
           16,
           63,
           2,
           6,
           1,
           13,
           5,
           44,
           8,
           3,
           1,
           7,
           1,
           8,
           5,
           5,
           1,
           20,
           1,
           5,
           160,
           7,
           6,
           1,
           3,
           6,
           4,
           2,
           2,
           2,
           1,
           3,
           1,
           2,
           11,
           1,
           5,
           2,
           2,
           25,
           2,
           1,
           11,
           2,
           3,
           2,
           8,
           2,
           7,
           2,
           11,
           93,
           4,
           178,
           70,
           1,
           2,
           15,
           3,
           13,
           2,
           3,
           7,
           12,
           1,
           17,
           1,
           2,
           1,
           4,
           6,
           2,
           3,
           4,
           22,
           3,
           12,
           8,
           1,
           1,
           1,
           2,
           2,
           2,
           1,
           12,
           3,
           1,
           2,
           1,
           27,
           2,
           4,
           1,
           2,
           1,
           6,
           33,
           4,
           2,
           1,
           1,
           8,
           1,
           2,
           4,
           8,
           1,
           2,
           3,
           101,
           2,
           3,
           4,
           7,
           21,
           3,
           16,
           1,
           3,
           3,
           2,
           2,
           4,
           5,
           4,
           6,
           1,
           2,
           4,
           3,
           3,
           3,
           1,
           8,
           1,
           3,
           1,
           2,
           313,
           1,
           55,
           1,
           6,
           3,
           9,
           1,
           14,
           5,
           1,
           3,
           8,
           1,
           1,
           3,
           6,
           1,
           1,
           1,
           1,
           17,
           1,
           31,
           22,
           1,
           14,
           1,
           2,
           2,
           3,
           1,
           1,
           10,
           2,
           2,
           11,
           2,
           1,
           5,
           1,
           7,
           5,
           1,
           8,
           31,
           2,
           16,
           1,
           4,
           5,
           1,
           15,
           3,
           1,
           1,
           1,
           1,
           1,
           6,
           2,
           16,
           2,
           1,
           3,
           3,
           1,
           1,
           4,
           1,
           3,
           1,
           14,
           2,
           1,
           4,
           1,
           3,
           55,
           6,
           2,
           1,
           1,
           2,
           1,
           39,
           3,
           6,
           1,
           2,
           3,
           2,
           11,
           6,
           1,
           1,
           2,
           1,
           32,
           2,
           1,
           3,
           2,
           3,
           2,
           1,
           1,
           1,
           12,
           2,
           1,
           9,
           7,
           1,
           4,
           2,
           3,
           2,
           2,
           1,
           1,
           22,
           2,
           1,
           3,
           1,
           1,
           1,
           5,
           24,
           1,
           3,
           27,
           1,
           1,
           6,
           1,
           17,
           27,
           1,
           4,
           100,
           4,
           1,
           2,
           76,
           12,
           3,
           1,
           4,
           1,
           2,
           1,
           1,
           4,
           5,
           1,
           2,
           1,
           4,
           1,
           67,
           2,
           3,
           1,
           3,
           1,
           1,
           1,
           3,
           1,
           2,
           12,
           1,
           1,
           1,
           2,
           2,
           2,
           1,
           4,
           2,
           4,
           2,
           2,
           1,
           1,
           3,
           2,
           3,
           6,
           2,
           1,
           1,
           2,
           1,
           225,
           1,
           14,
           1,
           1,
           20,
           1,
           1,
           7,
           5,
           4,
           6,
           1,
           2,
           2,
           2,
           4,
           3,
           1,
           5,
           4,
           8,
           2,
           1,
           1,
           1,
           5,
           2,
           1,
           4,
           10,
           1,
           4,
           4,
           1,
           1,
           4,
           8,
           3,
           6,
           1,
           1,
           1,
           1,
           6,
           1,
           5,
           1,
           1,
           2,
           1,
           4,
           86,
           3,
           3,
           4,
           7,
           14,
           1,
           10,
           1,
           2,
           2,
           5,
           1,
           2,
           12,
           1,
           8,
           2,
           6,
           1,
           6,
           3,
           2,
           10,
           1,
           1,
           2,
           7,
           11,
           3,
           1,
           1,
           7,
           2,
           5,
           6,
           1,
           3,
           10,
           1,
           2,
           7,
           1,
           2,
           2,
           3,
           1,
           16,
           1,
           5,
           1,
           3,
           1,
           1,
           7,
           4,
           1,
           1,
           2,
           2,
           24,
           1,
           1,
           1,
           11,
           1,
           1,
           1,
           2,
           3,
           2,
           61,
           1,
           1,
           4,
           1,
           2,
           1,
           1,
           5,
           2,
           14,
           2,
           2,
           1,
           12,
           1,
           1,
           1,
           1,
           2,
           1,
           1,
           1,
           2,
           4,
           1,
           1,
           2,
           1,
           3,
           4,
           249,
           3,
           1,
           1,
           4,
           3,
           1,
           3,
           5,
           1,
           1,
           3,
           21,
           1,
           4,
           3,
           1,
           4,
           3,
           2,
           1,
           3,
           1,
           1,
           2,
           1,
           1,
           2,
           3,
           25,
           1,
           1,
           5,
           2,
           4,
           3,
           1,
           2,
           4,
           1,
           8,
           1,
           9,
           1,
           1,
           3,
           1,
           1,
           1,
           2,
           1,
           8,
           2,
           1,
           2,
           3,
           4,
           3,
           1,
           2,
           1,
           1,
           2,
           1,
           5,
           1,
           1,
           8,
           1,
           1,
           1,
           1,
           8,
           5,
           1,
           3,
           1,
           21,
           11,
           1,
           4,
           3,
           1,
           1,
           2,
           1,
           1,
           1,
           23,
           17,
           9,
           2,
           16,
           1,
           52,
           1,
           1,
           9,
           1,
           1,
           1,
           9,
           5,
           1,
           2,
           1,
           1,
           2,
           2,
           2,
           1,
           1,
           1,
           1,
           6,
           1,
           1,
           1,
           3,
           3,
           42,
           1,
           3,
           2,
           96,
           1,
           1,
           1,
           2,
           5,
           1,
           6,
           6,
           2,
           1,
           3,
           11,
           1,
           1,
           1,
           1,
           18,
           48,
           1,
           2,
           1,
           3,
           1,
           2,
           2,
           27,
           3,
           3,
           12,
           1,
           2,
           1,
           1,
           8,
           1,
           1,
           1,
           3,
           3,
           1,
           1,
           1,
           2,
           2,
           1,
           1,
           1,
           4,
           8,
           5,
           1,
           1,
           2,
           1,
           1,
           1,
           1,
           2,
           2,
           1,
           3,
           1,
           2,
           2,
           3,
           10,
           1,
           1,
           1,
           1,
           52,
           1,
           1,
           1,
           1,
           3,
           1,
           12,
           1,
           3,
           3,
           5,
           1,
           1,
           5,
           1,
           3,
           143,
           1,
           1,
           1,
           3,
           1,
           2,
           3,
           8,
           3,
           7,
           1,
           2,
           1,
           5,
           1,
           2,
           1,
           1,
           1,
           2,
           1,
           1,
           1,
           1,
           1,
           3,
           1,
           1,
           1,
           1,
           1,
           1,
           2,
           1,
           4,
           2,
           1,
           9,
           1,
           3,
           2,
           17,
           1,
           3,
           2,
           1,
           2,
           3,
           1,
           2,
           2,
           5,
           1,
           1,
           5,
           1,
           2,
           1,
           2,
           8,
           2,
           1,
           1,
           1,
           1,
           1,
           2,
           1,
           1,
           1,
           1,
           2,
           2,
           5,
           2,
           2,
           1,
           2,
           1,
           1,
           5,
           1,
           2,
           1,
           1,
           113,
           1,
           1,
           1,
           2,
           1,
           2,
           1,
           1,
           1,
           1,
           4,
           2,
           1,
           6,
           1,
           3,
           2,
           1,
           1,
           2,
           1,
           5,
           2,
           3,
           1,
           1,
           5,
           2,
           1
          ],
          "sizemode": "area",
          "sizeref": 0.0627
         },
         "mode": "markers",
         "name": "",
         "showlegend": false,
         "subplot": "mapbox",
         "type": "scattermapbox"
        }
       ],
       "layout": {
        "coloraxis": {
         "colorbar": {
          "title": {
           "text": "rating"
          }
         },
         "colorscale": [
          [
           0,
           "rgb(0,0,255)"
          ],
          [
           0.1,
           "rgb(51,153,255)"
          ],
          [
           0.2,
           "rgb(102,204,255)"
          ],
          [
           0.3,
           "rgb(153,204,255)"
          ],
          [
           0.4,
           "rgb(204,204,255)"
          ],
          [
           0.5,
           "rgb(255,255,255)"
          ],
          [
           0.6,
           "rgb(255,204,255)"
          ],
          [
           0.7,
           "rgb(255,153,255)"
          ],
          [
           0.8,
           "rgb(255,102,204)"
          ],
          [
           0.9,
           "rgb(255,102,102)"
          ],
          [
           1,
           "rgb(255,0,0)"
          ]
         ]
        },
        "legend": {
         "itemsizing": "constant",
         "tracegroupgap": 0
        },
        "mapbox": {
         "center": {
          "lat": 35.672173367919626,
          "lon": 139.73876467543846
         },
         "domain": {
          "x": [
           0,
           1
          ],
          "y": [
           0,
           1
          ]
         },
         "style": "carto-positron",
         "zoom": 10
        },
        "margin": {
         "t": 60
        },
        "template": {
         "data": {
          "bar": [
           {
            "error_x": {
             "color": "#2a3f5f"
            },
            "error_y": {
             "color": "#2a3f5f"
            },
            "marker": {
             "line": {
              "color": "#E5ECF6",
              "width": 0.5
             },
             "pattern": {
              "fillmode": "overlay",
              "size": 10,
              "solidity": 0.2
             }
            },
            "type": "bar"
           }
          ],
          "barpolar": [
           {
            "marker": {
             "line": {
              "color": "#E5ECF6",
              "width": 0.5
             },
             "pattern": {
              "fillmode": "overlay",
              "size": 10,
              "solidity": 0.2
             }
            },
            "type": "barpolar"
           }
          ],
          "carpet": [
           {
            "aaxis": {
             "endlinecolor": "#2a3f5f",
             "gridcolor": "white",
             "linecolor": "white",
             "minorgridcolor": "white",
             "startlinecolor": "#2a3f5f"
            },
            "baxis": {
             "endlinecolor": "#2a3f5f",
             "gridcolor": "white",
             "linecolor": "white",
             "minorgridcolor": "white",
             "startlinecolor": "#2a3f5f"
            },
            "type": "carpet"
           }
          ],
          "choropleth": [
           {
            "colorbar": {
             "outlinewidth": 0,
             "ticks": ""
            },
            "type": "choropleth"
           }
          ],
          "contour": [
           {
            "colorbar": {
             "outlinewidth": 0,
             "ticks": ""
            },
            "colorscale": [
             [
              0,
              "#0d0887"
             ],
             [
              0.1111111111111111,
              "#46039f"
             ],
             [
              0.2222222222222222,
              "#7201a8"
             ],
             [
              0.3333333333333333,
              "#9c179e"
             ],
             [
              0.4444444444444444,
              "#bd3786"
             ],
             [
              0.5555555555555556,
              "#d8576b"
             ],
             [
              0.6666666666666666,
              "#ed7953"
             ],
             [
              0.7777777777777778,
              "#fb9f3a"
             ],
             [
              0.8888888888888888,
              "#fdca26"
             ],
             [
              1,
              "#f0f921"
             ]
            ],
            "type": "contour"
           }
          ],
          "contourcarpet": [
           {
            "colorbar": {
             "outlinewidth": 0,
             "ticks": ""
            },
            "type": "contourcarpet"
           }
          ],
          "heatmap": [
           {
            "colorbar": {
             "outlinewidth": 0,
             "ticks": ""
            },
            "colorscale": [
             [
              0,
              "#0d0887"
             ],
             [
              0.1111111111111111,
              "#46039f"
             ],
             [
              0.2222222222222222,
              "#7201a8"
             ],
             [
              0.3333333333333333,
              "#9c179e"
             ],
             [
              0.4444444444444444,
              "#bd3786"
             ],
             [
              0.5555555555555556,
              "#d8576b"
             ],
             [
              0.6666666666666666,
              "#ed7953"
             ],
             [
              0.7777777777777778,
              "#fb9f3a"
             ],
             [
              0.8888888888888888,
              "#fdca26"
             ],
             [
              1,
              "#f0f921"
             ]
            ],
            "type": "heatmap"
           }
          ],
          "heatmapgl": [
           {
            "colorbar": {
             "outlinewidth": 0,
             "ticks": ""
            },
            "colorscale": [
             [
              0,
              "#0d0887"
             ],
             [
              0.1111111111111111,
              "#46039f"
             ],
             [
              0.2222222222222222,
              "#7201a8"
             ],
             [
              0.3333333333333333,
              "#9c179e"
             ],
             [
              0.4444444444444444,
              "#bd3786"
             ],
             [
              0.5555555555555556,
              "#d8576b"
             ],
             [
              0.6666666666666666,
              "#ed7953"
             ],
             [
              0.7777777777777778,
              "#fb9f3a"
             ],
             [
              0.8888888888888888,
              "#fdca26"
             ],
             [
              1,
              "#f0f921"
             ]
            ],
            "type": "heatmapgl"
           }
          ],
          "histogram": [
           {
            "marker": {
             "pattern": {
              "fillmode": "overlay",
              "size": 10,
              "solidity": 0.2
             }
            },
            "type": "histogram"
           }
          ],
          "histogram2d": [
           {
            "colorbar": {
             "outlinewidth": 0,
             "ticks": ""
            },
            "colorscale": [
             [
              0,
              "#0d0887"
             ],
             [
              0.1111111111111111,
              "#46039f"
             ],
             [
              0.2222222222222222,
              "#7201a8"
             ],
             [
              0.3333333333333333,
              "#9c179e"
             ],
             [
              0.4444444444444444,
              "#bd3786"
             ],
             [
              0.5555555555555556,
              "#d8576b"
             ],
             [
              0.6666666666666666,
              "#ed7953"
             ],
             [
              0.7777777777777778,
              "#fb9f3a"
             ],
             [
              0.8888888888888888,
              "#fdca26"
             ],
             [
              1,
              "#f0f921"
             ]
            ],
            "type": "histogram2d"
           }
          ],
          "histogram2dcontour": [
           {
            "colorbar": {
             "outlinewidth": 0,
             "ticks": ""
            },
            "colorscale": [
             [
              0,
              "#0d0887"
             ],
             [
              0.1111111111111111,
              "#46039f"
             ],
             [
              0.2222222222222222,
              "#7201a8"
             ],
             [
              0.3333333333333333,
              "#9c179e"
             ],
             [
              0.4444444444444444,
              "#bd3786"
             ],
             [
              0.5555555555555556,
              "#d8576b"
             ],
             [
              0.6666666666666666,
              "#ed7953"
             ],
             [
              0.7777777777777778,
              "#fb9f3a"
             ],
             [
              0.8888888888888888,
              "#fdca26"
             ],
             [
              1,
              "#f0f921"
             ]
            ],
            "type": "histogram2dcontour"
           }
          ],
          "mesh3d": [
           {
            "colorbar": {
             "outlinewidth": 0,
             "ticks": ""
            },
            "type": "mesh3d"
           }
          ],
          "parcoords": [
           {
            "line": {
             "colorbar": {
              "outlinewidth": 0,
              "ticks": ""
             }
            },
            "type": "parcoords"
           }
          ],
          "pie": [
           {
            "automargin": true,
            "type": "pie"
           }
          ],
          "scatter": [
           {
            "fillpattern": {
             "fillmode": "overlay",
             "size": 10,
             "solidity": 0.2
            },
            "type": "scatter"
           }
          ],
          "scatter3d": [
           {
            "line": {
             "colorbar": {
              "outlinewidth": 0,
              "ticks": ""
             }
            },
            "marker": {
             "colorbar": {
              "outlinewidth": 0,
              "ticks": ""
             }
            },
            "type": "scatter3d"
           }
          ],
          "scattercarpet": [
           {
            "marker": {
             "colorbar": {
              "outlinewidth": 0,
              "ticks": ""
             }
            },
            "type": "scattercarpet"
           }
          ],
          "scattergeo": [
           {
            "marker": {
             "colorbar": {
              "outlinewidth": 0,
              "ticks": ""
             }
            },
            "type": "scattergeo"
           }
          ],
          "scattergl": [
           {
            "marker": {
             "colorbar": {
              "outlinewidth": 0,
              "ticks": ""
             }
            },
            "type": "scattergl"
           }
          ],
          "scattermapbox": [
           {
            "marker": {
             "colorbar": {
              "outlinewidth": 0,
              "ticks": ""
             }
            },
            "type": "scattermapbox"
           }
          ],
          "scatterpolar": [
           {
            "marker": {
             "colorbar": {
              "outlinewidth": 0,
              "ticks": ""
             }
            },
            "type": "scatterpolar"
           }
          ],
          "scatterpolargl": [
           {
            "marker": {
             "colorbar": {
              "outlinewidth": 0,
              "ticks": ""
             }
            },
            "type": "scatterpolargl"
           }
          ],
          "scatterternary": [
           {
            "marker": {
             "colorbar": {
              "outlinewidth": 0,
              "ticks": ""
             }
            },
            "type": "scatterternary"
           }
          ],
          "surface": [
           {
            "colorbar": {
             "outlinewidth": 0,
             "ticks": ""
            },
            "colorscale": [
             [
              0,
              "#0d0887"
             ],
             [
              0.1111111111111111,
              "#46039f"
             ],
             [
              0.2222222222222222,
              "#7201a8"
             ],
             [
              0.3333333333333333,
              "#9c179e"
             ],
             [
              0.4444444444444444,
              "#bd3786"
             ],
             [
              0.5555555555555556,
              "#d8576b"
             ],
             [
              0.6666666666666666,
              "#ed7953"
             ],
             [
              0.7777777777777778,
              "#fb9f3a"
             ],
             [
              0.8888888888888888,
              "#fdca26"
             ],
             [
              1,
              "#f0f921"
             ]
            ],
            "type": "surface"
           }
          ],
          "table": [
           {
            "cells": {
             "fill": {
              "color": "#EBF0F8"
             },
             "line": {
              "color": "white"
             }
            },
            "header": {
             "fill": {
              "color": "#C8D4E3"
             },
             "line": {
              "color": "white"
             }
            },
            "type": "table"
           }
          ]
         },
         "layout": {
          "annotationdefaults": {
           "arrowcolor": "#2a3f5f",
           "arrowhead": 0,
           "arrowwidth": 1
          },
          "autotypenumbers": "strict",
          "coloraxis": {
           "colorbar": {
            "outlinewidth": 0,
            "ticks": ""
           }
          },
          "colorscale": {
           "diverging": [
            [
             0,
             "#8e0152"
            ],
            [
             0.1,
             "#c51b7d"
            ],
            [
             0.2,
             "#de77ae"
            ],
            [
             0.3,
             "#f1b6da"
            ],
            [
             0.4,
             "#fde0ef"
            ],
            [
             0.5,
             "#f7f7f7"
            ],
            [
             0.6,
             "#e6f5d0"
            ],
            [
             0.7,
             "#b8e186"
            ],
            [
             0.8,
             "#7fbc41"
            ],
            [
             0.9,
             "#4d9221"
            ],
            [
             1,
             "#276419"
            ]
           ],
           "sequential": [
            [
             0,
             "#0d0887"
            ],
            [
             0.1111111111111111,
             "#46039f"
            ],
            [
             0.2222222222222222,
             "#7201a8"
            ],
            [
             0.3333333333333333,
             "#9c179e"
            ],
            [
             0.4444444444444444,
             "#bd3786"
            ],
            [
             0.5555555555555556,
             "#d8576b"
            ],
            [
             0.6666666666666666,
             "#ed7953"
            ],
            [
             0.7777777777777778,
             "#fb9f3a"
            ],
            [
             0.8888888888888888,
             "#fdca26"
            ],
            [
             1,
             "#f0f921"
            ]
           ],
           "sequentialminus": [
            [
             0,
             "#0d0887"
            ],
            [
             0.1111111111111111,
             "#46039f"
            ],
            [
             0.2222222222222222,
             "#7201a8"
            ],
            [
             0.3333333333333333,
             "#9c179e"
            ],
            [
             0.4444444444444444,
             "#bd3786"
            ],
            [
             0.5555555555555556,
             "#d8576b"
            ],
            [
             0.6666666666666666,
             "#ed7953"
            ],
            [
             0.7777777777777778,
             "#fb9f3a"
            ],
            [
             0.8888888888888888,
             "#fdca26"
            ],
            [
             1,
             "#f0f921"
            ]
           ]
          },
          "colorway": [
           "#636efa",
           "#EF553B",
           "#00cc96",
           "#ab63fa",
           "#FFA15A",
           "#19d3f3",
           "#FF6692",
           "#B6E880",
           "#FF97FF",
           "#FECB52"
          ],
          "font": {
           "color": "#2a3f5f"
          },
          "geo": {
           "bgcolor": "white",
           "lakecolor": "white",
           "landcolor": "#E5ECF6",
           "showlakes": true,
           "showland": true,
           "subunitcolor": "white"
          },
          "hoverlabel": {
           "align": "left"
          },
          "hovermode": "closest",
          "mapbox": {
           "style": "light"
          },
          "paper_bgcolor": "white",
          "plot_bgcolor": "#E5ECF6",
          "polar": {
           "angularaxis": {
            "gridcolor": "white",
            "linecolor": "white",
            "ticks": ""
           },
           "bgcolor": "#E5ECF6",
           "radialaxis": {
            "gridcolor": "white",
            "linecolor": "white",
            "ticks": ""
           }
          },
          "scene": {
           "xaxis": {
            "backgroundcolor": "#E5ECF6",
            "gridcolor": "white",
            "gridwidth": 2,
            "linecolor": "white",
            "showbackground": true,
            "ticks": "",
            "zerolinecolor": "white"
           },
           "yaxis": {
            "backgroundcolor": "#E5ECF6",
            "gridcolor": "white",
            "gridwidth": 2,
            "linecolor": "white",
            "showbackground": true,
            "ticks": "",
            "zerolinecolor": "white"
           },
           "zaxis": {
            "backgroundcolor": "#E5ECF6",
            "gridcolor": "white",
            "gridwidth": 2,
            "linecolor": "white",
            "showbackground": true,
            "ticks": "",
            "zerolinecolor": "white"
           }
          },
          "shapedefaults": {
           "line": {
            "color": "#2a3f5f"
           }
          },
          "ternary": {
           "aaxis": {
            "gridcolor": "white",
            "linecolor": "white",
            "ticks": ""
           },
           "baxis": {
            "gridcolor": "white",
            "linecolor": "white",
            "ticks": ""
           },
           "bgcolor": "#E5ECF6",
           "caxis": {
            "gridcolor": "white",
            "linecolor": "white",
            "ticks": ""
           }
          },
          "title": {
           "x": 0.05
          },
          "xaxis": {
           "automargin": true,
           "gridcolor": "white",
           "linecolor": "white",
           "ticks": "",
           "title": {
            "standoff": 15
           },
           "zerolinecolor": "white",
           "zerolinewidth": 2
          },
          "yaxis": {
           "automargin": true,
           "gridcolor": "white",
           "linecolor": "white",
           "ticks": "",
           "title": {
            "standoff": 15
           },
           "zerolinecolor": "white",
           "zerolinewidth": 2
          }
         }
        }
       }
      },
      "text/html": [
       "<div>                            <div id=\"23c9b369-2600-4807-a1fb-0761fb395e73\" class=\"plotly-graph-div\" style=\"height:525px; width:100%;\"></div>            <script type=\"text/javascript\">                require([\"plotly\"], function(Plotly) {                    window.PLOTLYENV=window.PLOTLYENV || {};                                    if (document.getElementById(\"23c9b369-2600-4807-a1fb-0761fb395e73\")) {                    Plotly.newPlot(                        \"23c9b369-2600-4807-a1fb-0761fb395e73\",                        [{\"customdata\":[[\"SUSHIZANMAI Honten\",162,4.5],[\"Tsukiji Saito's Fish Market\",49,5.0],[\"Sushizanmai Asakusakaminarimon\",34,4.5],[\"Hinatomaru Asakusa\",48,4.5],[\"Uogashi Nihon Ichi Shinjuku Nishiguchi\",119,4.5],[\"Sushizanmai Tsukiji Ekimae\",31,5.0],[\"Ginza Sushi Dokoro Marui S\\u014d Honten\",11,4.5],[\"Manten Sushi\",60,4.5],[\"Nemuro hanamaru\",84,4.5],[\"Magurobito Yodobashi Akiba\",9,4.0],[\"Moriichi Jinboucyou\",2,4.5],[\"Ryouhei Zushi\",6,5.0],[\"Kaisen Misakikou\",4,4.5],[\"Jir\\u014dmaru Akihabara\",49,4.5],[\"Kyubey Ginza\",131,4.5],[\"Umegaoka Sushi No Midori Sohonten Ginza\",88,4.5],[\"Kintarozushi asakusabashi\",6,5.0],[\"Yugyoan Tankuma Kitamise\",2,4.0],[\"Kanda Edokko-zushi Nishiguchi\",2,5.0],[\"Ginza Sushiko Marunouchi Building\",11,5.0],[\"Sapporo Taruzen Marunouchi\",2,5.0],[\"SUSHI TOKYO TEN, Shinjuku Newman\",66,4.5],[\"isomarusuisan\",12,4.0],[\"Kaisen Misaki Port Tokyo Dome City\",9,4.5],[\"Sushizanmai Yurakucho\",38,4.5],[\"Sushiya Ginz\\u014d Akihabara Honkan\",9,4.5],[\"Isomarusuisan Akihabara\",7,4.5],[\"Yanonesushi Nihonbashi Honten\",2,4.5],[\"Manten Sushi\",14,4.0],[\"Uogashi Nihonichi Atre Akihabara \",3,4.5],[\"Sushikatsu Ichibancho\",4,5.0],[\"Kaitenzushi Edokko Ueno ekimae\",5,4.0],[\"GENKI SUSHI Shibuya\",326,4.0],[\" Kaisen Dokoro Sushitsune Atore Ueno\",2,4.5],[\"Moriichi Kinshich\\u014d terumina\",5,5.0],[\"Katori Sushi\",1,5.0],[\"Namaiki\",18,5.0],[\"Ota Sushi\",19,4.5],[\"Numazu Uogashi Zushi T\\u014dky\\u014d Eki Yaesuguchi\",10,4.5],[\"\\u677f\\u524d\\u5bff\\u53f8 \\u8d64\\u5742\\u5e97\",31,4.5],[\"Katsu Ooedo Ueno 2 G\\u014d\",5,4.0],[\"Sushi Kanesaka Palace Hotel \",10,5.0],[\"Tsukiji Sushik\\u014d Tsukijij\\u014dgaishij\\u014d\",13,4.5],[\"\\u677f\\u524d\\u5bff\\u53f8 \\u611b\\u5b95\\u5e97\",12,4.0],[\"Tsukiji Aozora Sandaime Ginza Mitsukoshi\",5,4.5],[\" Tsukiji sushi k\\u014d jin\",6,4.0],[\"Tsukiji Sushisei Honten\",34,4.5],[\"Jir\\u014dmaru Shinjuku Honten\",223,4.5],[\"Sushi Taichi\",5,5.0],[\"Iwasa Sushi\",34,4.5],[\"hidezushi\",7,4.5],[\"Uogashi Nihonichi Akihabara\",10,4.0],[\"Ganso Zushi Akihabara Manseibashi\",26,3.5],[\"Mai\",4,5.0],[\"Sushi Seizan\",6,4.0],[\"\\u5bff\\u53f8\\u82b3\\u6c34\\u5929\\u5bae\",2,5.0],[\"Unatoto Ueno\",16,4.5],[\"Sushi Nihonbashi Shimon\",2,4.5],[\"Tsujihan\",41,4.5],[\"Tenkazushi Ikebukuro Store\",12,4.5],[\"Sushizanmai Ueno\",7,4.0],[\"Tsukijitamazushi\",6,4.5],[\"\\u3072\\u3052\\u52d8\",1,5.0],[\"Ningy\\u014dch\\u014d Nikuzushi\",1,5.0],[\"Tsukiji Sushisei Gransta dining\",6,4.0],[\"Sushi Kakizaki\",3,5.0],[\"Hanasanshou\",1,5.0],[\"Tsukiji Sushi Nagomi GRANSTA Marunouchi\",7,4.0],[\"Umegaoka Sushinomidori S\\u014dhonten Shibuya\",138,4.5],[\"Kioich\\u014d Mitani\",4,5.0],[\"Mawashi Zushi KATSUMIDORI  SEIBU Shibuya\",128,4.5],[\"Utamizushi\",3,4.0],[\"Seamon Nihonbashi\",2,5.0],[\"Sushisei T\\u014dky\\u014d Eki Grand roof\",5,4.5],[\"Tokyo Shiba Tofuya Ukai\",41,5.0],[\"Magurobito Okachimachi\",3,4.5],[\"\\u7bc9\\u5730\\u3059\\u3057\\u6e90\\u672c\\u5e97\",1,4.0],[\"Muten KURA Zushi Shinagawa Ekimae\",49,4.5],[\"Toriton Tokyo Solamachi\",27,4.5],[\"itoukenotsubo\",2,4.5],[\"Tsukiji Itadori Bekkan\",27,4.5],[\"Sushi Dai\",46,5.0],[\"Rokurinsha\",273,4.5],[\"Sushitomi\",6,4.5],[\"TSUKIJI SUSHIDAI Honkan\",14,4.5],[\"\\u4e00\\u756a\\u56de\\u8ee2\\u5bff\\u53f8\\u672c\\u5e97\",9,4.0],[\"Sukiyabashi Jiro\",84,4.0],[\"Waentei Kikk\\u014d\",18,5.0],[\"Zigi\",2,4.5],[\"Ky\\u014dsushi\",1,5.0],[\" Sushi to Kaisen Ry\\u014dri Kigokoro\",1,5.0],[\"Sushiro Minamiikebukuro\",3,4.5],[\"Nadeshiko Sushi\",18,4.0],[\"\\u677f\\u524d\\u5bff\\u53f8 \\u9280\\u5ea7\\u30b3\\u30ea\\u30c9\\u30fc\\u5e97\",17,4.0],[\"Kaitensushi Nemuro Hanamaru Ginza\",31,4.0],[\"Ichiran Shibuya\",627,4.5],[\"Tsukijitamazushi GINZA CORE\",6,4.5],[\"Kaitenzushi Yoshimarusuisan Aqua City Odaiba\",15,3.5],[\"Sushisada\",2,4.5],[\"Kiyozushi\",4,4.5],[\"Sushi Ch\\u014dshimaru Tateishi\",1,5.0],[\"Kaitensushi Sakaba Ginza Numazuk\\u014d\",15,4.0],[\"Sushizanmai Kinshichou\",9,4.5],[\"Sushiya Ginz\\u014d Shinbashi\",1,5.0],[\"Sushiryori Inose\",19,5.0],[\"Sushi Dokoro YAMAZAKI\",3,5.0],[\"Umai Sushi Kan Akasaka\",35,4.5],[\"Ginza Sushi-Ko Honten\",29,5.0],[\"Tsukijitamazushi\",10,4.0],[\"Masuzushi Minami\",2,4.5],[\"Tachigui Midori Echika Ikebukuro\",13,5.0],[\"\\u9ba8\\u8655\\u516b\\u5343\\u4ee3\\u795e\\u7530\\u99c5\\u524d\\u5e97\",1,5.0],[\"Sushisho Masa\",53,5.0],[\"Shibadaimon Sushi Matori\",4,4.5],[\"\\u9b5a\\u304c\\u3057\\u65e5\\u672c\\u4e00\\u6d45\\u8349\\u6a4b\\u5e97\",1,4.0],[\"NOBU TOKYO\",21,4.5],[\"miuramisakikou\",8,3.5],[\"Shinjuku Kapp\\u014d Nakajima\",74,4.5],[\"Sukiyabashi Jiro - Nihombashi shop\",1,5.0],[\"Yoshitsune\",1,5.0],[\"Sushi Arai\",5,5.0],[\"sushi\\u3000aki\\u3000takase\",4,5.0],[\"Tsukiji Sushi Say Ginza Hakuhinkan\",3,5.0],[\"Uminosachi\",2,4.5],[\"Roppongi Niku Sushi\",1,5.0],[\"Ekibenya Matsuri\",16,4.5],[\"Yoshinosushi Honten\",7,4.5],[\"Sushizanmai Shinjuku higashiguchi\",17,4.5],[\"Kani Doraku \",8,4.5],[\"Sushisho Mera\",1,5.0],[\"Sushi Izakaya Susumu\",1,4.0],[\"Sushizanmai Shinbashi\",12,4.0],[\"Umezushi\",1,5.0],[\"Sushishin\",5,5.0],[\"Sukiyabashi Jiro Roppongi Hills\",93,4.5],[\"Sushi Yoshitake\",31,4.5],[\"Tsukiji Dontaku\",14,4.0],[\"Maishi\",1,5.0],[\"Sushi Tempura Aki\",2,4.5],[\"Uokin honten\",17,4.5],[\"Sushi Ginza Onodera\",20,5.0],[\"Sushi Ken\",2,5.0],[\"Nihonkai Kototoi\",1,5.0],[\"Matsue\",10,4.5],[\"Uogashi Zushi Tamachi Honten\",3,4.5],[\"Kazane Ginza\",2,4.5],[\"\\u3057\\u307e\\u3060\\u9ba8\",1,5.0],[\"Kizuna Sushi Akihabara\",2,4.0],[\"Ginza Seamon\",12,5.0],[\"\\u677f\\u524d\\u5bff\\u53f8 \\u65b0\\u6a4b\\u5e97\",4,4.5],[\"Kaiten Sushiya Hi Ba Ri Shinjuku\",3,5.0],[\"Isozushi\",3,5.0],[\"Sora\",4,5.0],[\"\\u7fc1\\u5bff\\u53f8\",1,5.0],[\"Shutoku 2nd\",6,5.0],[\"Sushizanmai Bekkan\",26,4.5],[\"Sushisachi\",2,4.0],[\"sushiya ginzou\",1,4.0],[\"Misuji\",4,4.5],[\"Mawaru Ganso Zushi shimokitazawa\",3,4.5],[\"Sushi No Midori\",32,4.0],[\"\\u30df\\u30e4\\u30d0\",5,5.0],[\"Gansozushi Asakusa Honten\",10,4.0],[\"Ichiran Shinjuku Chuo Higashiguchi\",484,4.5],[\"Tsukiji Tamazushi Maihama IKSPIARI\",3,3.5],[\"Uoky\\u016b Honten\",11,4.5],[\"Sushi Imamura\",5,5.0],[\"K\\u014drakuzushi\",2,4.5],[\"Kanazawa Sushi Amore Ginza\",2,4.5],[\"Sushi Hashimoto\",1,5.0],[\"Maguro Ichi-dai Hamamatsuch\\u014d \",3,4.5],[\"Sushibun \",8,4.5],[\"Mawashizushi Katsu Meguro\",31,4.5],[\"sushitsune\",3,5.0],[\"Sushinoya Ichigaya Honten\",1,4.0],[\"Isomaru Suisan Yoyogi\",7,4.5],[\"Teru Sushi\",1,5.0],[\"The Sushi\",1,4.0],[\"Sushi Yoshi\",1,5.0],[\"Numazuko Shinjuku Honten\",88,4.0],[\"Kanda Shinodazushi\",2,4.5],[\"Masa Sushi Ginza\",2,5.0],[\"Sushi Wasabi\",9,5.0],[\"Mawashi Sushi Katsu Midori Seibu Ikebukuro\",16,4.5],[\"Sushi-Zanmai Higashi Shinjuku\",63,4.0],[\"Sukiyabashi Jiro Toyosu\",2,4.0],[\"Uoshin Ebisu\",6,4.5],[\"Sushi Kajiwara\",1,5.0],[\"Sushi Tokami\",13,4.0],[\"Sushizanmai Sugamo\",5,4.0],[\"Andy's Shin Hinomoto\",44,4.5],[\"Abe Roppongi\",8,4.0],[\"\\u9ba8\\u30fb\\u548c\\u7f8e\",3,4.5],[\"GINZA RIN Nishimura\",1,5.0],[\"Sushi Takahashi\",7,5.0],[\"Nihonbashi sushitetsu\",1,4.0],[\"Sushi-dokoro OKAME / Standing up\",8,4.5],[\"Sushi Katsura\",5,4.5],[\"Sushi Ichi\",5,5.0],[\"Sakari sushi\",1,4.0],[\"Karashibi Miso R\\u0101men KIKANBO Kanda Honten\",20,4.5],[\"Nihonbashi Kakigarach\\u014d Sugita\",1,4.0],[\"Sushi DAIDOKOYA Sangenjaya\",5,4.5],[\"Uobei Shibuya Dogenzaka\",160,4.0],[\"Uogashinihon'ichi Ecute Shinagawa South\",7,4.5],[\"Uogashi Zushi\",6,5.0],[\"\\u5143\\u7956\\u5bff\\u53f8\\u79cb\\u8449\\u539f\\u4e2d\\u592e\\u901a\\u308a\\u5e97\",1,5.0],[\"Sushizanmai Yushima\",3,3.5],[\"Tsukiji Aozora Sandaime\",6,4.5],[\"Sushi Yoshikawa\",4,4.0],[\"Sushiyoshi\",2,4.0],[\"Sushi Miyabi\",2,4.0],[\"Uogashinihon'ichi Hama site \",2,4.5],[\"Hama Sushi Komagomehakusan\",1,3.0],[\"Tsubomi\",3,4.5],[\"Sushi Mizukami\",1,5.0],[\"Sushi Kitano\",2,5.0],[\"Umegaoka Sushi no Midori Souhonten atre Kichijoji\",11,4.5],[\"\\u5343\\u5bff\\u53f8\\u65b0\\u6d66\\u5b89\\u5e97\",1,5.0],[\"Sushi Saito\",5,5.0],[\"Sushi Tamakagari Tempura Tamagoromo \",2,4.5],[\"Tsukiji Sushik\\u014d Akarenga-d\\u014dri\",2,4.5],[\"Mawaru SUSHIZANMAI Tsukiji\",25,4.5],[\"Sushizanmai Koenji\",2,4.5],[\"Sushi Masa Bekkan\",1,5.0],[\"Sushi Shou\",11,5.0],[\"\\u9ba8\\u3044\\u3061\",2,5.0],[\"Mikaku\",3,4.5],[\"Tsukiji Sushi Ichiban Nishi Asakusa\",2,4.0],[\"Ginza Kyubey New Otani Tower\",8,4.5],[\"ginzasushimasa\",2,5.0],[\"Bentomi\",7,4.5],[\"Uogashi Nihon Ichi Nakano Sanm\\u014dru\",2,4.5],[\"Mawashi Zushi Katsu Midori Granduo Kamata\",11,4.5],[\"Sushi Bar Yasuda\",93,4.5],[\"Aoyagi\",4,4.0],[\"Tonkatsu Maisen Aoyama Honten\",178,4.5],[\"Sapporo DOMINICA Ginza\",70,5.0],[\"\\u3059\\u3057\\u51e6\\u5bb4\",1,5.0],[\"Umimeshi Atre Vie Otsuka\",2,4.0],[\"Zauo Meguro\",15,4.5],[\"Uogashi Nihonichi Shinbashi ekimae\",3,4.5],[\"Shari The Tokyo Sushi Bar\",13,3.5],[\"Miyuki\",2,5.0],[\"Iwasa Sushi\",3,4.5],[\"Kappo Yoshiba\",7,4.5],[\"UMI\",12,4.5],[\"Motodane\",1,5.0],[\"Sanaka Aoyama\",17,4.5],[\"\\u3055\\u304b\\u306a\\u3084\",1,5.0],[\"mawashizushiwakataka\",2,4.5],[\"\\u7389\\u5bff\\u53f8\\u672c\\u793e\",1,5.0],[\"Uoshin\",4,4.0],[\"\\u677f\\u524d\\u5bff\\u53f8 \\u8d64\\u5742\\u307f\\u3059\\u3058\\u901a\\u308a\\u5e97\",6,4.5],[\"Matsuba Zushi\",2,4.0],[\"Tsunaki Ebisu\",3,4.5],[\"Matakoiya \",4,4.0],[\"Tsukiji Itadori Uogashi Senryo\",22,4.0],[\"Sushizanmai Ikebukurohigashi\",3,4.0],[\"Gonpachi NORI-TEMAKI Harajuku\",12,4.0],[\"Sushi Nakamura\",8,5.0],[\"Kaisen Misakiko Kichijoji Daiyagai\",1,4.0],[\"Sushi Tokinari\",1,5.0],[\"Tachizushi AOI / Standing-sushi\",1,5.0],[\"Sushi Taichi\",2,4.5],[\"Mori Ichitabata Ekimae\",2,4.0],[\"Sushi Kyotatsu\",2,4.5],[\"\\u5fd7\\u4e43\\u3060\\u5bff\\u53f8\",1,5.0],[\"SUSHIZANMAI Shibuya Higashiguchi\",12,4.5],[\"Tsukiji Sushidai Bekkan\",3,5.0],[\"\\u9ba8\\u51e6\\u307f\\u3084\\u3053\\u65b0\\u6a4b\\u5e97\",1,5.0],[\"Kaisen Misakiko Kitasenju\",2,4.0],[\"Sen'yuu\",1,4.0],[\"Daiwa Sushi\",27,4.5],[\"Sushi Riku\",2,5.0],[\"Akebinomi\",4,4.0],[\"\\u5bff\\u53f8\\u51e6\\u306a\\u304b\\u306d\",1,4.0],[\"Miyako\",2,4.0],[\"\\u5f8c\\u697d\\u5bff\\u53f8\\u672c\\u5e97\",1,5.0],[\"Uogashi Nihon-ichi Kasumigaseki Iino Bldg.\",6,4.0],[\"Mawashi Sushi Katsu Midori Yokohama Sky Building\",33,4.5],[\"Sushizanmai Takumi Ginza 6-Chome\",4,4.5],[\"Hiroichi\",2,5.0],[\"Sushi Tatsumi\",1,5.0],[\"Yakko\",1,5.0],[\"\\u9b5a\\u304c\\u3057\\u65e5\\u672c\\u4e00\",8,4.0],[\"Sakura Sakakat\\u014d\",1,5.0],[\"Ningy\\u014dch\\u014d Shinodazushi S\\u014dhonten\",2,4.5],[\"\\u3059\\u3057\\u4e09\\u5d0e\\u4e38\\u5e83\\u5c3e\\u5e97\",4,4.5],[\"Isomaru Suisan Asakusa Kan'nond\\u014dri\",8,4.0],[\"Sushitake\",1,5.0],[\"Sushi Tsukiuda\",2,5.0],[\" Sushi-ya Ginz\\u014d Hamamatsuch\\u014d \",3,3.5],[\"Gy\\u016bkatsu Motomura Shinjuku Minamiguchi\",101,4.5],[\"Uogashi Nihon'ichi T\\u014dky\\u014d Eki ichibangai\",2,4.5],[\"Numazu Uogashizushi Haneda Airport\",3,4.5],[\"sabar Tokyo Gems Daimon\",4,5.0],[\"Midori Sushi\",7,4.5],[\"Sushizanmai Roppongi Haiyuzamae\",21,4.0],[\"Bentenyama Miyako Sushi\",3,4.5],[\"Shinjuku Makoto\",16,4.5],[\"Sushitsunetakumi rarap\\u014dtotoyosu\",1,4.0],[\"Sushi Zammai Shinbashi SL Hiroba mae\",3,4.0],[\"Ginza Sushi-Ichi\",3,4.5],[\"SUSHIRO Gotanda \",2,4.5],[\"Kaitenzushi Edokko Kanda\",2,3.5],[\"Hatsune Sushi\",4,4.5],[\"Harutaka\",5,5.0],[\"Sushimamire\",4,4.0],[\"Kurosaki\",6,4.5],[\"\\u3059\\u3057\\u51e6\\u4f50\\u85e4\",1,5.0],[\"\\u3059\\u3057\\u4ead\\u90e1\\u53f8\",2,5.0],[\"Majestic Shiodome\",4,4.5],[\"Kantaro Tokyo\",3,4.5],[\"Sushi misakimaru\",3,3.5],[\"Sushiro Minamisuna\",3,3.5],[\"Masuzushihonten\",1,3.0],[\"Tsukiji Sushi Sen Sou honten\",8,4.0],[\"Niku Sushi\",1,4.0],[\"Ginza Koso\",3,4.0],[\"\\u7384\\u6d77\\u5bff\\u53f8\",1,5.0],[\"Sushi Namba\",2,4.0],[\"Harajuku Gy\\u014dzarou\",313,4.0],[\"Kanazawa Maimonzushi Ueno\",1,4.0],[\"Uogashi Nihonichi Tachigui Sushi SHIBUYA CENTER GAI\",55,4.5],[\"\\u91d1\\u592a\\u697c\\u9ba8\\u9326\\u7cf8\\u753a\\u5e97\",1,5.0],[\"Isomaru Suisan Shibuya Udagawach\\u014d\",6,4.5],[\"Tsukiji Sushikou Akasaka\",3,4.0],[\"Sushi Dokoro Abe Hiroo Bekkan\",9,4.5],[\"Sumida\",1,4.0],[\"sushiya\",14,5.0],[\"Isomaru Sushi\",5,4.0],[\"Asakusa Sushi Waka T\\u014dy\\u014dch\\u014d \",1,4.0],[\"Kaitensushi Uzushio Akihabara\",3,3.5],[\"Sushi Bun\",8,5.0],[\"\\u9ba8\\u51e6\\u698e\\u672c\",1,5.0],[\"Sushi Shinsuke\",1,5.0],[\"GENKI SUSHI Uobei Omori Station Sanno Kitaguchi \",3,4.5],[\"Sasa Shigure Omotesand\\u014d Hiruzu\",6,4.0],[\"\\u5c71\\u6c34\",1,5.0],[\"Tsukiji Sushis\\u014d Honten\",1,4.0],[\"Sushi Takada\",1,5.0],[\"Tenkazushi Otsuka \",1,5.0],[\"Yakiniku USHIGORO Nishiazabu Honten\",17,5.0],[\"TANUKISUSHI\",1,4.0],[\"SHINJUKU KAKEKOMI GYOZA\",31,4.0],[\"SUSHI Gonpachi Shibuya\",22,4.0],[\"Katsuragawa Sushi Azabu\",1,5.0],[\"Uogashi Nihon Ichi Shibuya Dogenzaka\",14,4.5],[\"Shou \",1,5.0],[\"Aoyama Serizawa\",2,5.0],[\"Tsukijitama Sushi YOKOHAMA BAY\",2,4.5],[\"Kouzushi\",3,4.5],[\"Azabu Uojizushi\",1,5.0],[\"enju\",1,5.0],[\"Shutoku Honten\",10,4.5],[\"Sushi Ishiyama\",2,5.0],[\"Maguro Bito Kaminarimon\",2,4.5],[\"\\u65b0\\u5bbf\\u6804\\u5bff\\u53f8\\u672c\\u5e97\",11,4.5],[\"Tsunao\",2,5.0],[\"Uogasizushi\",1,4.0],[\"Tsukiji Kagura Sushi Shinkan\",5,4.5],[\"Sushiidzu\",1,4.0],[\"Sushi Mamire Ikebukuro \",7,4.0],[\"Sushi Mimoto\",5,5.0],[\"Nigiri No Ippo\",1,5.0],[\"Sushitsu\",8,5.0],[\"Sushizanmai Shibuya Tokyu-Honten Mae\",31,4.0],[\"Asagaya Jyuzou \",2,4.5],[\"Nakaya\",16,4.0],[\"Muten Kurazushi Higashimuk\\u014djima\",1,4.0],[\"kazahana\",4,4.5],[\"SushiTen\",5,5.0],[\"\\u306a\\u304b\\u3084\\u9ba8\",1,5.0],[\"Fukuzushi\",15,4.5],[\"ugetsu\",3,4.5],[\"Takaraya \",1,4.0],[\"Aburiyaki & Sushi An \",1,5.0],[\"Tsukiji Aozora Sandaime Marunouchi\",1,5.0],[\"\\u6885\\u5bff\\u53f8\",1,4.0],[\"Nikuzushi Oimachi \",1,5.0],[\"Macchan\",6,3.5],[\"Akasaka Zanmai\",2,5.0],[\"Sushi Zanmai Roppongi RoI Building Mae \",16,4.0],[\"Edomae Sushi Hyakumangoku Shinkoiwa\",2,4.5],[\"\\u65e5\\u672c\\u6d77\\u30fb\\u6d77\\u306e\\u83ef\",1,5.0],[\"Nigirite\",3,5.0],[\"Uokomeya\",3,2.5],[\"Gorin Zushi Gotanda Nishiguchi\",1,4.0],[\"Sushizanmai Nakano\",1,4.0],[\"Sushiichiban Tsukijij\\u014dgaishiba Ch\\u016b\\u014d\",4,4.5],[\"Judaime Yazaemon Atore Akihabara 2\",1,5.0],[\"Takumi Tatsuhiro\",3,4.5],[\"\\u7389\\u5bff\\u53f8\",1,5.0],[\"Kizunasushi Nishi-Shinjuku\",14,3.0],[\"\\u9b5a\\u304c\\u3057\\u65e5\\u672c\\u4e00\\u8d64\\u5742\\u5e97\",2,4.5],[\"\\u5143\\u6c17\\u5bff\\u53f8\\u5927\\u5c71\\u5e97\",1,4.0],[\"Sakae Sushi\",4,5.0],[\"Sushimaru \",1,4.0],[\"Eat Azabujuban\",3,4.5],[\"Tsurutontan Shinjuku\",55,4.0],[\"Tsukiji Tamasushi Ikebukuro Sunshine\",6,5.0],[\"\\u5e02\\u559c\",2,4.5],[\"Sushi Matsumoto \",1,5.0],[\"Inase Atre Vie Otsuka\",1,5.0],[\"\\u6d77\\u9bae\\u4e09\\u5d0e\\u6e2f\",2,4.5],[\"Isamizushi\",1,4.0],[\"Himawari Sushi Shintoshin\",39,4.0],[\"Sakaesushi\",3,4.5],[\"Sushish\\u014d Sait\\u014d\",6,4.5],[\"Higashiazabu Amamoto\",1,5.0],[\"\\u541f\\u904a\",2,4.0],[\"sushitsune\",3,4.5],[\"matsurizushioomoriten\",2,4.5],[\"Ginza Iwa\",11,4.5],[\"Mitani\",6,5.0],[\"Ranman\",1,5.0],[\"Sushi Nakanoya\",1,5.0],[\"Mimasu\",2,4.0],[\"\\u5fa1\\u65e6\\u72d0\\u5bff\\u53f8\",1,5.0],[\"Sushi Kanesaka Honten\",32,4.0],[\"Hachizaemon\",2,5.0],[\"Kaisenmisakik\\u014d Harajuku Takeshita D\\u014dri\",1,4.0],[\"suzu\",3,4.0],[\"Hajime\",2,5.0],[\"Sushi Chikuzan Marunouchi\",3,4.5],[\"Maguro Donya Megumi Suisan\",2,4.5],[\" Ma kuro dake b\\u014dno shirakawa\",1,5.0],[\"Matakoiya Kachidoki \",1,5.0],[\"Yanone Sushi Kanda Nishikich\\u014d\",1,4.0],[\"Standing Sushi Bar Nemuro Hanamaru \",12,5.0],[\"Sushi Chohshimaru Kyodo\",2,5.0],[\"Ginza Masaki\",1,5.0],[\"UOSHIN Shibuya\",9,4.0],[\"Hinokizaka\",7,5.0],[\"\\u6c5f\\u6238\\u534a\",1,5.0],[\"Sushi Akizuki\",4,5.0],[\"Gifts from Mother Nature, Ueno\",2,4.5],[\"Hamashiba\",3,4.5],[\"Megumi matakoiya\",2,4.5],[\"Sushi Cyou\",2,5.0],[\"Sushi Tajima \",1,5.0],[\"Nihonbashi Funazushi\",1,4.0],[\"Ariso Sushi\",22,3.5],[\"Nihonkai\",2,3.5],[\"Asahi Zushi Sohonten\",1,4.0],[\"Sushi Tatsunari\",3,5.0],[\"Gattenzushi Ayase\",1,5.0],[\"Kinoshita\",1,5.0],[\"\\u6a58\\u5bff\\u53f8\",1,4.0],[\"Tenkazushi Shin Okubo \",5,4.0],[\"Seiy\\u014dry\\u014dri Shima\",24,4.5],[\"Nari Sushi\",1,5.0],[\"Tsukiji Aozora Sandaime\",3,4.5],[\"Yakinikubar Han'nodaidokoro Kadochika\",27,5.0],[\"\\u4eac\\u6a3d\\u6839\\u6d25\\u5e97\",1,4.0],[\"Sushi Tatsu\",1,5.0],[\"Kaisendon Marukita 2 g\\u014d\",6,4.0],[\"Tachizushi Yokoch\\u014d Shinjuku Nishiguchi\",1,4.0],[\"Mikore Sushi\",17,4.0],[\"Hitsumabushi Nagoya Bincho\",27,4.5],[\"Miyakozushi Honten\",1,4.0],[\"Tsubaki\",4,5.0],[\"NINJA AKASAKA\",100,4.0],[\"Sushiy\\u016b\",4,5.0],[\"\\u9b5a\\u304c\\u3057\\u65e5\\u672c\\u4e00\\u9eb9\\u753a\\u5e97\",1,5.0],[\"Sushi ISHIJIMA Shintomi\",2,3.0],[\"Kaikaya\",76,4.5],[\"KINKA sushi bar izakaya Shibuya\",12,4.5],[\"Sushi no Shimonya Seizan\",3,4.5],[\"Cha Kaiseki Sushi\",1,5.0],[\"Sushidyayamomotaro Shinzuku\",4,4.5],[\"\\u9bc9\\u5bff\\u53f8\",1,5.0],[\"Sushizanmai Toyocho\",2,2.5],[\"Sendagi Sushiry\\u016b\",1,4.0],[\" Nigiriyashio\",1,4.0],[\"Sushi Fukumoto\",4,5.0],[\"Yazawa Shimokitazawa\",5,5.0],[\"Nihombashi Sato\",1,5.0],[\"Sushi Rizaki\",2,4.5],[\"Tsukiji Sushicho\",1,4.0],[\"Gansozushi Haneda Airport Second Terminal\",4,4.5],[\"Ajikin\",1,4.0],[\"TsuruTonTan Roppongi\",67,4.0],[\"Sushi Ochiai\",2,5.0],[\"Sushi Ichikawa\",3,5.0],[\"Sushi Sumeshiya\",1,5.0],[\"Sushi Daizen\",3,4.5],[\"Sushizanmai Kameido\",1,4.0],[\"Sushi Kou\",1,4.0],[\"sushigin\",1,5.0],[\"Shun Shinjuku Park Tower\",3,4.0],[\"Sushi Fujinaga\",1,5.0],[\"Sushizanmai Shinkan\",2,5.0],[\"YAJIMA\",12,4.5],[\"Chiyodazushi Sasazuka\",1,3.0],[\"\\u3088\\u3057\\u5bff\\u53f8\",1,5.0],[\"Sushi Tatsu\",1,4.0],[\"Edotoukyousushitsune\",2,4.0],[\"Sushi Ishikawa\",2,5.0],[\"Kenzan Akasaka Intercontinental Hotel\",2,3.5],[\"\\u7b39\\u4e43\\u5c4b\",1,5.0],[\"Sushi Misakimaru\",4,3.0],[\"Mawari sushi shibuya sushi tsune shibuyaparuko\",2,4.0],[\"Sushizanmai Jiyugaoka\",4,5.0],[\"Tokori Asakusa\",2,4.5],[\"Sushi Izakaya Nihonkai Asakusa\",2,4.0],[\"Sushiyano Sukeroku\",1,4.0],[\"\\u9b5a\\u56fd\\u9ba8\",1,5.0],[\"Jyanoichi honten\",3,3.5],[\"Sushi Yamato Kaihin Makuhari\",2,4.0],[\"Mori Mori Sushi\",3,5.0],[\"Tsukiji Itadori Ura\",6,4.5],[\"Kinsushi\",2,5.0],[\"Sushiyaginzou Awajich\\u014d wa terasu\",1,5.0],[\"Niku Kappo KINTAN Coredo Muromachi\",1,4.0],[\"Chiyoda sichi\",2,5.0],[\"Donmaru Morishita\",1,4.0],[\"Udon Shin\",225,4.5],[\"\\u3082\\u308a\\u4e00\\u738b\\u5b50\\u5e97\",1,4.0],[\"KURA Zushi Ikeburo Higashiguchi\",14,3.5],[\"hinazushi\",1,4.0],[\"Sushishunsaitakanoha Uenonigouten\",1,5.0],[\"Pintokona Roppongi Hills\",20,3.5],[\"\\u798f\\u5bff\\u53f8\",1,5.0],[\"yanagizushi\",1,5.0],[\"Sushiya Ichiyanagi\",7,4.5],[\"Hashiguchi\",5,5.0],[\"Roku Roku\",4,4.5],[\"Magurobito Shin Nakamise\",6,3.5],[\"Hashiri Sushi\",1,5.0],[\"Tsukiji itadori Minami\",2,4.5],[\"Sanpukuzushi\",2,4.0],[\"Sushidokoro Totoya\",2,4.0],[\"Sushi Ichiba Honten\",4,4.0],[\"Hakkoku\",3,4.5],[\"\\u521d\\u5bff\\u3057\",1,5.0],[\"Yakiniku Jambo Hanare\",5,4.5],[\"Ryotei Manpuku Roppongi Hills\",4,5.0],[\"Ajikaido gojusantsugi\",8,4.0],[\"Sushi Aoi\",2,4.0],[\"\\u5e02\\u52d8\",1,5.0],[\"\\u9ba8\\u5f66\",1,4.0],[\"\\u96db\\u9ba8\\u65b0\\u5bbf\\u30a2\\u30a4\\u30e9\\u30f3\\u30c9\\u5e97\",1,4.0],[\"\\u5929\\u72d7\",5,4.0],[\"Sushi En\",2,5.0],[\"Kaitenzushi Toriton Ikebukuro Tobu\",1,4.0],[\"Sushi Bar Junta\",4,4.0],[\"Kidoguchi\",10,4.5],[\"Kinoshige Syutoku\",1,5.0],[\"Sushiyuu\",4,5.0],[\"Tsukiji Sushisei Isetan Kaikan\",4,4.5],[\"\\u559c\\u697d\\u9ba8\",1,5.0],[\"\\u5bff\\u53f8\\u8336\\u5c4b\\u6843\\u592a\\u90ce\\u5927\\u585a\\u5e97\",1,4.0],[\"Kaisen Misaki-ko Meguro ten\",4,3.5],[\"Sakaezushi Nishiguchi\",8,4.5],[\"Sushikuon\",3,4.5],[\"Shunkash\\u016bt\\u014d\",6,4.5],[\"uogashizushi\",1,4.0],[\"Wanoshou Washikita\",1,4.0],[\"uogin\",1,5.0],[\"\\u9ba8\\u4e09\\u539f\\u6a4b\\u9280\\u4e5d\\u90ce\",1,5.0],[\"Uobei Shinjuku\",6,4.5],[\"Uogashi Nihonichi Gotanda\",1,4.0],[\"KITSUNE\",5,4.0],[\"Ed\\u014dfuji\",1,3.0],[\"Grand platinum Kazu\",1,5.0],[\"Namida\",2,5.0],[\"Kaisen Misakiko\",1,5.0],[\"Tenobe Udon SUIZAN\",4,5.0],[\"Tonki Meguro\",86,4.5],[\"Kasumimachi Yanagizushi\",3,4.5],[\"miyako zushi\",3,3.5],[\"Sushitsune Lazona Kawasaki Plaza\",4,4.5],[\"Sushi Rinda\",7,5.0],[\"Tsukiji Sushi Sen Roku Chome Jougaishijou\",14,4.0],[\"Tsukiji Sushidai Ginza\",1,4.0],[\"OUGISUSHI Honten\",10,4.5],[\"Sushi Kanpachi Honten\",1,4.0],[\"Tsukiji Itadori Bekkan\",2,5.0],[\"Sushi Hayakawa \",2,4.5],[\"Maguro Donya Miuramisakik\\u014d Megumi Shibuya Hikarie\",5,4.5],[\"Yoshiba\",1,5.0],[\"Kaiten Sushi Midori Takaido\",2,4.0],[\"nishiazabu taku\",12,5.0],[\"Sushiro Minami Gyotoku\",1,5.0],[\"Fukushimaya Roppongi\",8,4.5],[\"Sushi Suzuki\",2,4.0],[\"Hachibee Aoyama\",6,3.5],[\"\\u3059\\u3057\\u4e09\\u5d0e\\u4e38\\u5e02\\u30f6\\u8c37\\u5e97\",1,4.0],[\"Tsukijitamazushi Daiba\",6,3.0],[\"Sakuranabe Nakae\",3,5.0],[\"Yonezawagy\\u016b \\u014cki T\\u014dky\\u014d\",2,4.5],[\"Gansozushi Shibuya Center-gai\",10,4.0],[\"Sushi Dokoro Sei\",1,4.0],[\"\\u3044\\u3051\\u52d8\",1,4.0],[\"Sushi\\u3000Ishii\",2,4.5],[\"TSUKIJIRO\",7,5.0],[\"Sushi Aoki\",11,4.5],[\"uogashizushi\",3,4.0],[\"\\u82f1\\u9ba8\\u5343\\u4f4f\\u5e97\",1,5.0],[\"Sushi Misakimaru Togoshi Ginza\",1,5.0],[\"\\u30e8\\u30f3\\u30d1\\u30c1\\u30ae\\u30e7\\u30b8\\u30e7\\u30a6 \\u30b7\\u30ca\\u30ac\\u30ef\\u30c6\\u30f3\",7,5.0],[\"\\u9b5a\\u304c\\u3057\\u65e5\\u672c\\u4e00\\u65b0\\u6a4b\\u99c5\\u30d3\\u30eb\\u5e97\",2,4.0],[\"Kai\\u014d\",5,3.0],[\"Hina Sushi Nishi Ginza\",6,3.0],[\"Ganko Ginza 4 Ch\\u014dme\",1,5.0],[\"Miyakozushi\",3,5.0],[\"Umegaoka Sushi no Midori Souhonten Umegaoka Honkan\",10,5.0],[\"\\u65b0\\u516b\",1,4.0],[\"Sushi Noike\",2,4.0],[\"Uoriki Shibuya Hikarie ShinQs\",7,4.5],[\"Ogawamachi Kinzushi\",1,4.0],[\"Grow Ueno\",2,5.0],[\"Edomaesushi Hanabusa\",2,5.0],[\"Hamazushi Denenchofu\",3,4.5],[\"Sushi Nobu\",1,4.0],[\"Toyosu Market\",16,3.0],[\"Sushi Hamanaka\",1,5.0],[\"Sushi Karaku\",5,4.5],[\"Osamu\",1,4.0],[\"Asakusa Sushiwaka Kaminarimon\",3,4.0],[\"\\u91d1\\u592a\\u697c\\u9ba8\\u677e\\u6238\\u6771\\u53e3\\u5e97\",1,5.0],[\"\\u014cuchi \",1,4.0],[\"Sushiro Shinyokohama\",7,4.5],[\"Maguro Tonya Miura Misaki Yokohama World Porters\",4,4.5],[\"Tsukijiginikkan\",1,3.0],[\"\\u3059\\u3057\\u4e09\\u5d0e\\u4e38\\u7bb1\\u5d0e\\u30bf\\u30fc\\u30df\\u30ca\\u30eb\\u5e97\",1,3.0],[\"Sushiro Sagamino\",2,4.5],[\"Sushino Taikan\",2,4.0],[\"TsuruTonTan Udon Noodle Brasserie Ginza\",24,4.5],[\"Matsuno Zushi Honten\",1,5.0],[\"\\u7bc9\\u5730\\u3059\\u3057\\u597d\\u4e0b\\u5317\\u6ca2\\u5e97\",1,4.0],[\"Ransen hanare\",1,5.0],[\"Sushishin\",11,3.5],[\"\\u3059\\u3057\\u8f1d\",1,5.0],[\"Sushiro Minamikasai\",1,4.0],[\"Senzushi Oshima\",1,5.0],[\"Kanazawa Maimon Sushi Aeon Mall Makuhari Shintoshin \",2,4.5],[\"Kagurazaka Sushi Academy\",3,3.5],[\"Sushiyano Hanare Newoman Shinjuku\",2,4.5],[\"TOKYU Food Show\",61,4.5],[\"Sushi Ginza Tenkawa\",1,5.0],[\"Sushi Tsubomi\",1,5.0],[\"Tsukiji Sushik\\u014d Shinjuku\",4,4.0],[\"\\u9ba8\\u52d8\\u52a9\",1,4.0],[\"Sushi Hirose\",2,4.5],[\"Shoeisushi Nakano\",1,4.0],[\"Uogashi Nihon-Ichi - Kyobashi EdoGrand\",1,3.0],[\"Harenohi Shokud\\u014d\",5,4.0],[\"Sushi Izakaya Agemaki\",2,4.5],[\"UOSHIN Nogizaka\",14,4.0],[\"Ozaki Yukitaka\",2,4.5],[\"\\u72ec\\u697d\\u5bff\\u53f8\\u5927\\u548c\\u672c\\u5e97\",2,5.0],[\"Edomae Gattenzushi Ginza\",1,5.0],[\"Motodane\",12,4.5],[\"\\u5199\\u697d\\u8d64\\u5742\\u5e97\",1,5.0],[\"Kintar\\u014d\",1,5.0],[\"\\u95a2\\u6240\",1,4.0],[\"tachiguizushiuogashinihon'ichi\",1,5.0],[\"Maguro Ichiba Shinbashi Station Ginza\",2,4.0],[\"Kappazushi Sushinoba Shibuya Bunkamura D\\u014dri\",1,5.0],[\"Makoto\",1,4.0],[\"\\u305f\\u3064\\u307f\\u9ba8\",1,4.0],[\"Sushikuwano\",2,5.0],[\"Takumi Shingo\",4,5.0],[\"Sushi Suzuki\",1,4.0],[\"Ooedo Ikebukuro Seibumae\",1,4.0],[\"\\u30b9\\u30b7\\u30ed\\u30fc\\u67cf\\u5e97\",2,5.0],[\"Sakura Shushi\",1,5.0],[\"Irohazushi Nakameguro Megurogawazoi\",3,3.0],[\"\\u7bc9\\u5730\\u5bff\\u53f8\\u6e05\\u7bc9\\u5730\\u672c\\u5e97\",4,3.5],[\"Fuunji\",249,4.5],[\"Kinoshige Tsukiji Honten\",3,5.0],[\"Nikuzushi Ebisu Yokoch\\u014d\",1,4.0],[\"Touemon\",1,3.0],[\"Sakanaya Gohei\",4,4.0],[\"Ichibancho TERUYA\",3,3.5],[\"\\u5e38\\u5bff\\u53f8\",1,5.0],[\"Sushi Murase\",3,4.5],[\"Ginza Maguroya Tsukiji\",5,4.0],[\"Sushidokoro Nakamura\",1,5.0],[\"Chiyoda Sushi Narihira\",1,5.0],[\"Gattenzushi Toshimaen\",3,4.0],[\"Ooedo Shinjuku Nishiguchi\",21,4.0],[\"Sushi kuri ya kawa\",1,5.0],[\"Standing Bar Nagi\",4,4.0],[\"Sushi Isshin\",3,4.5],[\"Kaisen Misakik\\u014d Shibuya Higashi Guchi\",1,4.0],[\"NADA MAN Shangri-La Hotel Tokyo\",4,4.0],[\"KINKA sushi bar izakaya ROPPONGI\",3,4.0],[\"Tsukiji Sushisen Asakusa Kaminarimon\",2,4.0],[\"Sushi Kurusu\",1,5.0],[\"Sushisei Tsukiji Shinkan\",3,4.5],[\"Kagurazaka Sushi Rin\",1,4.0],[\"Sushiono\",1,5.0],[\"Daikokusan\",2,4.5],[\"Tsukiji SushiDai Shinkan\",1,5.0],[\"Sushigen IMPERIAL HOTEL\",1,5.0],[\"Tsukijisushikou\",2,3.5],[\"Takeko\",3,3.5],[\"\\u677f\\u524d\\u5bff\\u53f8 \\u65b0\\u5bbf\\u6771\\u5b9d\\u30d3\\u30eb\\u5e97\",25,3.5],[\"Sushi Maru\",1,3.0],[\"\\u3059\\u3057\\u51e6\\u5320\",1,4.0],[\"Takezushi\",5,5.0],[\"Takewaka Hiroo\",2,4.0],[\"Gyoshin Hiyoshi\",4,5.0],[\"Uoriki\",3,4.5],[\"\\u9ba8\\u51e6\\u3044\\u3068\\u3046\",1,5.0],[\"Tsukijitamazushi Tsukijihonten\",2,4.0],[\"Sushi Zo Tokyo\",4,5.0],[\"Ichirikisushi\",1,4.0],[\"Bikkuri Sushi\",8,3.5],[\"\\u7121\\u6dfb\\u304f\\u3089\\u5bff\\u53f8 \\u30bb\\u30d6\\u30f3\\u30bf\\u30a6\\u30f3\\u5c0f\\u8c46\\u6ca2\\u5e97\",1,4.0],[\"Kaisendonburi \\u014cedo Tsukijiichibanai\",9,4.0],[\"sushiteru\",1,5.0],[\"Sushi Inomata\",1,5.0],[\"Uoshin\",3,4.5],[\"Sushi Keita\",1,4.0],[\"Kaitenzushi Asuka \",1,3.0],[\"R/Q\",1,5.0],[\"Hanainari\",2,4.5],[\"Sushi Dedesuke\",1,4.0],[\"Ry\\u016b Zushi\",8,4.0],[\"Hachiku Yotsuya\",2,4.0],[\"Ginza Kurosu\",1,5.0],[\"Sushi Iwase\",2,4.5],[\"Mawashizushiwakataka\",3,4.0],[\"Daisan Harumi Sushi\",4,4.5],[\"Daidaiya Shinjuku\",3,4.0],[\"Hokake\",1,4.0],[\"Aoyama Sushi Fukue\",2,5.0],[\"\\u306f\\u307e\\u5bff\\u53f8\\u30a6\\u30a3\\u30e9\\u5927\\u4e95\\u5e97\",1,4.0],[\"\\u3061\\u3088\\u3060\\u9ba8\",1,3.0],[\"nanba\",2,5.0],[\"\\u3059\\u3057\\u91cd\",1,4.0],[\"Abe Toranomon Hiruzu\",5,3.5],[\"Jukusei Zushi Senmonten Wagokoro\",1,5.0],[\"\\u548c\\u7530\\u4e0a\",1,5.0],[\"Tokyo Sky Kitchen\",8,4.0],[\"\\u82f1\\u591a\\u90ce\\u5bff\\u53f8\",1,4.0],[\"Muten Kura Sushi Asakusa ROX\",1,5.0],[\"Sushidokoro Kazuki \",1,4.0],[\"\\u52e2\\u5bb6\",1,4.0],[\"Hamazushi\",8,3.0],[\"Katsu Midori Grand Tree Musashikosugi\",5,4.5],[\"\\u3059\\u3057\\u7bc9\\u5730\\u65e5\\u672c\\u6d77\\u8c4a\\u6d32\\u30b7\\u30a8\\u30eb\\u30bf\\u30ef\\u30fc\\u5e97\",1,3.0],[\"Gatten Zushi Ochiai-Minaminagasaki\",3,4.0],[\"Sushi Gintomi\",1,5.0],[\" Sumibiyaki K\\u014dbe Gy\\u016b Ikuta\",21,5.0],[\"Yakitori Ogawa\",11,4.0],[\"Sakana no Meshi Shinbashi\",1,5.0],[\"Maguro Donya Miura Misakik\\u014d Shinyokohama\",4,4.5],[\"Isomatsu\",3,3.5],[\"Ginza SHINTOMIZUSHI / SHINTOMI-SUSHI\",1,4.0],[\"Sushi Takada Kinpei\",1,4.0],[\"\\u3059\\u3057\\u4e09\\u5d0e\\u4e38\\u7530\\u5712\\u8abf\\u5e03\\u5e97\",2,4.5],[\"Sushi-No-Kiichi\",1,4.0],[\"Jiroch\\u014dsushi\",1,4.0],[\"Sushi Ga-ryu\",1,5.0],[\"Kitsuneya\",23,4.5],[\"Kyubey At Keio Plaza Hotel\",17,4.0],[\"Tamasushi Yokohama Lumine\",9,4.0],[\"Numazu Uogashi Sushi Shinyokohama\",2,5.0],[\"Tsurutontan Haneda K\\u016bk\\u014d\",16,4.0],[\"Sushidokoro Hiro\",1,5.0],[\"Ginza Gyuan\",52,4.5],[\"\\u9280\\u5ea7\\u58ee\\u77f3\",1,5.0],[\"\\u65e5\\u672c\\u6d77\\u5927\\u68ee\\u5e97\",1,4.0],[\"Japanese Cuisine JUNISOH \\tHILTON TOKYO\",9,4.0],[\"MUSASHI by AMAN\",1,5.0],[\"\\u65b0\\u6a4b\\u3057\\u306e\\u3060\\u5bff\\u53f8\\u84b2\\u7530\\u5e97\",1,4.0],[\"Sushi Matsugen\",1,5.0],[\"SHUSHI DAIDOKOYA Shibuya honten\",9,3.5],[\"Kaiten sushi CHOJIRO Futakotamagawa\",5,3.5],[\" Tsukiji Sushi Hou\",1,5.0],[\"Sushi Takase\",2,4.0],[\"Numadzuuogashisushi Marubiru\",1,3.0],[\"Sushiya Ginzo Shinjuku NS Building\",1,4.0],[\"Sushi Take\",2,4.5],[\"\\u3059\\u3057\\u583a\",2,5.0],[\"Muten KURA Zushi Ichikawa Inter\",2,4.0],[\"\\u7bc9\\u5730\\u3059\\u3057\\u9bae\\u6d45\\u8349\\u96f7\\u9580\\u5e97\",1,4.0],[\" Kitazawa kurabu Nishi sand\\u014d\",1,5.0],[\"edohachi\",1,5.0],[\"KARUME\",1,5.0],[\"Sushi Kimura\",6,5.0],[\"Yutaka Sushi\",1,5.0],[\"Mamazushi\",1,5.0],[\"Nishiki Gaku-shi kaikan\",1,3.0],[\"Smart Sushi\",3,3.5],[\"Sushi Katsu\",3,5.0],[\"Tapas Molecular Bar\",42,4.5],[\"Edoyasu\",1,4.0],[\"Sushi Rosan Shinjuku\",3,3.5],[\"Yakiuo Ishikawa\",2,4.5],[\"511\",96,4.5],[\"Sushidokoro Kai\",1,4.0],[\"Sushi Takewaka Bekkan\",1,4.0],[\"Kai\",1,5.0],[\"\\u304f\\u3089\\u5bff\\u53f8\\u753a\\u7530\\u5e97\",2,4.5],[\"Sushiya Ginzo Kitte Granche\",5,3.0],[\"Sushi Kibun\",1,4.0],[\"Hachibee Roppongi\",6,3.5],[\"CHOUSHIMARU\",6,4.0],[\"\\u3088\\u3057\\u5bff\\u53f8\\u897f\\u5ddd\\u53e3\\u6771\\u53e3\\u99c5\\u524d\\u5e97\",2,4.5],[\"\\u4e38\\u516b\\u9ba8\",1,4.0],[\"Sushiro Chofu\",3,4.5],[\"Luxe Dinning Hapuna\",11,4.0],[\"Gyoshin\",1,4.0],[\"\\u5bff\\u3057\\u51e6\\u539f\\u3060\",1,5.0],[\"\\u9ba8\\u6587\",1,5.0],[\"Bobei Oyama\",1,4.0],[\"Isomarusuisan\",18,4.0],[\"Gonpachi Nishi-Azabu\",48,4.0],[\"Hisagozushi\",1,4.0],[\"Kaisenmisakik\\u014d Kinshich\\u014d \",2,2.5],[\"\\u9ba8\\u5fa1\\u82d1\",1,5.0],[\"Kizushi\",3,4.0],[\"Tsukiji Suzutomi\",1,4.0],[\"Marutomisuisan\\u3000\",2,4.0],[\"\\u6843\\u592a\\u90ce\\u3059\\u3057\\u672c\\u5e97\",2,3.5],[\"Heiroku Sushi Omotesand\\u014d-\",27,2.0],[\"Kyubey Hotel Okura branch\",3,4.5],[\"Zoroku Yuzan\",3,5.0],[\"\\u677f\\u524d\\u5bff\\u53f8 \\u6c5f\\u6238\",12,4.0],[\"ageha\",1,4.0],[\"\\u5143\\u7956\\u5bff\\u53f8\\u6c60\\u888b\\u6771\\u53e3\\u5e97\",2,4.0],[\" Kaiten Sushi Fukuch\\u014d\",1,4.0],[\"Sushi Shokunin Hatano Yoshiki\",1,4.0],[\"Tofuro Nishi Shinjuku 1 Ch\\u014dme \",8,4.5],[\"Sushi-Kappo Kaga\",1,4.0],[\"Katsu Gotanda\",1,4.0],[\"\\u6d77\\u65ec\\u798f\\u3088\\u3057\",1,5.0],[\"Fish on Dish Rolly\",3,4.5],[\"\\u677f\\u524d\\u5bff\\u53f8 \\u9280\\u5ea7\\u30a6\\u30a9\\u30fc\\u30bf\\u30fc\\u30bf\\u30ef\\u30fc\\u5e97\",3,4.5],[\"Higashi Ginza Edogin\",1,5.0],[\"otonawashokutoukyou\",1,4.0],[\"Miyazono\",1,5.0],[\"Kaikou\",2,4.0],[\"Kikkou Funabashi Kitaguchi\",2,4.5],[\"Kappa Sushi Kashiwa\",1,4.0],[\"Masagozushi\",1,2.0],[\"totoyamichi\",1,5.0],[\"SUSHI51\",4,5.0],[\"LINCOS Roppongi Hills\",8,4.5],[\"Midori Sushi\",5,4.5],[\"HAMAZUSHI Super VIVA Home Toyosu\",1,3.0],[\"Shichirin Hamayaki to Sushi Banyayoichi Ueno\",1,4.0],[\"Isozushi\",2,4.0],[\"Sushi Dari Han\",1,5.0],[\"Taishou \",1,5.0],[\"Kaisen Kofukuzushi\",1,3.0],[\"Kaisenmisakik\\u014d Shimokitazawa\",1,4.0],[\"\\u5143\\u7956\\u5bff\\u53f8\",2,3.0],[\"Daiwa Zushi\",2,3.5],[\"Kaisen Misakiko Koshigaya  Laketown\",1,5.0],[\"Sushi Hide\",3,4.5],[\"\\u8aa0\\u9ba8\",1,4.0],[\"Sushimaru\",2,1.5],[\"Fud\\u014dmae Sushi Iwasawa\",2,4.5],[\"\\u9ba8\\u5146\",3,4.5],[\"Hamazushi Ayase \\u014cgami\",10,3.5],[\"\\u306f\\u307e\\u5bff\\u53f8\\u84b2\\u7530\\u99c5\\u5357\\u5e97\",1,5.0],[\"\\u516b\\u5343\\u4ee3\\u5bff\\u53f8\",1,5.0],[\"matsubazushi\",1,5.0],[\"Sushi Ichij\\u014d\",1,5.0],[\"Zauo Shinjuku\",52,3.5],[\"Nadaman Shangri-La Hotel Tokyo\",1,4.0],[\"Sushi Ikki T\\u014dky\\u014d Marunouchi\",1,3.0],[\"\\u9ba8\\u51e6\\u4e00\\u4f11\",1,4.0],[\"\\u306f\\u307e\\u5bff\\u53f8\\u30e9\\u30a4\\u30d5\\u30ac\\u30fc\\u30c7\\u30f3\\u65b0\\u6d66\\u5b89\\u5e97\",1,2.0],[\"Sushiro Karasuyama\",3,4.5],[\"Kandaya Sushi\",1,4.0],[\"Tempura Shinjuku Tsunahachi Ginza\",12,4.5],[\"jun\",1,4.0],[\"Tsukiji Sushisei Hibiya Chanter\",3,3.5],[\"Sushi Gin Azabu\",3,3.5],[\"Maishin\",5,4.0],[\"Tuskiji Suzutomi Sushitomi Futakotamagawa\",1,4.0],[\"Ichifukusushi\",1,5.0],[\"Xex Atago Green Hills Aburiyaki & Sushi An\",5,3.5],[\"\\u5143\\u7956\\u5bff\\u53f8\\u9326\\u7cf8\\u753a\\u99c5\\u524d\\u5e97\",1,2.0],[\"Oshokujidokoro Tane ichi\",3,4.5],[\"Afuri Ebisu\",143,4.5],[\"Akasaka Sushi Aoi\",1,5.0],[\"Matsuribina Yodobashi Yokohama\",1,5.0],[\"Irohazushi Nakameguro Honten \",1,4.0],[\"Sushiden Kenzan\",3,3.5],[\"oogisasamakisushihonpo\\u3000ougi\",1,5.0],[\"Rakushun Dining Zaian Ikebukuro Higashiguchi Honten\",2,4.5],[\"Toshiya\",3,4.5],[\"LIFE Central Square Oshiage Ekimae\",8,4.5],[\"YOSHIMURA\\u3000\",3,5.0],[\"Teppanyaki grow Roppongi \",7,5.0],[\"Ichirin \",1,4.0],[\"\\u5efb\\u308b\\u5143\\u7956\\u5bff\\u53f8\\u6d45\\u8349\\u99c5\\u524d\\u5e97\",2,4.5],[\"\\u6642\\u4ee3\\u5bff\\u53f8\",1,3.0],[\"Tsukiji Unagi Shokudou\",5,4.5],[\"\\u798f\\u52a9\\u5927\\u5d0e\\u5e97\",1,4.0],[\"Taira Roppongi\",2,4.0],[\"\\u6d5c\\u7530\\u5c71\\u65ed\\u9ba8\",1,4.0],[\"Uohide\\u00d7SPICE TRUNK\",1,5.0],[\"\\u82b1\\u898b\\u9ba8\",1,5.0],[\"Hibiki Futei Akasaka\",2,3.5],[\"\\u6c5f\\u6238\\u7fd4\",1,5.0],[\"Uogashi nihon'ichi Citta Kawasaki\",1,4.0],[\"Sushiya JInka\",1,5.0],[\"sushichoushimaruayaseten\",1,3.0],[\"nihonbashiniginigiichi\",1,1.0],[\"Sushiro Muza Kawasaki\",3,3.5],[\"Daikan'yama Sushi Takeuchi\",1,4.0],[\"Kioicho RANSEN\",1,4.0],[\"Ueno Yoseya\",1,3.0],[\"\\u516d\\u672c\\u6728\\u5bff\\u53f8\\u5c4b\\u306e\\u3044\\u3051\\u52d8\",1,5.0],[\"Sushi Hanajin\",1,3.0],[\"Erouma Yasai & Nikubar Kan Beef Shinjuku\",1,5.0],[\"Taira Shirokane\",2,4.0],[\"\\u7bc9\\u5730\\u65e5\\u672c\\u6d77\\u30fb\\u4fe1\\u6fc3\\u753a\\u5e97\",1,4.0],[\"Edomae Hattori\",4,4.5],[\"Isomaru Suisan \\u014cfuna Kasamaguchi\",2,4.5],[\"Okeisushi Nihonbashi Takashimaya \",1,3.0],[\"Sushikuni\",9,4.0],[\"Maguro Donburi Segawa\",1,5.0],[\"\\u6885\\u5bb6\",3,4.0],[\"\\u516b\\u5175\\u885b\",2,4.0],[\"Hannodaidokoro\",17,4.5],[\"\\u4eac\\u6a3d\\u5e02\\u30b1\\u8c37\\u5e97\",1,3.0],[\"Butasute\",3,4.0],[\"\\u7bc9\\u5730\\u5bff\\u53f8\\u6e05\\u9280\\u5ea7\\u56db\\u4e01\\u76ee\\u5e97\",2,4.0],[\"\\u3084\\u307e\\u3042\\u3044\",1,5.0],[\"Gansozushi Iidabashi\",2,2.0],[\"Sushir\\u014dasakadai\",3,4.5],[\"asao\",1,5.0],[\"Tsukijitamazushi\\u3000Tsukijikitarou\",2,3.5],[\"\\u3044\\u3055\\u7f8e\",2,4.5],[\"Sushiden Haneda Air Port\",5,3.5],[\"Oshima Yokohama Minatomirai\",1,5.0],[\"\\u6c96\\u5bff\\u53f8\",1,5.0],[\"Hokkaido Shibuya Ekimae \",5,4.0],[\"Tsukiji Sushik\\u014d Ginza Roku Ch\\u014dme\",1,1.0],[\"\\u3088\\u3057\\u5bff\\u53f8\\u8568\\u5e97\",2,4.5],[\"KANAZAWA MAI-MON Sushi Tamahime Tamagawa Takashimaya SC\",1,4.0],[\"Muten kurazushi Yokohama Seya\",2,4.5],[\"Sushi Isshin\",8,3.5],[\"Sushizanmai Yokohamach\\u016bkagai Higashimon\",2,4.0],[\"Kanzan Ningyocho\",1,4.0],[\"\\u9ba8\\u9577\",1,3.0],[\"Sushi Masa\",1,4.0],[\"Wasabi\",1,4.0],[\"Fuji Sushi\",1,3.0],[\"ICHIBA SUSHI\",2,3.0],[\"Sushi Sugaya\",1,4.0],[\"Tsukijisushik\\u014d Kanda\",1,3.0],[\"Gyoshin Jiy\\u016bgaoka\",1,4.0],[\"Asahizushi S\\u014dhonten Shinjuku Sumitomo Biru\",1,4.0],[\"Y\\u016bki\",2,4.0],[\"Zan\",2,4.5],[\"Premium Kaio diversity Tokyo Plaza\",5,2.5],[\"Uogashizushi \",2,4.0],[\"Basara\",2,3.5],[\"Sushisei\",1,5.0],[\"\\u6885\\u4e18\\u5bff\\u53f8\\u306e\\u7f8e\\u767b\\u5229\\u7dcf\\u672c\\u5e97\",2,3.0],[\"\\u79c0\\u9ba8\",1,5.0],[\"Atemaki Kij\\u016br\\u014d\",1,5.0],[\"Shionzushi\",5,3.5],[\"Toshiya Verde\",1,5.0],[\"TOBIKIN Takamoto Kamiyacho\",2,3.5],[\"Hamashigezushi\",1,5.0],[\"Food Way Shinyokohama Prince Pepe\",1,5.0],[\"tempura tsunahachi Shinjuku So Honten\",113,4.0],[\"Darumazushi\",1,3.0],[\"\\u7bc9\\u5730\\u5bff\\u53f8\\u6e05\\u6e0b\\u8c37\\u5e97\",1,5.0],[\"Sushi Kanroku Shinjuku\",1,4.0],[\"sushitsunesai\",2,3.5],[\"\\u9ba8\\u795e\\u7530\",1,5.0],[\"Otanko saitamashintoshin\",2,5.0],[\"Sushi Shinagawa Aoi \",1,4.0],[\"SUSHIZANMAI Honjin\",1,4.0],[\"Uogushizen\",1,4.0],[\"\\u9ba8\\u3075\\u308b\\u304b\\u308f\",1,4.0],[\"Sushimaru\",4,3.5],[\"Sushi Fujita\",2,4.0],[\"SUSHIDOKORO YACHIYO Shinanomachi Rengakan\",1,4.0],[\"Onigiriya Marutoyo\",6,4.0],[\"\\u306f\\u307e\\u5bff\\u53f8\\u9e7f\\u6d5c\\u5e97\",1,3.0],[\"KOJIRO\",3,5.0],[\"Fifty-One\",2,5.0],[\"\\u3089\\u3093\\u307e\\u3093\\u9ba8\",1,5.0],[\"Uogashi Nihon Ichi Tokyo Sta. Ichibangai\",1,4.0],[\"Kaitensushi Taisei Tachikawa Kitaguchi\",2,4.0],[\"Sushibenkei Umi Ginza\",1,5.0],[\"SUSHI IZAKAYA GAKU HAWAII\",5,5.0],[\"Kurose Sengyo\",2,4.0],[\"don'nodonmaruikebukurokanamechouten\",3,3.0],[\"\\u3061\\u3088\\u3060\\u9ba8\\u7acb\\u4f1a\\u5ddd\\u5e97\",1,4.0],[\"kaisendokoro kanemithu\",1,4.0],[\"Genpinfugu Shinjuku 3ch\\u014dme no seki\",5,4.0],[\"Sushidokoroshintanaka\",2,4.5],[\"Sushiy\\u016b\",1,5.0]],\"hovertemplate\":\"review_count=%{customdata[1]}<br>latitude=%{lat}<br>longitude=%{lon}<br>name=%{customdata[0]}<br>rating=%{marker.color}<extra></extra>\",\"lat\":[35.665917,35.665527,35.7112256125179,35.711847,35.6899698,35.6675715648913,35.671918,35.67899891782,35.6798409,35.699236,35.6974755686167,35.6999571843221,35.6848602068163,35.698418,35.6685097691225,35.6703869811431,35.697771018722904,35.7046625,35.6914852834496,35.681097585635,35.6816773,35.688329,35.7101335336858,35.706362,35.672322199999996,35.697334,35.6972660761918,35.687867,35.6870105462973,35.698429,35.687178,35.711168,35.660405,35.7122370940807,35.697116945647,35.6821714540769,35.703545,35.6850650447919,35.6830897119822,35.6764368,35.710905,35.684564,35.665059,35.662052,35.6713709693876,35.674919128418,35.664783,35.69493,35.671234,35.663786,35.7081712125691,35.6977691167624,35.697692025824,35.6415162,35.6603956553606,35.6828860866449,35.711152,35.686700017553,35.6807496410944,35.7329289278529,35.7091955106045,35.6859815056488,35.6947983694627,35.686408996582,35.6813426754301,35.6859647928884,35.6588787121888,35.682709,35.658344,35.679053323832,35.660236,35.6554741,35.687209,35.6809054352424,35.6575980632418,35.7085823088895,35.7003928801471,35.624837,35.7099150583321,35.673267,35.6654586791992,35.6551513671875,35.680068,35.6920906704911,35.664584,35.665784413121,35.672616,35.7133185,35.6291280885396,35.677720065331,35.728491,35.7266647,35.6998942,35.6695803,35.671832,35.661131,35.670583,35.627082,35.6905367,35.6503880722514,35.74363,35.674268,35.6948732473436,35.664998,35.62487,35.64399,35.6730061215117,35.671341,35.6288336761815,35.680779,35.73171,35.6923379289823,35.6594639291003,35.65713,35.696791151715,35.666287,35.7111709,35.690197,35.6804104,35.6460729317,35.668075,35.7243149,35.6678787229819,35.6703358914626,35.6647567749023,35.681744,35.6798885451835,35.6923522949219,35.6901230593421,35.6762415,35.6928503150147,35.6677906179847,35.6963310241699,35.6476329296971,35.6587827822096,35.6685368794993,35.6637348595193,35.6822557878498,35.684198082715,35.6651230997705,35.668668,35.6623504,35.718863999999996,35.6461030843482,35.647915,35.6728713156965,35.66825681316,35.697765,35.6712096805213,35.6654451601,35.6965828698925,35.644241,35.686818,35.6619386523601,35.664606,35.6654311950778,35.7081767,35.7056050689453,35.6648483276367,35.6611464162526,35.6732091297343,35.6536993,35.711715,35.69053,35.634692,35.684476,35.6462263,35.641598771146,35.669256,35.6721496582031,35.6550860500605,35.6634351165356,35.63292,35.7508325176266,35.6896662869505,35.682399,35.6749341315559,35.6666410950741,35.7020843457519,35.6903806018388,35.696156,35.6743123513491,35.688256,35.7293804,35.698391,35.6538823432583,35.6460682,35.7200695964139,35.669821999999996,35.7342673,35.674181,35.6618709648377,35.6613485040952,35.670673,35.673239,35.6811598646102,35.6661482,35.6674048656649,35.672664642334,35.695121,35.693846664578,35.681933,35.644268388249,35.6594621430771,35.628108,35.780156,35.7009999929019,35.7083783106328,35.6652240085428,35.6468391418457,35.6836472707232,35.6764729,35.6568736660157,35.7239530107986,35.7193323696912,35.687831,35.6975477204209,35.703026,35.6411575838,35.6659649532061,35.624739,35.6677566851484,35.665759,35.7047204773022,35.6996154785156,35.68558,35.7078465592592,35.6695852492215,35.7125738603074,35.6810509,35.6687537889281,35.663403621435,35.706845799999996,35.56269,35.665926999999996,35.6810171699671,35.667988,35.675498,35.694937952397,35.7314251704695,35.6342515429227,35.6654152200357,35.6742527,35.711526,35.644505,35.7017766775973,35.6676194,35.7477111816406,35.6664357367021,35.7545698076244,35.729511127775,35.6681881079708,35.6590793,35.6723709106445,35.6645985137395,35.6457185301501,35.6662109007585,35.6654375423276,35.7294352324029,35.669107,35.6641222,35.7035168,35.702428,35.67608706478,35.7074804255563,35.7378674991604,35.6475499010387,35.6867404349575,35.658464,35.6647679,35.6662723750315,35.7491373,35.6217847399449,35.64479,35.667385,35.6984725357229,35.6575675408477,35.6908535,35.6855598517505,35.6714370850865,35.464602,35.671335,35.6460224316431,35.6686486057099,35.7033462524414,35.547201,35.666764,35.685694,35.6514484233775,35.711477,35.670869,35.6443099975586,35.6556914177454,35.69322,35.681141,35.5510377427147,35.6575126647949,35.6492275920339,35.6633998707343,35.713020324707,35.693598,35.6551854971948,35.6670560806683,35.673226,35.6254990172705,35.692468,35.565512178665,35.671989440918,35.6941757202148,35.661077,35.6303823917878,35.6901509566864,35.6654008,35.681373,35.7125024746864,35.6765587337027,35.6815785434855,35.6691094184257,35.6612356,35.6681237034905,35.732999359021,35.673897,35.6692886352539,35.7067464877614,35.660459,35.702142337683,35.6609134,35.6740315617983,35.6475752797436,35.6821617274044,35.6716669,35.6619992,35.671401,35.6987483142484,35.663534,35.6480309482791,35.6547214282063,35.589953,35.66734,35.7073591708488,35.670547,35.648241,35.732616,35.660116,35.654196999999996,35.694793,35.6575411837377,35.6545561780128,35.6589379,35.6434,35.667138,35.454606,35.7137009470544,35.65635,35.6384658813477,35.6649192369554,35.673119,35.7106604,35.6910254669284,35.664966583252,35.6617572,35.6651606620979,35.704453455146,35.729219,35.6638106,35.7521051863882,35.6601143,35.6610201218074,35.705018,35.663441,35.723584,35.6630028663065,35.6574783325195,35.7628054220517,35.6612851275059,35.7217270247391,35.727878,35.6500625610352,35.677335,35.6518603802075,35.6074626,35.6638319631856,35.676478,35.6624747303835,35.712822,35.6202450997263,35.6981089521927,35.6250424222209,35.626363,35.7078235,35.6661777720275,35.698332,35.6886272,35.603762930761,35.689914,35.677076469501,35.748473,35.738155,35.6426887512207,35.6566017889232,35.69539,35.729116,35.6296753637362,35.673989,35.7316131591797,35.7083985492949,35.597756,35.6889449411171,35.631941,35.6723709106445,35.6564102172852,35.7041249920653,35.7772759147313,35.5878990667361,35.6693253,35.687561099999996,35.6075897216797,35.62037,35.6878866288081,35.6695278460424,35.6679898656931,35.6693534585865,35.67032,35.6711361595636,35.7643814086914,35.6835115580065,35.7007179260254,35.6669175473256,35.6582107543945,35.691893,35.671842,35.652105824529,35.670177,35.6601986901014,35.6662026,35.6649342246104,35.656667361042,35.7075962,35.6555715513426,35.6645889282227,35.6702350529897,35.6710929870605,35.6869612128766,35.544609,35.6489448547363,35.6427116394043,35.6690600560029,35.7646107,35.707836151123,35.6692244166054,35.701563,35.679078,35.655763,35.665012,35.658874,35.7178404313055,35.660561,35.6654816,35.688814,35.6868465324256,35.674371,35.6964181797963,35.6694065705234,35.677974,35.6617728602672,35.6831622309604,35.672668241765,35.656747,35.662478,35.67145,35.6423968,35.6961445501649,35.6298398042976,35.674539,35.7264483036838,35.6947021484375,35.657088,35.6618985,35.6918296813965,35.664157,35.6677932739258,35.550235,35.7088102261618,35.662509,35.668266,35.6185559,35.709483,35.6731060504533,35.6970689611896,35.6468471,35.6658662786788,35.68564,35.6550152,35.6661646867831,35.655583,35.673259,35.8591496268,35.6335983276367,35.7099150583321,35.692139,35.668189541374,35.6688188715574,35.6849854687236,35.661912,35.6080492001847,35.712304318801,35.7106285095215,35.695743560791,35.6497546517041,35.6855540545097,35.649292,35.7450370788574,35.6657310636093,35.7149778807954,35.6974998728913,35.686493,35.5856978190829,35.6883694130721,35.686488,35.7545247228991,35.727612,35.6623385483501,35.709042,35.6615010939597,35.6691375838354,35.7312596513606,35.6748819,35.677545204019,35.6593117,35.711934,35.6462264,35.6643556475884,35.6448581945884,35.7477332229531,35.6905466906162,35.670462,35.6986600632213,35.7066333337776,35.660665,35.6279624268165,35.659362,35.6515632088213,35.7437213392794,35.6926965956829,35.6287845599596,35.6701316833496,35.7303428649902,35.6885223388672,35.6637968,35.6653344,35.664711,35.6924930417731,35.650447642793,35.7338659388493,35.6345537695449,35.688950230841,35.670543,35.658986,35.7030941585841,35.6573569273744,35.7210026136521,35.6687518431058,35.6901411826911,35.6251579,35.653373,35.704012,35.667537689209,35.6633415222168,35.6829566955566,35.627997,35.63363,35.6610154526699,35.682556,35.5330332339,35.6296768188477,35.6655451868861,35.6688116,35.693086,35.706999,35.665628,35.6458246767618,35.659208,35.679747,35.684746,35.6612867581886,35.67285,35.665937,35.6710815429688,35.6597785949707,35.6924869341649,35.629226,35.7251324225142,35.682297,35.660617,35.663415,35.7230703588299,35.6737134,35.66541,35.6707229009754,35.7368555559544,35.7492143327254,35.615629,35.6301551034577,35.6662527538352,35.6250396335325,35.6730554361584,35.672265,35.7555618286133,35.655605,35.6779262153905,35.7247246,35.6590232849121,35.696677,35.7080192565918,35.6723709106445,35.5861547922025,35.6564598083496,35.6550494590697,35.7193972978164,35.6713070275538,35.643851,35.711496,35.7858340586,35.6604831190096,35.5019946304422,35.4538381815927,35.6193771362305,35.682031456164,35.47003,35.51177,35.6724806,35.5878600661351,35.659964634931,35.6814497732861,35.6583699766804,35.7306668860606,35.652231,35.6901083433052,35.6525015480072,35.7012474539862,35.6883438669375,35.658416,35.668741,35.646698,35.692723,35.7171970635156,35.6565134287694,35.7088507116163,35.677304,35.6654650939878,35.649019,35.6668571217305,35.6537158341326,35.4705275165,35.672741,35.664722,35.6760565973187,35.6523418369997,35.7222655679942,35.7322043,35.6677369995761,35.660213,35.6698570251465,35.6693833218689,35.6684614409375,35.671545,35.6749378484747,35.7293096915012,35.8557669351,35.730937,35.6448132981074,35.6648523711991,35.6868279,35.664902,35.648286,35.6792579,35.6286914,35.6861297009099,35.7119416044739,35.661605,35.6649468848837,35.6222429040837,35.7107215,35.7430651428298,35.6933694670044,35.64469,35.6594857,35.7182709,35.656589,35.682277,35.6646944,35.710835,35.6433633,35.6652240085428,35.7009369449451,35.6483070839975,35.5435698933282,35.6653262,35.672133,35.6272349217297,35.700711,35.6954128753584,35.663531,35.6705641175622,35.5115033857,35.6510827,35.554049,35.7379621704773,35.6706147253793,35.6692796840822,35.664426,35.5620803833008,35.6468211605857,35.780501,35.6626569,35.6890024,35.8069686889648,35.7051042976749,35.6654511,35.754688,35.704452,35.701307,35.6684779872561,35.663857,35.68810115825,35.670492922535,35.688918,35.7315497454012,35.668433,35.690377,35.670297,35.660781,35.5970634597536,35.7032410398455,35.7040402,35.7325211132214,35.666601,35.654504,35.703693455158,35.54698909538,35.712978,35.712911,35.7352792526062,35.6150926746146,35.712316,35.5736453682092,35.6536807081172,35.7236794060799,35.668383,35.6817144809568,35.689631,35.6675804014868,35.508625,35.6291694641113,35.6702174578926,35.6611061096191,35.5971025425962,35.645564,35.690564,35.6887633,35.6657066,35.6900893,35.4653124926,35.5076668,35.545448,35.6741757200618,35.6689450990182,35.6685724143047,35.5707563566406,35.692532,35.685422,35.5625679207772,35.6455268859863,35.658014,35.612729,35.6645660400391,35.6815905481417,35.6811829,35.6882,35.670652,35.9038731606375,35.711959,35.7107931455344,35.6828878384536,35.780797824344,35.648799,35.616066000000004,35.5802383422852,35.7295607897784,35.693149130164,35.6965194078171,35.5086945284,35.6870716988793,35.739003,35.691478,35.6654586791992,35.674704,35.6068993,35.667193,35.6692583709516,35.5421548082104,35.6798409,35.6682644771008,35.662921,35.7535182724101,35.8160133643,35.7327764138655,35.6812019566175,35.6280212,35.6070578,35.6697282873396,35.661971461356,35.7486839294434,35.6944897026996,35.6602253,35.6453264196921,35.697813,35.6908922905065,35.6865025146608,35.6699532,35.66556,35.7053279588775,35.6668940855485,35.6668687139854,35.6624068,35.677325,35.6499938964844,35.7303018283709,35.8621,35.657321,35.6903352852036,35.693591,35.6199688,35.714618940178,35.7445716344112,35.668715,35.6702255,35.6794328278912,35.6608734130859,35.6789126044983,35.7041007406626,35.8806960760799,35.696149,35.6248868887032,35.512249,35.65843,35.6519030150617,35.65692,35.7103253048516,35.6630218230599,35.6832899519711,35.68027,35.5846598719634,35.660129,35.6977606454997,35.666874282749,35.8778528974477,35.603579,35.6990200497578,35.70558,35.624223,35.6733436144903,35.4631163188551,35.5601682577654,35.6026899568684,35.5868394,35.690342,35.6869150403735,35.6822736126709,35.6792239034458,35.6651127572392,35.6430216253,35.673434,35.6311378479004,35.671936,35.6667051269608,35.6730792214007,35.6554427358198,35.658691,35.612117,35.8147690723,35.6622018518183,35.6960080695954,35.6657409667969,35.648317,35.671297,35.467564,35.6462873299895,35.6722913,35.715604,35.733554,35.6520421863038,35.710279,35.782899,35.663171,35.6935615539551,35.7109565463135,35.6992070861947,35.665489,35.6202201650278,35.662265,35.681624,35.65517044,35.6348462252507,35.6689567162406,35.7350173678462,35.528948,35.6692654860924,35.770966485638,35.6828893503356,35.531318,35.652437,35.681585,35.7134749487661,35.6586341468086,35.728792,35.689891,35.664119720459,35.6807433898975,35.6641222,35.3540725708008,35.6807659435929,35.664842,35.6654594,35.7079647145719,35.6478354597369,35.65966796875,35.6918168355958,35.679723363453,35.6717181457719,35.7016046460928,35.701303,35.813793182373,35.6653701571846,35.6683019574443,35.60756314615,35.5488435409576,35.4568877153293,35.8243553137,35.6602761291401,35.6706170431201,35.826892228,35.613282,35.460858,35.6726476,35.4436730311411,35.686201,35.606854474282,35.6875398760092,35.708736,35.6427184981237,35.644537,35.65529,35.692054,35.6070556640625,35.6914215087891,35.646543,35.665565,35.6249633143393,35.6158807851243,35.6761,35.7595139543565,35.6146680623873,35.7060152901993,35.6998411365787,35.6926854604863,35.6538127261256,35.663402,35.665672,35.5095167,35.690824,35.6299731651441,35.6590441618686,35.692641,35.6117481402589,35.7272807234,35.893362061,35.610149,35.666727,35.6640038290036,35.6616536335289,35.690686,35.6720886230469,35.681312,35.6653803504686,35.7788834457709,35.670993,35.6604314357737,35.6686133561927,35.6816773,35.6992910391794,35.670146,35.6064446479115,35.664913,35.7337326,35.5979751451447,35.5865097045898,35.6906744,35.6129390587929,35.661758],\"legendgroup\":\"\",\"lon\":[139.770608,139.770494008705,139.795545595344,139.795839,139.6972898,139.772446538519,139.767574,139.76307909322,139.7650921,139.772991,139.757081910758,139.755228912626,139.783878205367,139.770602,139.761222451596,139.759601,139.785395333331,139.753342,139.770373531559,139.763630072857,139.7639301,139.700503,139.775658158904,139.753272,139.7601871,139.773242,139.772716766677,139.773878,139.774491531768,139.772199,139.742251,139.775057,139.699389,139.775979354199,139.813278312421,139.79836625362,139.771514,139.781714932379,139.768393199857,139.7366656,139.774987,139.761059,139.770652,139.747915,139.765831441,139.736801147461,139.770437,139.700426,139.761311,139.770641,139.774105591805,139.775247344232,139.771444976874,139.7153641,139.729217156638,139.784095957875,139.774886,139.774193951606,139.771593985923,139.710011137711,139.772941482075,139.702457283564,139.757076742281,139.78076171875,139.768651999398,139.783428753843,139.752309373706,139.766616,139.698986,139.737710913186,139.700514,139.7549518,139.774178,139.768551097467,139.745124255345,139.775274920083,139.772606033187,139.739497,139.810766581685,139.7765305,139.770797729492,139.798004150391,139.76781,139.779691601097,139.772296671952,139.75724928611,139.764021,139.7970776,139.786611257266,139.769421662398,139.776926,139.7113721,139.7704495,139.759328,139.76225,139.700987,139.764893,139.772574,139.7692314,139.746324999003,139.84548,139.768652,139.814833233541,139.7584735,139.730383,139.784466,139.737298463671,139.761141,139.737211830844,139.770645,139.708148,139.771740320883,139.72309243524,139.754119,139.786245022926,139.744055,139.7749182,139.703937,139.7716528,139.888368,139.76271,139.7834904,139.761000550842,139.800298233877,139.731674194336,139.766811,139.773607887205,139.702392578125,139.684537247575,139.7706974,139.772226512432,139.758792130507,139.787002563477,139.724584386037,139.729261106864,139.760988442548,139.769549332559,139.773799365884,139.784759268458,139.757295142883,139.766929,139.7332646,139.786645,139.70809979961,139.745319,139.766346104443,139.753528113739,139.771597,139.763113774853,139.756228,139.702697619796,139.782568,139.7724942,139.743850299425,139.771138,139.770408741468,139.7740934,139.75182563905,139.762496948242,139.667481527397,139.736387143728,139.7558434,139.796746,139.7027647,139.885165,139.781945,139.7260261,139.697104289686,139.767085,139.774505615234,139.75711451064,139.769539765424,139.715974,139.804748767738,139.73574411124,139.702367,139.7643666481,139.749512441386,139.772202943016,139.703156885914,139.767636,139.767881653362,139.720555,139.7110627,139.705207,139.801308967078,139.7077646,139.763756821099,139.75916,139.7380587,139.761879,139.736578418374,139.756555635679,139.760364,139.7695892,139.766000424489,139.7704811,139.770538094917,139.76545715332,139.759544,139.77234659758,139.784919,139.67031,139.697798,139.738845,139.791508,139.771073638533,139.770354512369,139.770869821763,139.718597412109,139.78324886266,139.6769106,139.759302971378,139.752018770341,139.763973565607,139.743342,139.734078302925,139.5782,139.927197565,139.739444367272,139.771666,139.756540954113,139.770626766678,139.64946741327,139.784088134766,139.728292,139.68221811906,139.762644408517,139.791975,139.7351855,139.767420882974,139.769406146168,139.6656409,139.716533,139.720409,139.766726761813,139.711531,139.767906,139.793815567376,139.728510506316,139.714905532438,139.757884263407,139.7665644,139.725327,139.782054,139.79584,139.7179155,139.857223510742,139.705776678348,139.802245217484,139.715547473068,139.77042723972,139.6681234,139.73649597168,139.739472229257,139.708881419627,139.770515933633,139.769986162955,139.712918532167,139.703438,139.729426,139.5795373,139.650292,139.764638522556,139.772298467494,139.760205013452,139.709401575082,139.727846767175,139.703219,139.7746364,139.755802167051,139.8052694,139.740475812439,139.786035,139.7179945,139.76784305273,139.756584673587,139.6912172,139.732222832796,139.752795457749,139.624816,139.761655,139.714499538463,139.75985533883,139.743408203125,139.768309,139.741913,139.78415842524,139.722433647737,139.79715,139.797477,139.699203491211,139.756849743426,139.701468,139.76793,139.788681091866,139.754180908203,139.702832620382,139.73326613749,139.797698974609,139.69416,139.793240531289,139.756672110591,139.766093,139.722397439182,139.770797,139.714573865783,139.764007568359,139.701873779297,139.705779,139.709625580375,139.709822323958,139.7610622,139.7678,139.704797960657,139.828692245162,139.770274768413,139.771361290431,139.6985372,139.761299960596,139.767685132133,139.759173,139.707107543945,139.772913465047,139.698813,139.811389343327,139.6979734,139.737300367178,139.723634812815,139.786355032727,139.7611948,139.734048,139.817213,139.77277636528,139.76931,139.67792922369,139.736129743581,139.727885,139.708932,139.725734447475,139.765618,139.710443,139.729009,139.722472,139.752757,139.702408,139.69551707311,139.734592214283,139.698202,139.780865,139.713656,139.642069,139.704651812695,139.7429,139.728637695312,139.770839160984,139.765622,139.7968805,139.705587370843,139.770980834961,139.8558465,139.770119054918,139.769645287072,139.7051782,139.7097111,139.802551435621,139.7266125,139.696551704084,139.633581,139.76942,139.817598,139.761271827363,139.723541259766,139.849095356412,139.733977828358,139.705994430858,139.764628,139.701766967773,139.761408,139.745333356728,139.7362414,139.730283,139.73696,139.734509958345,139.863429,139.726717039749,139.696505822574,139.780781453693,139.722472,139.6659269,139.770260737596,139.774815,139.7131902,139.732183627922,139.69686,139.736263665307,139.703089,139.84871,139.748992919922,139.734359969173,139.703166,139.719458,139.682793993758,139.737557,139.728454589844,139.665517013975,139.737992,139.697511233389,140.078818,139.73649597168,139.742599487305,139.732426510541,139.721580029258,139.728825104174,139.7602649,139.7278695,139.735458374023,139.715982,139.715033085381,139.745587346392,139.762642907211,139.760178302655,139.706367,139.741235427375,139.689697265625,139.76649639956,139.815811157227,139.738471887755,139.777206420898,139.763474,139.762253,139.638533513067,139.767916,139.696535490847,139.7312591,139.736315817223,139.694322209564,139.7726102,139.746978543699,139.739501953125,139.768671750886,139.761138916016,139.778420249961,139.769444,139.745208740234,139.714096069336,139.761738547175,139.8357821,139.769149780273,139.688953270532,139.698101,139.772876,139.682778,139.770557,139.697244,139.764820987998,139.7026067,139.7708116,139.698043,139.696724679871,139.765366,139.787797961414,139.761895794378,139.737277,139.725223294938,139.73837546293,139.771610831047,139.694173,139.698741,139.724831,139.7205247,139.7032234,139.662582644529,139.815872,139.763017736848,139.812515258789,139.666675,139.6683205,139.781127929688,139.693984,139.772521972656,139.788893,139.812387877026,139.734297,139.764516,139.6425192,139.736029,139.760936730606,139.829885481888,139.746575,139.857982697891,139.69095,139.7347203,139.769032161507,139.706928,139.668565,139.655136521,139.719619750977,139.810766581685,139.697262,139.74105361754,139.749779519723,139.783810706027,139.698578,139.669923419846,139.793265467935,139.792892456055,139.827392578125,139.709343714295,139.774910326169,140.042478,139.527359008789,139.770394866889,139.748456,139.767920833043,139.774123,139.683346266264,139.798326492378,139.697002,139.736986031908,139.712306,139.731295513249,139.77231,139.729487089242,139.682388552726,139.709270157008,139.7671348,139.732474800565,139.7290984,139.79515,139.7038372,139.770880043506,139.74843087626,139.719583801925,139.6663407192,139.76271,139.67076168333,139.76242285136,139.730052,139.735812280583,139.7224712,139.704548769964,139.720892278344,139.692538687184,139.742367314732,139.760162353516,139.710556030273,139.681701660156,139.7121304,139.771398,139.732407,139.704173820565,139.637233689919,139.726751346652,139.716334010243,139.698442782394,139.681258,139.698487,139.665985243981,139.735665628017,139.652433172467,139.767060835184,139.702268645195,139.7238112,139.708979,139.765279,139.754974365234,139.665771484375,139.825668334961,139.738931,139.714239,139.722048364868,139.782399,139.695901756,139.710876464844,139.769957818453,139.7609851,139.702208,139.779118,139.770369,139.707534650938,139.703875,139.773531,139.615375,139.722285764214,139.895205,139.739446,139.762100219727,139.701797485352,139.735330344961,139.775764,139.797042128879,139.76814,139.698611,139.7694091,139.690955930586,139.7373209,139.771147,139.762982768206,139.673296594948,139.803501161083,139.71531,139.737774798877,139.759485744741,139.775269699464,139.76370983453,139.765164,139.710494995117,139.6541,139.782073082223,139.7646822,139.703475952148,139.761195,139.7705078125,139.73649597168,139.671613499522,139.700942993164,139.797590838623,139.727093568178,139.76393322012,139.731796,139.795659,139.904802756,139.707510104014,139.607630150694,139.638618719225,139.704483032227,139.787525232614,139.43116,139.6185338,139.7629119,139.73486403942,139.668609534247,139.734939540922,139.718809413295,139.707252296156,139.870101,139.83978659101,140.031637363136,139.739647959398,139.701108964279,139.701239,139.759853,139.692946,139.705453,139.812475308247,139.723143105734,139.665714563229,139.769691,139.770559751054,139.706736,139.728114211864,139.735268642264,139.436534556,139.76581,139.771922,139.736754497817,139.67734687778199,139.778077185323,139.7100653,139.758295507747,139.698217,139.759689331055,139.773048636437,139.761214398227,139.723894,139.737287275756,139.712939924423,139.963046912,139.709804,139.700300790511,139.770407931878,139.6966516,139.770794,139.710711,139.7825317,139.7439172,139.73933470694,139.794109022121,139.727666,139.773379342351,139.72298275206,139.8014968,139.647992253991,139.69885034773,139.715513,139.696318,139.7965107,139.704512,139.769232,139.728083,139.79498,139.7187054,139.770869821763,139.740080335926,139.711108622942,139.44710920454,139.7746281,139.758911,139.742160026665,139.74113,139.701775615185,139.768985,139.797260426941,139.4124322,139.7227537,139.646089,139.655288635075,139.737364388464,139.771621539516,139.728595,139.7109375,139.711884449963,139.695187,139.7692035,139.7221754,139.71809387207,139.575887534586,139.773612,139.737929,139.7711049,139.820488,139.756800327559,139.770549,139.719097454112,139.763026384886,139.702532,139.71398668913,139.756853,139.701316,139.767225,139.705639,139.744581458173,139.736711460899,139.6350573,139.768938378222,139.749608,139.707089,139.621509827884,139.767843828974,139.768184,139.792962,139.711261769649,139.718278239632,139.7075758,139.660140111155,139.796200363899,139.678709445246,139.761179,139.702289969671,139.72216,139.760195353091,139.618333,139.743209838867,139.76505733482,139.724838256836,139.668973415974,139.707732908468,139.77042,139.7206787,139.7698783,139.6944878,139.622767036,139.6173986,139.769199,139.737589780838,139.76498794801,139.766890856821,139.732092737156,139.691088,139.765271,139.714672318096,139.707290649414,139.696408,139.627265,139.771484375,139.703579773424,139.7637704,139.693762,139.683442,139.6227193455,139.92659,139.794965661976,139.692060412818,139.724698232936,139.706872,139.624355,139.762741088867,139.908712729812,139.759072962336,139.708185092335,139.5899492,139.77308716625,139.849812,139.704653,139.770797729492,139.735364,139.6472076,139.771057,139.682467971995,139.45977196391,139.7650921,139.759666204343,139.732669,139.627025129733,139.706308922,139.739865833286,139.553940358892,139.735285,139.6672056,139.762863096455,139.765847323382,139.703018188477,139.701976981395,139.7235128,139.756712655854,139.812135,139.71087637169,139.783596495918,139.764398,139.75776,139.651330286692,139.708278114828,139.744125008583,139.7281811,139.736298,139.733123779297,139.71391869031,139.971138,139.733641,139.695919329601,139.70830898079,139.7160674,139.86107768492,139.723638858916,139.760748,139.7696338,139.768911706836,139.722534179688,139.827523637987,139.986588743516,139.9665021867,139.792579,139.688530643839,139.418386,139.732142,139.636497581921,139.798252,139.774162449651,139.769959296622,139.703124091029,139.835211,139.740404545061,139.667431,139.771469013875,139.756955379076,139.824827983975,139.7046662,139.764907296124,139.618016,139.717021,139.738450297445,139.430905710224,139.717199978242,139.720360227357,139.7061617,139.782722,139.693165533967,139.769233837724,139.765239222351,139.692705895803,139.899385952,139.605844,139.642822265625,139.766265,139.756653744452,139.759949597179,139.734246929844,139.69766,139.627748,139.582691424,139.748900540475,139.812967234715,139.770141601562,139.710867,139.735092,139.620592,139.696643455617,139.7666456,139.766472324074,139.716883,139.637252235314,139.813921,139.677901,139.734567,139.707870483398,139.798156495987,139.748437296627,139.770817,139.729049343185,139.730619,139.627872953921,139.70162964,139.715907368636,139.74249902013,139.784707218314,139.698532,139.760053075203,139.82987165434,139.77477350033,139.694785,139.703891,139.733531,139.780271798791,139.727732353409,139.77199,139.70199,139.729400634766,139.719674923737,139.729426,139.532577514648,139.773497028188,139.770728,139.7707838,139.665717292462,139.710714508317,139.697875976562,139.739199488987,139.764664557439,139.765918590326,139.740022913191,139.740257,139.581634521484,139.783220714653,139.769435652134,139.735415145607,139.784067830027,139.635726297874,139.895746121,139.702066584973,139.761669,139.688978564,139.626239,139.479978,139.7395362,139.646972731371,139.784516,139.73017645074,139.895311517779,139.771027,139.74855960266,139.784616,139.742502,139.770544,139.667205810547,139.692596435547,139.733433,139.771223,139.77564182265,139.713262243907,139.768706,139.636195497749,139.627166534031,139.782441361479,139.411599722963,139.701950389377,139.63372385254,139.745822,139.770023,139.6188705,139.703373,139.684925745106,139.698930334267,139.698722,139.628196008735,139.928428692,139.63089025,139.743384,139.769541,139.749624411212,139.721248337372,139.703442,139.770599365234,139.719116,139.769774908213,139.750105043277,139.760284,139.729261620198,139.760761097509,139.7639301,139.413484338069,139.767921,139.653912,139.770268,139.6969287,139.738735249564,139.727005004883,139.7065146,139.677940076995,139.725214],\"marker\":{\"color\":[4.5,5.0,4.5,4.5,4.5,5.0,4.5,4.5,4.5,4.0,4.5,5.0,4.5,4.5,4.5,4.5,5.0,4.0,5.0,5.0,5.0,4.5,4.0,4.5,4.5,4.5,4.5,4.5,4.0,4.5,5.0,4.0,4.0,4.5,5.0,5.0,5.0,4.5,4.5,4.5,4.0,5.0,4.5,4.0,4.5,4.0,4.5,4.5,5.0,4.5,4.5,4.0,3.5,5.0,4.0,5.0,4.5,4.5,4.5,4.5,4.0,4.5,5.0,5.0,4.0,5.0,5.0,4.0,4.5,5.0,4.5,4.0,5.0,4.5,5.0,4.5,4.0,4.5,4.5,4.5,4.5,5.0,4.5,4.5,4.5,4.0,4.0,5.0,4.5,5.0,5.0,4.5,4.0,4.0,4.0,4.5,4.5,3.5,4.5,4.5,5.0,4.0,4.5,5.0,5.0,5.0,4.5,5.0,4.0,4.5,5.0,5.0,5.0,4.5,4.0,4.5,3.5,4.5,5.0,5.0,5.0,5.0,5.0,4.5,5.0,4.5,4.5,4.5,4.5,5.0,4.0,4.0,5.0,5.0,4.5,4.5,4.0,5.0,4.5,4.5,5.0,5.0,5.0,4.5,4.5,4.5,5.0,4.0,5.0,4.5,5.0,5.0,5.0,5.0,5.0,4.5,4.0,4.0,4.5,4.5,4.0,5.0,4.0,4.5,3.5,4.5,5.0,4.5,4.5,5.0,4.5,4.5,4.5,5.0,4.0,4.5,5.0,4.0,5.0,4.0,4.5,5.0,5.0,4.5,4.0,4.0,4.5,5.0,4.0,4.0,4.5,4.0,4.5,5.0,5.0,4.0,4.5,4.5,5.0,4.0,4.5,4.0,4.5,4.0,4.5,5.0,5.0,3.5,4.5,4.0,4.0,4.0,4.5,3.0,4.5,5.0,5.0,4.5,5.0,5.0,4.5,4.5,4.5,4.5,5.0,5.0,5.0,4.5,4.0,4.5,5.0,4.5,4.5,4.5,4.5,4.0,4.5,5.0,5.0,4.0,4.5,4.5,3.5,5.0,4.5,4.5,4.5,5.0,4.5,5.0,4.5,5.0,4.0,4.5,4.0,4.5,4.0,4.0,4.0,4.0,5.0,4.0,5.0,5.0,4.5,4.0,4.5,5.0,4.5,5.0,5.0,4.0,4.0,4.5,5.0,4.0,4.0,4.0,5.0,4.0,4.5,4.5,5.0,5.0,5.0,4.0,5.0,4.5,4.5,4.0,5.0,5.0,3.5,4.5,4.5,4.5,5.0,4.5,4.0,4.5,4.5,4.0,4.0,4.5,4.5,3.5,4.5,5.0,4.0,4.5,5.0,5.0,4.5,4.5,3.5,3.5,3.0,4.0,4.0,4.0,5.0,4.0,4.0,4.0,4.5,5.0,4.5,4.0,4.5,4.0,5.0,4.0,4.0,3.5,5.0,5.0,5.0,4.5,4.0,5.0,4.0,5.0,5.0,5.0,4.0,4.0,4.0,5.0,4.5,5.0,5.0,4.5,4.5,5.0,5.0,4.5,5.0,4.5,4.5,5.0,4.0,4.5,4.0,4.0,5.0,5.0,5.0,4.0,4.5,4.0,4.0,4.5,5.0,5.0,4.5,4.5,4.0,5.0,5.0,4.0,5.0,3.5,5.0,4.0,4.5,5.0,5.0,2.5,4.0,4.0,4.5,5.0,4.5,5.0,3.0,4.5,4.0,5.0,4.0,4.5,4.0,5.0,4.5,5.0,5.0,4.5,4.0,4.0,4.5,4.5,5.0,4.0,4.5,4.5,4.5,5.0,5.0,5.0,4.0,5.0,4.0,5.0,4.0,4.0,5.0,4.5,4.5,5.0,5.0,4.0,5.0,5.0,5.0,4.0,5.0,5.0,5.0,4.5,4.5,4.5,5.0,5.0,4.0,3.5,3.5,4.0,5.0,5.0,5.0,4.0,4.0,4.5,5.0,4.5,5.0,4.0,5.0,4.0,4.0,4.0,4.5,4.0,5.0,4.0,5.0,5.0,3.0,4.5,4.5,4.5,5.0,4.5,5.0,2.5,4.0,4.0,5.0,5.0,5.0,4.5,4.0,4.5,4.0,4.0,5.0,5.0,5.0,4.5,4.0,4.0,5.0,4.0,5.0,5.0,4.5,3.0,5.0,4.0,4.0,5.0,3.5,5.0,3.0,4.0,5.0,4.5,4.0,4.0,5.0,3.5,4.0,5.0,4.5,5.0,5.0,4.0,5.0,4.0,4.5,4.0,3.5,4.0,5.0,3.5,5.0,5.0,4.5,5.0,4.5,3.5,5.0,4.5,4.0,4.0,4.0,4.5,5.0,4.5,5.0,4.0,4.0,5.0,4.0,4.0,4.0,5.0,4.0,4.0,4.5,5.0,5.0,4.5,5.0,4.0,3.5,4.5,4.5,4.5,4.0,4.0,5.0,5.0,4.5,4.0,4.0,3.0,5.0,5.0,5.0,5.0,4.5,4.5,3.5,4.5,5.0,4.0,4.0,4.5,4.0,5.0,4.5,4.5,5.0,4.0,5.0,5.0,4.5,4.0,3.5,4.0,3.0,5.0,4.5,4.0,4.0,4.0,4.5,5.0,4.5,4.0,5.0,5.0,5.0,4.0,3.0,3.0,5.0,5.0,5.0,4.0,4.0,4.5,4.0,5.0,5.0,4.5,4.0,3.0,5.0,4.5,4.0,4.0,5.0,4.0,4.5,4.5,3.0,3.0,4.5,4.0,4.5,5.0,4.0,5.0,3.5,5.0,4.0,5.0,4.5,3.5,4.5,4.5,5.0,5.0,4.0,4.0,4.5,4.0,3.0,4.0,4.5,4.0,4.5,5.0,5.0,4.5,5.0,5.0,4.0,5.0,4.0,5.0,4.0,4.0,5.0,5.0,4.0,4.0,5.0,5.0,3.0,3.5,4.5,5.0,4.0,3.0,4.0,3.5,5.0,4.5,4.0,5.0,5.0,4.0,4.0,5.0,4.0,4.5,4.0,4.0,4.0,4.0,5.0,4.5,4.0,5.0,4.5,5.0,5.0,3.5,3.5,3.5,3.0,4.0,5.0,4.0,5.0,4.5,5.0,4.0,5.0,4.0,3.5,4.0,4.0,5.0,5.0,4.5,4.0,3.0,5.0,4.5,4.0,4.0,4.0,5.0,4.5,4.0,4.5,4.0,4.0,5.0,4.0,3.0,5.0,4.0,3.5,5.0,5.0,4.0,4.0,5.0,4.0,4.0,3.0,4.5,3.0,4.0,5.0,5.0,4.0,5.0,4.5,3.5,4.0,4.0,4.5,4.0,4.0,5.0,4.5,4.0,4.0,5.0,4.0,5.0,4.5,5.0,4.0,4.0,5.0,4.0,5.0,3.5,3.5,5.0,4.0,3.0,4.0,4.5,5.0,4.0,4.0,5.0,5.0,5.0,5.0,5.0,5.0,3.0,3.5,5.0,4.5,4.0,3.5,4.5,4.5,4.0,4.0,5.0,4.5,3.0,4.0,3.5,4.0,4.5,4.0,4.5,4.0,4.0,5.0,5.0,4.0,4.0,4.0,4.0,2.5,5.0,4.0,4.0,4.0,3.5,2.0,4.5,5.0,4.0,4.0,4.0,4.0,4.0,4.5,4.0,4.0,5.0,4.5,4.5,5.0,4.0,5.0,4.0,4.5,4.0,2.0,5.0,5.0,4.5,4.5,3.0,4.0,4.0,5.0,5.0,3.0,4.0,3.0,3.5,5.0,4.5,4.0,1.5,4.5,4.5,3.5,5.0,5.0,5.0,5.0,3.5,4.0,3.0,4.0,2.0,4.5,4.0,4.5,4.0,3.5,3.5,4.0,4.0,5.0,3.5,2.0,4.5,4.5,5.0,5.0,4.0,3.5,5.0,4.5,4.5,4.5,5.0,5.0,4.0,4.5,3.0,4.5,4.0,4.0,4.0,5.0,5.0,3.5,5.0,4.0,5.0,3.0,1.0,3.5,4.0,4.0,3.0,5.0,3.0,5.0,4.0,4.0,4.5,4.5,3.0,4.0,5.0,4.0,4.0,4.5,3.0,4.0,4.0,5.0,2.0,4.5,5.0,3.5,4.5,3.5,5.0,5.0,4.0,1.0,4.5,4.0,4.5,3.5,4.0,4.0,3.0,4.0,4.0,3.0,3.0,4.0,3.0,4.0,4.0,4.0,4.5,2.5,4.0,3.5,5.0,3.0,5.0,5.0,3.5,5.0,3.5,5.0,5.0,4.0,3.0,5.0,4.0,3.5,5.0,5.0,4.0,4.0,4.0,4.0,3.5,4.0,4.0,4.0,3.0,5.0,5.0,5.0,4.0,4.0,5.0,5.0,4.0,3.0,4.0,4.0,4.0,4.5,5.0],\"coloraxis\":\"coloraxis\",\"size\":[162,49,34,48,119,31,11,60,84,9,2,6,4,49,131,88,6,2,2,11,2,66,12,9,38,9,7,2,14,3,4,5,326,2,5,1,18,19,10,31,5,10,13,12,5,6,34,223,5,34,7,10,26,4,6,2,16,2,41,12,7,6,1,1,6,3,1,7,138,4,128,3,2,5,41,3,1,49,27,2,27,46,273,6,14,9,84,18,2,1,1,3,18,17,31,627,6,15,2,4,1,15,9,1,19,3,35,29,10,2,13,1,53,4,1,21,8,74,1,1,5,4,3,2,1,16,7,17,8,1,1,12,1,5,93,31,14,1,2,17,20,2,1,10,3,2,1,2,12,4,3,3,4,1,6,26,2,1,4,3,32,5,10,484,3,11,5,2,2,1,3,8,31,3,1,7,1,1,1,88,2,2,9,16,63,2,6,1,13,5,44,8,3,1,7,1,8,5,5,1,20,1,5,160,7,6,1,3,6,4,2,2,2,1,3,1,2,11,1,5,2,2,25,2,1,11,2,3,2,8,2,7,2,11,93,4,178,70,1,2,15,3,13,2,3,7,12,1,17,1,2,1,4,6,2,3,4,22,3,12,8,1,1,1,2,2,2,1,12,3,1,2,1,27,2,4,1,2,1,6,33,4,2,1,1,8,1,2,4,8,1,2,3,101,2,3,4,7,21,3,16,1,3,3,2,2,4,5,4,6,1,2,4,3,3,3,1,8,1,3,1,2,313,1,55,1,6,3,9,1,14,5,1,3,8,1,1,3,6,1,1,1,1,17,1,31,22,1,14,1,2,2,3,1,1,10,2,2,11,2,1,5,1,7,5,1,8,31,2,16,1,4,5,1,15,3,1,1,1,1,1,6,2,16,2,1,3,3,1,1,4,1,3,1,14,2,1,4,1,3,55,6,2,1,1,2,1,39,3,6,1,2,3,2,11,6,1,1,2,1,32,2,1,3,2,3,2,1,1,1,12,2,1,9,7,1,4,2,3,2,2,1,1,22,2,1,3,1,1,1,5,24,1,3,27,1,1,6,1,17,27,1,4,100,4,1,2,76,12,3,1,4,1,2,1,1,4,5,1,2,1,4,1,67,2,3,1,3,1,1,1,3,1,2,12,1,1,1,2,2,2,1,4,2,4,2,2,1,1,3,2,3,6,2,1,1,2,1,225,1,14,1,1,20,1,1,7,5,4,6,1,2,2,2,4,3,1,5,4,8,2,1,1,1,5,2,1,4,10,1,4,4,1,1,4,8,3,6,1,1,1,1,6,1,5,1,1,2,1,4,86,3,3,4,7,14,1,10,1,2,2,5,1,2,12,1,8,2,6,1,6,3,2,10,1,1,2,7,11,3,1,1,7,2,5,6,1,3,10,1,2,7,1,2,2,3,1,16,1,5,1,3,1,1,7,4,1,1,2,2,24,1,1,1,11,1,1,1,2,3,2,61,1,1,4,1,2,1,1,5,2,14,2,2,1,12,1,1,1,1,2,1,1,1,2,4,1,1,2,1,3,4,249,3,1,1,4,3,1,3,5,1,1,3,21,1,4,3,1,4,3,2,1,3,1,1,2,1,1,2,3,25,1,1,5,2,4,3,1,2,4,1,8,1,9,1,1,3,1,1,1,2,1,8,2,1,2,3,4,3,1,2,1,1,2,1,5,1,1,8,1,1,1,1,8,5,1,3,1,21,11,1,4,3,1,1,2,1,1,1,23,17,9,2,16,1,52,1,1,9,1,1,1,9,5,1,2,1,1,2,2,2,1,1,1,1,6,1,1,1,3,3,42,1,3,2,96,1,1,1,2,5,1,6,6,2,1,3,11,1,1,1,1,18,48,1,2,1,3,1,2,2,27,3,3,12,1,2,1,1,8,1,1,1,3,3,1,1,1,2,2,1,1,1,4,8,5,1,1,2,1,1,1,1,2,2,1,3,1,2,2,3,10,1,1,1,1,52,1,1,1,1,3,1,12,1,3,3,5,1,1,5,1,3,143,1,1,1,3,1,2,3,8,3,7,1,2,1,5,1,2,1,1,1,2,1,1,1,1,1,3,1,1,1,1,1,1,2,1,4,2,1,9,1,3,2,17,1,3,2,1,2,3,1,2,2,5,1,1,5,1,2,1,2,8,2,1,1,1,1,1,2,1,1,1,1,2,2,5,2,2,1,2,1,1,5,1,2,1,1,113,1,1,1,2,1,2,1,1,1,1,4,2,1,6,1,3,2,1,1,2,1,5,2,3,1,1,5,2,1],\"sizemode\":\"area\",\"sizeref\":0.0627},\"mode\":\"markers\",\"name\":\"\",\"showlegend\":false,\"subplot\":\"mapbox\",\"type\":\"scattermapbox\"}],                        {\"template\":{\"data\":{\"histogram2dcontour\":[{\"type\":\"histogram2dcontour\",\"colorbar\":{\"outlinewidth\":0,\"ticks\":\"\"},\"colorscale\":[[0.0,\"#0d0887\"],[0.1111111111111111,\"#46039f\"],[0.2222222222222222,\"#7201a8\"],[0.3333333333333333,\"#9c179e\"],[0.4444444444444444,\"#bd3786\"],[0.5555555555555556,\"#d8576b\"],[0.6666666666666666,\"#ed7953\"],[0.7777777777777778,\"#fb9f3a\"],[0.8888888888888888,\"#fdca26\"],[1.0,\"#f0f921\"]]}],\"choropleth\":[{\"type\":\"choropleth\",\"colorbar\":{\"outlinewidth\":0,\"ticks\":\"\"}}],\"histogram2d\":[{\"type\":\"histogram2d\",\"colorbar\":{\"outlinewidth\":0,\"ticks\":\"\"},\"colorscale\":[[0.0,\"#0d0887\"],[0.1111111111111111,\"#46039f\"],[0.2222222222222222,\"#7201a8\"],[0.3333333333333333,\"#9c179e\"],[0.4444444444444444,\"#bd3786\"],[0.5555555555555556,\"#d8576b\"],[0.6666666666666666,\"#ed7953\"],[0.7777777777777778,\"#fb9f3a\"],[0.8888888888888888,\"#fdca26\"],[1.0,\"#f0f921\"]]}],\"heatmap\":[{\"type\":\"heatmap\",\"colorbar\":{\"outlinewidth\":0,\"ticks\":\"\"},\"colorscale\":[[0.0,\"#0d0887\"],[0.1111111111111111,\"#46039f\"],[0.2222222222222222,\"#7201a8\"],[0.3333333333333333,\"#9c179e\"],[0.4444444444444444,\"#bd3786\"],[0.5555555555555556,\"#d8576b\"],[0.6666666666666666,\"#ed7953\"],[0.7777777777777778,\"#fb9f3a\"],[0.8888888888888888,\"#fdca26\"],[1.0,\"#f0f921\"]]}],\"heatmapgl\":[{\"type\":\"heatmapgl\",\"colorbar\":{\"outlinewidth\":0,\"ticks\":\"\"},\"colorscale\":[[0.0,\"#0d0887\"],[0.1111111111111111,\"#46039f\"],[0.2222222222222222,\"#7201a8\"],[0.3333333333333333,\"#9c179e\"],[0.4444444444444444,\"#bd3786\"],[0.5555555555555556,\"#d8576b\"],[0.6666666666666666,\"#ed7953\"],[0.7777777777777778,\"#fb9f3a\"],[0.8888888888888888,\"#fdca26\"],[1.0,\"#f0f921\"]]}],\"contourcarpet\":[{\"type\":\"contourcarpet\",\"colorbar\":{\"outlinewidth\":0,\"ticks\":\"\"}}],\"contour\":[{\"type\":\"contour\",\"colorbar\":{\"outlinewidth\":0,\"ticks\":\"\"},\"colorscale\":[[0.0,\"#0d0887\"],[0.1111111111111111,\"#46039f\"],[0.2222222222222222,\"#7201a8\"],[0.3333333333333333,\"#9c179e\"],[0.4444444444444444,\"#bd3786\"],[0.5555555555555556,\"#d8576b\"],[0.6666666666666666,\"#ed7953\"],[0.7777777777777778,\"#fb9f3a\"],[0.8888888888888888,\"#fdca26\"],[1.0,\"#f0f921\"]]}],\"surface\":[{\"type\":\"surface\",\"colorbar\":{\"outlinewidth\":0,\"ticks\":\"\"},\"colorscale\":[[0.0,\"#0d0887\"],[0.1111111111111111,\"#46039f\"],[0.2222222222222222,\"#7201a8\"],[0.3333333333333333,\"#9c179e\"],[0.4444444444444444,\"#bd3786\"],[0.5555555555555556,\"#d8576b\"],[0.6666666666666666,\"#ed7953\"],[0.7777777777777778,\"#fb9f3a\"],[0.8888888888888888,\"#fdca26\"],[1.0,\"#f0f921\"]]}],\"mesh3d\":[{\"type\":\"mesh3d\",\"colorbar\":{\"outlinewidth\":0,\"ticks\":\"\"}}],\"scatter\":[{\"fillpattern\":{\"fillmode\":\"overlay\",\"size\":10,\"solidity\":0.2},\"type\":\"scatter\"}],\"parcoords\":[{\"type\":\"parcoords\",\"line\":{\"colorbar\":{\"outlinewidth\":0,\"ticks\":\"\"}}}],\"scatterpolargl\":[{\"type\":\"scatterpolargl\",\"marker\":{\"colorbar\":{\"outlinewidth\":0,\"ticks\":\"\"}}}],\"bar\":[{\"error_x\":{\"color\":\"#2a3f5f\"},\"error_y\":{\"color\":\"#2a3f5f\"},\"marker\":{\"line\":{\"color\":\"#E5ECF6\",\"width\":0.5},\"pattern\":{\"fillmode\":\"overlay\",\"size\":10,\"solidity\":0.2}},\"type\":\"bar\"}],\"scattergeo\":[{\"type\":\"scattergeo\",\"marker\":{\"colorbar\":{\"outlinewidth\":0,\"ticks\":\"\"}}}],\"scatterpolar\":[{\"type\":\"scatterpolar\",\"marker\":{\"colorbar\":{\"outlinewidth\":0,\"ticks\":\"\"}}}],\"histogram\":[{\"marker\":{\"pattern\":{\"fillmode\":\"overlay\",\"size\":10,\"solidity\":0.2}},\"type\":\"histogram\"}],\"scattergl\":[{\"type\":\"scattergl\",\"marker\":{\"colorbar\":{\"outlinewidth\":0,\"ticks\":\"\"}}}],\"scatter3d\":[{\"type\":\"scatter3d\",\"line\":{\"colorbar\":{\"outlinewidth\":0,\"ticks\":\"\"}},\"marker\":{\"colorbar\":{\"outlinewidth\":0,\"ticks\":\"\"}}}],\"scattermapbox\":[{\"type\":\"scattermapbox\",\"marker\":{\"colorbar\":{\"outlinewidth\":0,\"ticks\":\"\"}}}],\"scatterternary\":[{\"type\":\"scatterternary\",\"marker\":{\"colorbar\":{\"outlinewidth\":0,\"ticks\":\"\"}}}],\"scattercarpet\":[{\"type\":\"scattercarpet\",\"marker\":{\"colorbar\":{\"outlinewidth\":0,\"ticks\":\"\"}}}],\"carpet\":[{\"aaxis\":{\"endlinecolor\":\"#2a3f5f\",\"gridcolor\":\"white\",\"linecolor\":\"white\",\"minorgridcolor\":\"white\",\"startlinecolor\":\"#2a3f5f\"},\"baxis\":{\"endlinecolor\":\"#2a3f5f\",\"gridcolor\":\"white\",\"linecolor\":\"white\",\"minorgridcolor\":\"white\",\"startlinecolor\":\"#2a3f5f\"},\"type\":\"carpet\"}],\"table\":[{\"cells\":{\"fill\":{\"color\":\"#EBF0F8\"},\"line\":{\"color\":\"white\"}},\"header\":{\"fill\":{\"color\":\"#C8D4E3\"},\"line\":{\"color\":\"white\"}},\"type\":\"table\"}],\"barpolar\":[{\"marker\":{\"line\":{\"color\":\"#E5ECF6\",\"width\":0.5},\"pattern\":{\"fillmode\":\"overlay\",\"size\":10,\"solidity\":0.2}},\"type\":\"barpolar\"}],\"pie\":[{\"automargin\":true,\"type\":\"pie\"}]},\"layout\":{\"autotypenumbers\":\"strict\",\"colorway\":[\"#636efa\",\"#EF553B\",\"#00cc96\",\"#ab63fa\",\"#FFA15A\",\"#19d3f3\",\"#FF6692\",\"#B6E880\",\"#FF97FF\",\"#FECB52\"],\"font\":{\"color\":\"#2a3f5f\"},\"hovermode\":\"closest\",\"hoverlabel\":{\"align\":\"left\"},\"paper_bgcolor\":\"white\",\"plot_bgcolor\":\"#E5ECF6\",\"polar\":{\"bgcolor\":\"#E5ECF6\",\"angularaxis\":{\"gridcolor\":\"white\",\"linecolor\":\"white\",\"ticks\":\"\"},\"radialaxis\":{\"gridcolor\":\"white\",\"linecolor\":\"white\",\"ticks\":\"\"}},\"ternary\":{\"bgcolor\":\"#E5ECF6\",\"aaxis\":{\"gridcolor\":\"white\",\"linecolor\":\"white\",\"ticks\":\"\"},\"baxis\":{\"gridcolor\":\"white\",\"linecolor\":\"white\",\"ticks\":\"\"},\"caxis\":{\"gridcolor\":\"white\",\"linecolor\":\"white\",\"ticks\":\"\"}},\"coloraxis\":{\"colorbar\":{\"outlinewidth\":0,\"ticks\":\"\"}},\"colorscale\":{\"sequential\":[[0.0,\"#0d0887\"],[0.1111111111111111,\"#46039f\"],[0.2222222222222222,\"#7201a8\"],[0.3333333333333333,\"#9c179e\"],[0.4444444444444444,\"#bd3786\"],[0.5555555555555556,\"#d8576b\"],[0.6666666666666666,\"#ed7953\"],[0.7777777777777778,\"#fb9f3a\"],[0.8888888888888888,\"#fdca26\"],[1.0,\"#f0f921\"]],\"sequentialminus\":[[0.0,\"#0d0887\"],[0.1111111111111111,\"#46039f\"],[0.2222222222222222,\"#7201a8\"],[0.3333333333333333,\"#9c179e\"],[0.4444444444444444,\"#bd3786\"],[0.5555555555555556,\"#d8576b\"],[0.6666666666666666,\"#ed7953\"],[0.7777777777777778,\"#fb9f3a\"],[0.8888888888888888,\"#fdca26\"],[1.0,\"#f0f921\"]],\"diverging\":[[0,\"#8e0152\"],[0.1,\"#c51b7d\"],[0.2,\"#de77ae\"],[0.3,\"#f1b6da\"],[0.4,\"#fde0ef\"],[0.5,\"#f7f7f7\"],[0.6,\"#e6f5d0\"],[0.7,\"#b8e186\"],[0.8,\"#7fbc41\"],[0.9,\"#4d9221\"],[1,\"#276419\"]]},\"xaxis\":{\"gridcolor\":\"white\",\"linecolor\":\"white\",\"ticks\":\"\",\"title\":{\"standoff\":15},\"zerolinecolor\":\"white\",\"automargin\":true,\"zerolinewidth\":2},\"yaxis\":{\"gridcolor\":\"white\",\"linecolor\":\"white\",\"ticks\":\"\",\"title\":{\"standoff\":15},\"zerolinecolor\":\"white\",\"automargin\":true,\"zerolinewidth\":2},\"scene\":{\"xaxis\":{\"backgroundcolor\":\"#E5ECF6\",\"gridcolor\":\"white\",\"linecolor\":\"white\",\"showbackground\":true,\"ticks\":\"\",\"zerolinecolor\":\"white\",\"gridwidth\":2},\"yaxis\":{\"backgroundcolor\":\"#E5ECF6\",\"gridcolor\":\"white\",\"linecolor\":\"white\",\"showbackground\":true,\"ticks\":\"\",\"zerolinecolor\":\"white\",\"gridwidth\":2},\"zaxis\":{\"backgroundcolor\":\"#E5ECF6\",\"gridcolor\":\"white\",\"linecolor\":\"white\",\"showbackground\":true,\"ticks\":\"\",\"zerolinecolor\":\"white\",\"gridwidth\":2}},\"shapedefaults\":{\"line\":{\"color\":\"#2a3f5f\"}},\"annotationdefaults\":{\"arrowcolor\":\"#2a3f5f\",\"arrowhead\":0,\"arrowwidth\":1},\"geo\":{\"bgcolor\":\"white\",\"landcolor\":\"#E5ECF6\",\"subunitcolor\":\"white\",\"showland\":true,\"showlakes\":true,\"lakecolor\":\"white\"},\"title\":{\"x\":0.05},\"mapbox\":{\"style\":\"light\"}}},\"mapbox\":{\"domain\":{\"x\":[0.0,1.0],\"y\":[0.0,1.0]},\"center\":{\"lat\":35.672173367919626,\"lon\":139.73876467543846},\"zoom\":10,\"style\":\"carto-positron\"},\"coloraxis\":{\"colorbar\":{\"title\":{\"text\":\"rating\"}},\"colorscale\":[[0.0,\"rgb(0,0,255)\"],[0.1,\"rgb(51,153,255)\"],[0.2,\"rgb(102,204,255)\"],[0.3,\"rgb(153,204,255)\"],[0.4,\"rgb(204,204,255)\"],[0.5,\"rgb(255,255,255)\"],[0.6,\"rgb(255,204,255)\"],[0.7,\"rgb(255,153,255)\"],[0.8,\"rgb(255,102,204)\"],[0.9,\"rgb(255,102,102)\"],[1.0,\"rgb(255,0,0)\"]]},\"legend\":{\"tracegroupgap\":0,\"itemsizing\":\"constant\"},\"margin\":{\"t\":60}},                        {\"responsive\": true}                    ).then(function(){\n",
       "                            \n",
       "var gd = document.getElementById('23c9b369-2600-4807-a1fb-0761fb395e73');\n",
       "var x = new MutationObserver(function (mutations, observer) {{\n",
       "        var display = window.getComputedStyle(gd).display;\n",
       "        if (!display || display === 'none') {{\n",
       "            console.log([gd, 'removed!']);\n",
       "            Plotly.purge(gd);\n",
       "            observer.disconnect();\n",
       "        }}\n",
       "}});\n",
       "\n",
       "// Listen for the removal of the full notebook cells\n",
       "var notebookContainer = gd.closest('#notebook-container');\n",
       "if (notebookContainer) {{\n",
       "    x.observe(notebookContainer, {childList: true});\n",
       "}}\n",
       "\n",
       "// Listen for the clearing of the current output cell\n",
       "var outputEl = gd.closest('.output');\n",
       "if (outputEl) {{\n",
       "    x.observe(outputEl, {childList: true});\n",
       "}}\n",
       "\n",
       "                        })                };                });            </script>        </div>"
      ]
     },
     "metadata": {},
     "output_type": "display_data"
    }
   ],
   "source": [
    "# Plot on map\n",
    "\n",
    "fig = px.scatter_mapbox(df, lat=\"latitude\", lon=\"longitude\", color=\"rating\", size=\"review_count\",\n",
    "                  color_continuous_scale=px.colors.diverging.Picnic, size_max=100, zoom=10,\n",
    "                  mapbox_style=\"carto-positron\", hover_data=['name', 'review_count', 'rating'])\n",
    "fig.show()"
   ]
  },
  {
   "cell_type": "code",
   "execution_count": 41,
   "id": "12083938",
   "metadata": {},
   "outputs": [],
   "source": [
    "fig.write_html('full_html.html')\n",
    "fig.write_html('small_html.html', full_html = False, include_plotlyjs = 'cdn')"
   ]
  }
 ],
 "metadata": {
  "kernelspec": {
   "display_name": "Python (dojo-env)",
   "language": "python",
   "name": "dojo-env"
  },
  "language_info": {
   "codemirror_mode": {
    "name": "ipython",
    "version": 3
   },
   "file_extension": ".py",
   "mimetype": "text/x-python",
   "name": "python",
   "nbconvert_exporter": "python",
   "pygments_lexer": "ipython3",
   "version": "3.9.15"
  },
  "toc": {
   "base_numbering": 1,
   "nav_menu": {},
   "number_sections": false,
   "sideBar": true,
   "skip_h1_title": false,
   "title_cell": "Table of Contents",
   "title_sidebar": "Contents",
   "toc_cell": false,
   "toc_position": {},
   "toc_section_display": true,
   "toc_window_display": false
  }
 },
 "nbformat": 4,
 "nbformat_minor": 5
}
